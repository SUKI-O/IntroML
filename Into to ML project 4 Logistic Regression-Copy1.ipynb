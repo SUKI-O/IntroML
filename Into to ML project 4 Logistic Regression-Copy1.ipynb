{
 "cells": [
  {
   "cell_type": "markdown",
   "metadata": {},
   "source": [
    "# 605.649 — Introduction to Machine Learning\n",
    "##  Programming Project 4  \n",
    "## Lgistic Regression & Adaline\n",
    "  \n",
    "[Project4]\n",
    "1. Breast Cancer\n",
    "https://archive.ics.uci.edu/ml/datasets/Breast+Cancer+Wisconsin+%28Original%29\n",
    "This breast cancer databases was obtained from the University of Wisconsin Hospitals, Madison from\n",
    "Dr. William H. Wolberg.\n",
    "2. Glass\n",
    "https://archive.ics.uci.edu/ml/datasets/Glass+Identification\n",
    "The study of classification of types of glass was motivated by criminological investigation.\n",
    "3. Iris\n",
    "https://archive.ics.uci.edu/ml/datasets/Iris\n",
    "The data set contains 3 classes of 50 instances each, where each class refers to a type of iris plant.\n",
    "4. Soybean (small)\n",
    "https://archive.ics.uci.edu/ml/datasets/Soybean+%28Small%29\n",
    "A small subset of the original soybean database.\n",
    "5. Vote\n",
    "https://archive.ics.uci.edu/ml/datasets/Congressional+Voting+Records\n",
    "This data set includes votes for each of the U.S. House of Representatives Congressmen on the 16 key votes identified by the Congressional Quarterly Almanac. Remember that “?” represents “abstain.” When using these data sets, be careful of some issues.\n",
    "1. Not all of these data sets correspond to 2-class classification problems. \n",
    "A method for handling multiclassclassification was described for Logistic Regression. For Adaline, you will need to treat the outputs independently. Note that if you wish to apply a one-vs-one or one-vs-all strategy for the Adaline neuralnetwork, that is acceptable. Just be sure to explain your strategy in your report.\n",
    "2. Some of the data sets have missing attribute values, which is usually indicated by “?”. \n",
    "When thisoccurs in low numbers, you may simply edit the corresponding data items out of the data sets. Formore occurrences, you should do some kind of “data imputation” where, basically, you generate avalue of some kind. A naïve approach is to impute the missing value with a random number or the attribute’s mean (or median). A better approach is to sample according to the conditional probability of the values occurring, given the underlying class for that example. The choice of strategy is yours, but be sure to document your choice.\n",
    "3. The attributes should not require any special handling with either model.\n",
    "It is highly recommended that you normalize the numerical attributes first to be in the range -1 to +1 or by using z-score normalization (i.e., z = (x 􀀀 \u0016)=\u001b) and apply the inputs directly. \n",
    "\n",
    "For this project, the following steps are required:\n",
    "-  Download the five (5) data sets from the UCI Machine Learning repository. You can find this repositoryat http://archive.ics.uci.edu/ml/. The data sets are also available in Blackboard. All of the specific URLs are also provided above.\n",
    "-  Pre-process each data set as necessary to handle missing data and proper normalization.\n",
    "-  Implement Adaline and Logistic Regression.\n",
    "-  Run your algorithms on each of the data sets. These runs should be done with 5-fold cross-validation so you can compare your results statistically. You can use classification error, cross entropy loss, or mean squared error (as appropriate) for your loss function. Note that there are a number of hyper-parameters that also need to be tuned.\n",
    "- Run your algorithms on each of the data sets. These runs should output the learned models in a way that can be interpreted by a human, and they should output the classifications on all of the test examples. If you are doing cross-validation, just output classifications for one fold each.\n",
    "- Write a very brief paper that incorporates the following elements, summarizing the results of your experiments. Your paper is required to be at least 5 pages and no more than 10 pages using the JMLR format You can find templates for this format at http://www.jmlr.org/format/format.html. The format is also available within Overleaf.\n",
    "1. Title and author name\n",
    "2. Problem statement, including hypothesis, projecting how you expect each algorithm to perform\n",
    "3. Brief description of your experimental approach, including any assumptions made with your algorithms\n",
    "4. Presentation of the results of your experiments\n",
    "5. A discussion of the behavior of your algorithms, combined with any conclusions you can draw\n",
    "6. Conclusion\n",
    "7. References (Only required if you use a resource other than the course content.)\n",
    "-  Submit your fully documented code, the video demonstrating the running of your programs, and your paper.\n",
    "-  For the video, the following constitute minimal requirements that must be satisfied:\n",
    "    - The video is to be no longer than 5 minutes long.\n",
    "    - The video should be provided in mp4 format. Alternatively, it can be uploaded to a streaming service such as YouTube with a link provided.\n",
    "    - Fast forwarding is permitted through long computational cycles. Fast forwarding is not permitted whenever there is a voice-over or when results are being presented.\n",
    "    - Be sure to provide verbal commentary or explanation on all of the elements you are demonstrating.\n",
    "    - Provide sample outputs from one test set showing classification performance on Adaline and Logistic Regression.\n",
    "    - Show a sample trained Adaline model and Logistic Regression model.\n",
    "    - Demonstrate the weight updates for Adaline and Logistic Regression. For Logistic Regression, show the multi-class case.\n",
    "    - Demonstrate the gradient calculation for Adaline and Logistic Regression. For Logistic Regression, show the multi-class case.\n",
    "    - Show the average performance over the five folds for Adaline and Logistic Regression."
   ]
  },
  {
   "cell_type": "code",
   "execution_count": 1,
   "metadata": {},
   "outputs": [],
   "source": [
    "# Importing Libraries\n",
    "%matplotlib inline\n",
    "import numpy as np\n",
    "import pandas as pd\n",
    "import math\n",
    "import matplotlib.pyplot as plt\n",
    "import copy\n",
    "from numpy import array, newaxis, expand_dims"
   ]
  },
  {
   "cell_type": "markdown",
   "metadata": {},
   "source": [
    "# Loading Data and Preprocessing"
   ]
  },
  {
   "cell_type": "markdown",
   "metadata": {},
   "source": [
    "### Helper Functions"
   ]
  },
  {
   "cell_type": "code",
   "execution_count": 2,
   "metadata": {},
   "outputs": [],
   "source": [
    "def str_to_int(df, col_indx):\n",
    "    \"\"\"\n",
    "    Function to convert string value to unique integers **in place** and return dictionary \n",
    "    Input: df :pd.DataFrame\n",
    "           col_index: column index\n",
    "    output: dictionary: dict to map str : int\n",
    "    \"\"\"\n",
    "    col = df[col_indx]\n",
    "    row = len(col)\n",
    "    keys = pd.unique(df[col_indx])\n",
    "    dictionary = dict(zip(keys, np.linspace(0,len(keys)-1,len(keys),dtype=int)))\n",
    "    for j in range(row):\n",
    "        df.iloc[j, col_indx] = dictionary[df[col_indx][j]]\n",
    "    return dictionary"
   ]
  },
  {
   "cell_type": "code",
   "execution_count": 3,
   "metadata": {},
   "outputs": [],
   "source": [
    "def normalize(col, e = 1e-9):\n",
    "        \"\"\"\n",
    "        convert array into a z-score \n",
    "        input: column vector\n",
    "        output: z-scored column vector\n",
    "        \"\"\"\n",
    "        mu = np.mean(col)\n",
    "        std = np.std(col)\n",
    "        return np.array([(x-mu+e)/(std+e) for x in col])"
   ]
  },
  {
   "cell_type": "code",
   "execution_count": 4,
   "metadata": {},
   "outputs": [],
   "source": [
    "def normalize_data(df, e = 1e-9):\n",
    "    \"\"\"\n",
    "    turns a dataframe into z-score values\n",
    "    input : pd.DataFrame\n",
    "    \"\"\" \n",
    "    n_row, n_col = df.shape\n",
    "    df_norm = df.copy()\n",
    "    \n",
    "    for idx in range(n_col):\n",
    "        df_norm.iloc[:, idx] = normalize(df.iloc[:,idx])\n",
    "        \n",
    "    return df_norm"
   ]
  },
  {
   "cell_type": "code",
   "execution_count": 5,
   "metadata": {},
   "outputs": [],
   "source": [
    "# one hot encoding \n",
    "def one_hot(col):\n",
    "    keys = np.unique(col)\n",
    "    dictionary = dict(zip(keys, np.linspace(0,len(keys)-1,len(keys),dtype=int)))\n",
    "    mat = []\n",
    "    for val in col:\n",
    "        arr = [0]*len(keys)\n",
    "        arr[dictionary[val]] = 1\n",
    "        mat.append(arr)\n",
    "    return mat"
   ]
  },
  {
   "cell_type": "markdown",
   "metadata": {},
   "source": [
    "## Data "
   ]
  },
  {
   "cell_type": "code",
   "execution_count": 6,
   "metadata": {},
   "outputs": [
    {
     "data": {
      "text/plain": [
       "(9, 699)"
      ]
     },
     "execution_count": 6,
     "metadata": {},
     "output_type": "execute_result"
    }
   ],
   "source": [
    "# Breast Cancer (classification)\n",
    "# the last column is the target\n",
    "file_loc = './Data_Set/breast-cancer-wisconsin.data'\n",
    "bc = pd.read_csv(file_loc, header = None)\n",
    "bc = bc.iloc[:, 1:] # dropping 1st column since they are unique identifiers.\n",
    "bc.columns = [i for i in range(len(bc.columns))] #fixing the columns index num\n",
    "#imputing missing values\n",
    "NAs = []\n",
    "for i in range(10):\n",
    "    for j in range(698):\n",
    "        if bc[i][j]== '?':\n",
    "            NAs.append([i,j])\n",
    "bc_vals = bc[5][bc[5]!='?'].astype('int')\n",
    "samples = np.random.choice(bc_vals, 16).copy()  ## imputing missing value with sample taken from the same feature col.\n",
    "for k, i in enumerate(NAs):\n",
    "    bc.iloc[i[1],i[0]] = samples[k]\n",
    "for col in range(bc.shape[1]):        # converting all num to np.int64\n",
    "    bc[col] = bc[col].astype('int64')\n",
    "bc_X = bc.iloc[:, :-1]\n",
    "bc_X_norm = normalize_data(bc_X)\n",
    "bc_X = np.array(bc_X_norm).T\n",
    "bc_y = np.array([0 if x == 2 else 1 for x in bc.iloc[:,-1]])\n",
    "bc_X.shape"
   ]
  },
  {
   "cell_type": "code",
   "execution_count": 231,
   "metadata": {},
   "outputs": [
    {
     "data": {
      "text/plain": [
       "array([[ 0.87286769, -0.24933306, -0.72131749, ...,  0.75404643,\n",
       "        -0.612398  , -0.41436258],\n",
       "       [ 0.28495326,  0.59181718,  0.14993314, ...,  1.16872135,\n",
       "         1.19327046,  1.00915211],\n",
       "       [ 1.25463857,  0.63616803,  0.60142249, ..., -1.86551055,\n",
       "        -1.86551055, -1.86551055],\n",
       "       ...,\n",
       "       [-0.14576634, -0.79373376, -0.82894938, ..., -0.36410319,\n",
       "        -0.33593069, -0.23732695],\n",
       "       [-0.35287683, -0.35287683, -0.35287683, ...,  2.95320036,\n",
       "         2.81208731,  3.01367738],\n",
       "       [-0.58645089, -0.58645089, -0.58645089, ..., -0.58645089,\n",
       "        -0.58645089, -0.58645089]])"
      ]
     },
     "execution_count": 231,
     "metadata": {},
     "output_type": "execute_result"
    }
   ],
   "source": [
    "# Glass\n",
    "file_loc = './Data_Set/glass.data'\n",
    "glass = pd.read_csv(file_loc, header = None)\n",
    "glass = glass.iloc[:, 1:] # dropping 1st column since they are unique identifiers.\n",
    "glass_label = np.array(glass.iloc[:, -1])\n",
    "glass_y = np.array(glass.iloc[:, -1])\n",
    "glass_X = glass.iloc[:, :-1]\n",
    "glass_X_norm = normalize_data(glass_X).T # converting to z-score\n",
    "glass_X = np.array(glass_X_norm)\n",
    "glass_y = np.array(glass_y)-1\n",
    "glass_y = np.array(one_hot(glass_y)).T\n",
    "glass_X"
   ]
  },
  {
   "cell_type": "code",
   "execution_count": 8,
   "metadata": {},
   "outputs": [
    {
     "data": {
      "text/plain": [
       "(4, 150)"
      ]
     },
     "execution_count": 8,
     "metadata": {},
     "output_type": "execute_result"
    }
   ],
   "source": [
    "# iris\n",
    "file_loc = './Data_Set/iris.data'\n",
    "iris = pd.read_csv(file_loc, header = None)\n",
    "str_to_int(iris, 4) # converting string to int\n",
    "iris_label = np.array(iris.iloc[:, -1])\n",
    "iris_y = np.array(iris.iloc[:, -1])\n",
    "iris_X = iris.iloc[:, :-1]\n",
    "iris_X_norm = normalize_data(iris_X) # converting to z-score\n",
    "iris_X = np.array(iris_X_norm).T\n",
    "iris_y = np.array(one_hot(iris_y)).T\n",
    "iris_X.shape"
   ]
  },
  {
   "cell_type": "code",
   "execution_count": 9,
   "metadata": {},
   "outputs": [
    {
     "data": {
      "text/plain": [
       "(35, 47)"
      ]
     },
     "execution_count": 9,
     "metadata": {},
     "output_type": "execute_result"
    }
   ],
   "source": [
    "# soybean\n",
    "file_loc = './Data_Set/soybean-small.data'\n",
    "soybean = pd.read_csv(file_loc, header = None)\n",
    "str_to_int(soybean, 35)\n",
    "soybean_label = soybean.iloc[:, -1]\n",
    "soybean_y = soybean.iloc[:, -1]\n",
    "soybean_X = soybean.iloc[:, :-1]\n",
    "soybean_X_norm = normalize_data(soybean_X) # converting to z-score\n",
    "soybean_X = np.array(soybean_X_norm).T\n",
    "soybean_y = np.array(soybean_y)\n",
    "soybean_y = np.array(one_hot(soybean_y)).T\n",
    "soybean_X.shape"
   ]
  },
  {
   "cell_type": "code",
   "execution_count": 10,
   "metadata": {},
   "outputs": [
    {
     "data": {
      "text/plain": [
       "(16, 435)"
      ]
     },
     "execution_count": 10,
     "metadata": {},
     "output_type": "execute_result"
    }
   ],
   "source": [
    "# vote \n",
    "file_loc = './Data_Set/house-votes-84.data'\n",
    "vote = np.loadtxt(file_loc,delimiter=',', dtype=str)\n",
    "# replaceing y =1, n= -1, ? = 0\n",
    "d_vote = {'republican':1, 'democrat':0, 'n':-1, 'y':1, '?':0}\n",
    "vote_X = vote[:,1:] # features\n",
    "n_row, n_col= vote_X.shape\n",
    "vote_X_num = vote_X.copy()\n",
    "vote_X_norm = vote_X.copy()\n",
    "for i in range(n_row):\n",
    "    for j in range(n_col):\n",
    "        vote_X_num[i, j] = d_vote[vote_X[i,j]]\n",
    "vote_X_num = vote_X_num.astype(float)\n",
    "for i in range(n_col):\n",
    "    vote_X_norm[:, i] = normalize(vote_X_num[:,i])\n",
    "vote_X= vote_X_norm.astype(float).T\n",
    "# extracting target and converting it to integers as 'republican':1, 'democrat':0\n",
    "vote_y = np.array([d_vote[party] for party in vote[:,0]]).T # target \n",
    "vote_X.shape"
   ]
  },
  {
   "cell_type": "markdown",
   "metadata": {},
   "source": [
    "## Cross Validation "
   ]
  },
  {
   "cell_type": "code",
   "execution_count": 11,
   "metadata": {},
   "outputs": [],
   "source": [
    "# cross_validation (stratefied) 5 fold:\n",
    "def stratefied_cross_validation(data_y, k_fold = 5):\n",
    "    \"\"\"\n",
    "    Function to split data for stratefied k-fold cv testing where each group have same class representation, plus 10% validation set\n",
    "    Input: data_X, data_y -- original data, target feature id\n",
    "    Output: k_fold_idx, tuning_set -- 'indeces' of stratefied k-fold cv sets, and tuning set \n",
    "    \"\"\"\n",
    "    N = data_y.shape[0]\n",
    "    index = [i for i in range(N)]\n",
    "    np.random.shuffle(index)\n",
    "    tuning_set = index[:int(N/10)]\n",
    "    remain= index[int(N/10):]\n",
    "    # among the remain, group the data into each classifications\n",
    "    k_splits = [[] for _ in range(k_fold)]\n",
    "    classes = np.unique(data_y)\n",
    "    for c in classes:\n",
    "        group = [idx for idx in remain if data_y[idx]==c]\n",
    "        np.random.shuffle(group)\n",
    "        group_k_splits = np.array_split(group, k_fold)\n",
    "        np.random.shuffle(group_k_splits)\n",
    "        for k in range(k_fold):\n",
    "            holdout = group_k_splits[k]\n",
    "            np.random.shuffle(holdout)\n",
    "            k_splits[k].extend(holdout)\n",
    "            \n",
    "    k_fold_idx = []\n",
    "    for k in range(k_fold):\n",
    "        test_set = k_splits[k]\n",
    "        training_idx = [i for i in range(k_fold) if i !=k]\n",
    "        train_set = []\n",
    "        for i in training_idx:\n",
    "            train_set.extend(k_splits[i])\n",
    "        k_fold_idx.append((train_set, test_set))   \n",
    "        \n",
    "    return k_fold_idx, tuning_set"
   ]
  },
  {
   "cell_type": "markdown",
   "metadata": {},
   "source": [
    "## Helper functions"
   ]
  },
  {
   "cell_type": "code",
   "execution_count": 12,
   "metadata": {},
   "outputs": [],
   "source": [
    "def accuracy(test_y, y_hats):\n",
    "    \"\"\"\n",
    "    Input: data_y, true value vector, y_hat, prediction vector\n",
    "    Output: accuracy as number of correct prediction/ total population\n",
    "    \"\"\"\n",
    "    correct = 0\n",
    "    N = len(test_y)\n",
    "    for i in range(len(test_y)):\n",
    "        correct += test_y[i] == y_hats[i]\n",
    "    return correct/N"
   ]
  },
  {
   "cell_type": "code",
   "execution_count": 13,
   "metadata": {},
   "outputs": [],
   "source": [
    "def sigmoid(z):\n",
    "    \"\"\"\n",
    "    Compute the sigmoid of z\n",
    "\n",
    "    Input: z, np.array\n",
    "    Output: s, sigmoid(z)\n",
    "    \"\"\" \n",
    "    return 1/(1+np.exp(-z)) "
   ]
  },
  {
   "cell_type": "code",
   "execution_count": 14,
   "metadata": {},
   "outputs": [],
   "source": [
    "def initialize(m, c):\n",
    "    \"\"\"\n",
    "    Input: m -- size of the w vector\n",
    "           c -- num of class\n",
    "    Output:w -- initialized vector of shape (n, 1)\n",
    "           b -- initialized scalar (0)\n",
    "    \"\"\"\n",
    "    w = np.random.uniform(-0.01, 0.01, (m*c))\n",
    "    W = np.reshape(w, (c, m))#[:,:,newaxis]\n",
    "    b = np.zeros((c,1))\n",
    "    return W, b"
   ]
  },
  {
   "cell_type": "code",
   "execution_count": 15,
   "metadata": {},
   "outputs": [],
   "source": [
    "m, n = bc_X.shape\n",
    "c = len(np.unique(bc_y))\n",
    "W, B = initialize(m, c)"
   ]
  },
  {
   "cell_type": "code",
   "execution_count": 16,
   "metadata": {},
   "outputs": [
    {
     "data": {
      "text/plain": [
       "0.6976859980744126"
      ]
     },
     "execution_count": 16,
     "metadata": {},
     "output_type": "execute_result"
    }
   ],
   "source": [
    "X = bc_X\n",
    "i = 0\n",
    "Y = bc_y\n",
    "sigmoid(np.dot(W[0].T, X)+B[0])\n",
    "A = sigmoid(np.dot(W[0].T,X)+B[0])                     \n",
    "# compute activation\n",
    "cross_entropy =  -np.mean(Y*np.log(A)+(1-Y)*np.log(1-A))\n",
    "cross_entropy"
   ]
  },
  {
   "cell_type": "code",
   "execution_count": 258,
   "metadata": {},
   "outputs": [],
   "source": [
    "def softmax(p):\n",
    "    \"\"\"\n",
    "    Input: p -- vector containg (x.TX+b) terms for each data points, size (num_class, num samples)\n",
    "    Output: p_softmax -- data of size (num_class, num samples)\n",
    "    \"\"\"\n",
    "    nom = np.exp(p)\n",
    "    denom = nom.sum(axis = 1)[:, None]\n",
    "    return nom/denom"
   ]
  },
  {
   "cell_type": "code",
   "execution_count": 169,
   "metadata": {},
   "outputs": [],
   "source": [
    "X = soybean_X\n",
    "Y = soybean_y\n",
    "label = soybean_label\n",
    "m, n = X.shape\n",
    "c = len(np.unique(soybean_label))\n",
    "W, B = initialize(m, c)\n",
    "p = np.dot(W, X)+B\n",
    "A =softmax(p)"
   ]
  },
  {
   "cell_type": "code",
   "execution_count": 227,
   "metadata": {},
   "outputs": [
    {
     "name": "stderr",
     "output_type": "stream",
     "text": [
      "<ipython-input-227-d33f2a990913>:3: RuntimeWarning: overflow encountered in exp\n",
      "  np.exp(1e10)\n"
     ]
    },
    {
     "data": {
      "text/plain": [
       "inf"
      ]
     },
     "execution_count": 227,
     "metadata": {},
     "output_type": "execute_result"
    }
   ],
   "source": [
    "cross_entropy = - np.mean(np.dot(Y.T, np.log(A))+np.dot((1-Y).T,np.log(1-A)))\n",
    "dw = (1/n)*np.dot((A-Y), X.T)\n",
    "p"
   ]
  },
  {
   "cell_type": "code",
   "execution_count": 171,
   "metadata": {},
   "outputs": [
    {
     "data": {
      "text/plain": [
       "array([[-0.19148936],\n",
       "       [-0.19148936],\n",
       "       [-0.19148936],\n",
       "       [-0.34042553]])"
      ]
     },
     "execution_count": 171,
     "metadata": {},
     "output_type": "execute_result"
    }
   ],
   "source": [
    "np.mean((A-Y), axis = 1).reshape(B.shape)"
   ]
  },
  {
   "cell_type": "code",
   "execution_count": 223,
   "metadata": {},
   "outputs": [
    {
     "data": {
      "text/plain": [
       "(6, 9)"
      ]
     },
     "execution_count": 223,
     "metadata": {},
     "output_type": "execute_result"
    }
   ],
   "source": [
    "X = glass_X\n",
    "Y = glass_y\n",
    "label = glass_label\n",
    "m, n = X.shape\n",
    "c = len(np.unique(label))\n",
    "W, B = initialize(m, c)\n",
    "p = np.dot(W, X)+B\n",
    "e = 1e-9\n",
    "A =softmax(p)\n",
    "cross_entropy = -np.mean(np.dot(Y.T, np.log(A+e))+np.dot((1-Y).T,np.log(1-A+e)))\n",
    "dw = (1/n)*np.dot((A-Y), X.T)#.reshape(w.shape)\n",
    "dw.shape"
   ]
  },
  {
   "cell_type": "code",
   "execution_count": 267,
   "metadata": {},
   "outputs": [],
   "source": [
    "def train(w, b, X, Y, multiclass = False):\n",
    "    \"\"\"\n",
    "    Implement the cross_entropy function and its gradient\n",
    "\n",
    "    Inputs:\n",
    "    w -- weights, a numpy array of size (feature, num class)\n",
    "    b -- bias, a scalar for binary, a vecor of l\n",
    "    X -- data of size (feature, number of examples)\n",
    "    Y -- true \"label\" vector of size (1, number of examples)\n",
    "\n",
    "    Outputs:\n",
    "    cross_entropy -- negative log-likelihood cross_entropy for logistic regression\n",
    "    dw -- gradient of the loss with respect to w, thus same shape as w\n",
    "    db -- gradient of the loss with respect to b, thus same shape as b\n",
    "    \"\"\"\n",
    "    e = 1e-9\n",
    "    \n",
    "    m, n = X.shape  # number of samples in train set\n",
    "    \n",
    "    if multiclass == False:\n",
    "        # Find a & cross_entropy\n",
    "        A = sigmoid(np.dot(w.T,X)+b)   # activation\n",
    "        cross_entropy = (1/n)*np.sum(Y*np.log(A+e)+(1-Y)*np.log(1-A+e))  # cross_entropy\n",
    "        # update for GRADIENT DESCENT\n",
    "        dw = (1/n)*np.dot(X,(A-Y).T).reshape(w.shape)\n",
    "        db = (1/n)*np.sum(A-Y).reshape(b.shape)\n",
    "        \n",
    "    else:\n",
    "        A = softmax(np.dot(w, X)+b)\n",
    "        cross_entropy = -np.mean(np.dot(Y.T, np.log(A+e))+np.dot((1-Y).T,np.log(1-A+e)))  # cross_entropy\n",
    "        # update for GRADIENT DESCENT\n",
    "        dw = (1/n)*np.dot((A-Y), X.T).reshape(w.shape)\n",
    "        db = (1/n)*np.sum((A-Y), axis= 1).reshape(b.shape)    \n",
    "        \n",
    "    assert(dw.shape == w.shape)\n",
    "    assert(db.shape == b.shape)\n",
    "    cross_entropy = np.squeeze(cross_entropy)\n",
    "    \n",
    "    grads = {\"dw\": dw,\n",
    "             \"db\": db}\n",
    "    \n",
    "    return grads, cross_entropy"
   ]
  },
  {
   "cell_type": "code",
   "execution_count": 245,
   "metadata": {},
   "outputs": [
    {
     "data": {
      "text/plain": [
       "({'dw': array([-0.33798794, -0.38556399, -0.38610233, -0.3282293 , -0.3209211 ,\n",
       "         -0.38029845, -0.35609001, -0.33469545, -0.19742554]),\n",
       "  'db': array([0.15522145])},\n",
       " 0.6873719954778436)"
      ]
     },
     "execution_count": 245,
     "metadata": {},
     "output_type": "execute_result"
    }
   ],
   "source": [
    "m, n = bc_X.shape\n",
    "c = len(np.unique(bc_y))\n",
    "W, B = initialize(m, c)\n",
    "X = bc_X\n",
    "Y = bc_y\n",
    "train(W[0], B[0], X, Y)"
   ]
  },
  {
   "cell_type": "code",
   "execution_count": 246,
   "metadata": {},
   "outputs": [],
   "source": [
    "def gradient_descent(w, b, X, Y, multiclass = False, num_iterations = 10000, learning_rate = 0.0001, tol = 1e-5):\n",
    "    \"\"\"\n",
    "    This function optimizes w and b by running a gradient descent algorithm\n",
    "    Inputs:\n",
    "    w -- weights, a numpy array of size (num_px * num_px * 3, 1)\n",
    "    b -- bias, a scalar\n",
    "    X -- data of shape (features, number of examples)\n",
    "    Y -- true \"label\" vector (containing 0 if non-cat, 1 if cat), of shape (1, number of examples)\n",
    "    num_iterations -- number of iterations of the optimization loop\n",
    "    learning_rate -- learning rate of the gradient descent update rule\n",
    "    \n",
    "    Outputs:\n",
    "    params -- dictionary containing the weights w and bias b\n",
    "    grads -- dictionary containing the gradients of the weights and bias with respect to the cross_entropy function\n",
    "    cross_entropys -- list of all the cross_entropys computed during the optimization, this will be used to plot the learning curve.\n",
    "    \"\"\"\n",
    "    \n",
    "    cross_entropys = []\n",
    "    \n",
    "    for i in range(num_iterations):\n",
    "        if multiclass == False: \n",
    "            # cross_entropy and gradient calculation\n",
    "            grads, cross_entropy = train(w, b, X, Y)\n",
    "        else:\n",
    "            # cross_entropy and gradient calculation\n",
    "            grads, cross_entropy = train(w, b, X, Y, multiclass = True)\n",
    "            \n",
    "        # Retrieve derivatives from grads\n",
    "        dw = grads[\"dw\"]\n",
    "        db = grads[\"db\"]\n",
    "        \n",
    "        if abs(db).any() <tol:\n",
    "            break\n",
    "            \n",
    "        # update rule\n",
    "        w = w-learning_rate*dw\n",
    "        b = b-learning_rate*db\n",
    "        \n",
    "        # Record the cross_entropys\n",
    "        if i%100 == 0:\n",
    "            cross_entropys.append(cross_entropy)\n",
    "    \n",
    "    params = {\"w\": w,\n",
    "              \"b\": b}\n",
    "    \n",
    "    grads = {\"dw\": dw,\n",
    "             \"db\": db}\n",
    "    \n",
    "    return params, grads, cross_entropys"
   ]
  },
  {
   "cell_type": "code",
   "execution_count": 247,
   "metadata": {},
   "outputs": [],
   "source": [
    "def predict_binary(w, b, X):\n",
    "    '''\n",
    "    Predict whether the label is 0 or 1 using learned logistic regression parameters (w, b)\n",
    "    \n",
    "    Arguments:\n",
    "    w -- weights, a numpy array of size (number of feature, 1)\n",
    "    b -- bias, a scalar\n",
    "    X -- data of size (number of feature, number of examples)\n",
    "    \n",
    "    Returns:\n",
    "    Y_prediction -- a numpy array (vector) containing all predictions (0/1) for the examples in X\n",
    "    '''   \n",
    "    m = X.shape[1]\n",
    "    Y_prediction = np.zeros((1,m))\n",
    "    w = w.reshape(X.shape[0], 1)\n",
    "    \n",
    "    A = sigmoid(np.dot(w.T,X)+b) \n",
    "    p = np.zeros_like(A)\n",
    "    for i in range(A.shape[1]):\n",
    "        \n",
    "        # Convert probabilities A[0,i] to actual predictions p[0,i]\n",
    "        p[0,i] = A[0,i]>0.5\n",
    "\n",
    "    Y_prediction = p.astype(int)\n",
    "    assert(Y_prediction.shape == (1, m))\n",
    "    \n",
    "    return Y_prediction"
   ]
  },
  {
   "cell_type": "code",
   "execution_count": 248,
   "metadata": {},
   "outputs": [
    {
     "data": {
      "text/plain": [
       "0.9685264663805436"
      ]
     },
     "execution_count": 248,
     "metadata": {},
     "output_type": "execute_result"
    }
   ],
   "source": [
    "X = bc_X\n",
    "m, n = bc_X.shape\n",
    "c = len(np.unique(bc_y))\n",
    "W, B = initialize(m, c)\n",
    "y_hats =[]\n",
    "Y = bc_y\n",
    "w = W[0]\n",
    "b = B[0]\n",
    "params, grads, cross_entropys = gradient_descent(w, b, X, Y, num_iterations= 10000, learning_rate = 0.005, tol = 1e-4)\n",
    "w1 = params['w']\n",
    "b1 = params['b']\n",
    "y_i = sigmoid(np.dot(w1.T, X)+b1)\n",
    "y_pred = predict_binary(w1, b1, X)\n",
    "accuracy(y_pred.flatten(),bc_y.flatten())"
   ]
  },
  {
   "cell_type": "code",
   "execution_count": 249,
   "metadata": {},
   "outputs": [],
   "source": [
    "def predict_multiclass(W,B,X):\n",
    "    '''\n",
    "    Predict whether the label is 0 or 1 using learned logistic regression parameters (w, b)\n",
    "    \n",
    "    Arguments:\n",
    "    w -- weights, a numpy array of size (num_px * num_px * 3, 1)\n",
    "    b -- bias, a scalar\n",
    "    X -- data of size (features, number of examples)\n",
    "    \n",
    "    Returns:\n",
    "    Y_prediction -- a numpy array (vector) containing all predictions (0/1) for the examples in X\n",
    "    '''\n",
    "    m, n = X.shape\n",
    "    \n",
    "    p = np.dot(W, X)+B    \n",
    "    p_softmax = softmax(p)\n",
    "    Y_prediction = p_softmax.argmax(axis = 0).reshape(1, n)\n",
    "    \n",
    "    assert(Y_prediction.shape == (1, n))\n",
    "    \n",
    "    return Y_prediction, p_softmax"
   ]
  },
  {
   "cell_type": "code",
   "execution_count": 250,
   "metadata": {},
   "outputs": [
    {
     "data": {
      "text/plain": [
       "1.0"
      ]
     },
     "execution_count": 250,
     "metadata": {},
     "output_type": "execute_result"
    }
   ],
   "source": [
    "X = soybean_X\n",
    "m, n = soybean_X.shape\n",
    "c = len(np.unique(soybean_label))\n",
    "W, B = initialize(m, c)\n",
    "Y = soybean_y\n",
    "w = W\n",
    "b = B\n",
    "params, grads, cross_entropys = gradient_descent(w, b, X, Y, multiclass=True,  num_iterations= 10000, learning_rate = 0.005, tol = 1e-4)\n",
    "w1 = params['w']\n",
    "b1 = params['b']\n",
    "Y_prediction, p_softmax = predict_multiclass(w1,b1,X)\n",
    "accuracy(Y_prediction.flatten(),soybean_label)"
   ]
  },
  {
   "cell_type": "code",
   "execution_count": 251,
   "metadata": {},
   "outputs": [],
   "source": [
    "def LogisticRegression(X, Y, test_X, test_y, learning_rate= 0.005, num_iterations = 10000, tol = 1e-5, plot= False):\n",
    "    \"\"\"\n",
    "    Performs Logistic Regression and predict outcome classification\n",
    "    \n",
    "    Input: X -- data of size (number of feature, number of examples)\n",
    "           Y -- true \"label\" vector (0,1), of shape (number of classes, number of examples)\n",
    "           tol -- tolerance parameter\n",
    "    Output: Y_prediction :a vector containing all predictions (0/1) for binaray, classification for nulticlass\n",
    "    \"\"\"\n",
    "    m, n = X.shape\n",
    "    # c = num of classes\n",
    "    c = 2 if len(Y.shape)==1 or (Y.shape[0]==1) else Y.shape[0]\n",
    "    W, B = initialize(m, c) # initialize parameters with random(-0.01, 0.01)\n",
    "    \n",
    "    ## Binary Classification ###\n",
    "    if c == 2: \n",
    "        w = W[0]\n",
    "        b = B[0]\n",
    "        params, grads, cross_entropys = gradient_descent(w, b, X, Y, num_iterations= num_iterations, learning_rate = learning_rate, tol = tol)\n",
    "        W[0] = params['w']\n",
    "        B[0] = params['b']\n",
    "        Y_prediction = predict_binary(W[0], B[0], test_X)\n",
    "        score = accuracy(Y_prediction.flatten(), test_y.flatten())\n",
    "        print(score)\n",
    "        \n",
    "    ## Multiclass Classiffication ##\n",
    "    else:\n",
    "        params, grads, cross_entropys = gradient_descent(W,B, X, Y, multiclass = True,num_iterations= num_iterations, learning_rate = learning_rate, tol = tol )\n",
    "        W_tuned = params['w']\n",
    "        B_tuned = params['b']\n",
    "        Y_prediction, p_softmax = predict_multiclass(W_tuned, B_tuned, test_X)\n",
    "        test_y_labels= np.argmax(test_y, axis= 0).flatten()\n",
    "        score = accuracy(Y_prediction.flatten(), test_y_labels.flatten())\n",
    "        print(score)\n",
    "        \n",
    "    if plot:\n",
    "        x = [i for i in range(int(num_iterations/100))]\n",
    "        y = cross_entropys\n",
    "        plt.plot(x, y)\n",
    "        plt.title('cross_entropy vs iteration')\n",
    "        plt.xlabel('iteration (x100)')\n",
    "        plt.ylabel('cross_entropy')\n",
    "            \n",
    "    model = {'W': W, 'B': B}\n",
    "         \n",
    "    return score, Y_prediction, cross_entropys, model\n",
    "     "
   ]
  },
  {
   "cell_type": "code",
   "execution_count": 252,
   "metadata": {},
   "outputs": [],
   "source": [
    "def LogisticRegression_CV_test(X, Y, labels, learning_rate= 0.005, num_iterations = 10000, tol = 1e-5, k_fold = 5, plot = False):\n",
    "    \"\"\"\n",
    "    Conduct Cross Validation for Logistic Regression \n",
    "    Input: X -- data of size (number of feature, number of examples)\n",
    "           Y -- true \"label\" vector (0,1), or shape (number of classes, number of examples) for multiclass\n",
    "           learning_rate : float, training speed regulator\n",
    "           num_iterations : interation upperbound\n",
    "           tol -- tolerance parameter, stopping criteria\n",
    "    Output: Y_prediction :a vector containing all predictions (0/1) for binaray, classification for nulticlass\n",
    "    \"\"\"\n",
    "    k_fold_idx, tuning_set = stratefied_cross_validation(labels, k_fold)\n",
    "    result = {'score':[], 'predictions':[],'cross_entropy':[]}\n",
    "    for i in range(k_fold):\n",
    "        \n",
    "        train_idx, test_idx = k_fold_idx[i]\n",
    "        train_X, test_X = X[:,train_idx], X[:,test_idx]\n",
    "        if len(Y.shape) ==1 or Y.shape[0]==1:\n",
    "            train_y, test_y = expand_dims(Y[train_idx], axis = 0), expand_dims(Y[test_idx], axis = 0)\n",
    "        else:\n",
    "            train_y, test_y = Y[:,train_idx], Y[:,test_idx]\n",
    "\n",
    "        score, Y_prediction, cross_entropy, model = LogisticRegression(X= train_X, Y= train_y, test_X = test_X, test_y = test_y, learning_rate = learning_rate, num_iterations= num_iterations, tol =tol)\n",
    "        result['score'].append(score)\n",
    "        result['predictions'].append(Y_prediction)\n",
    "        result['cross_entropy'].append(cross_entropy)\n",
    "        if plot:\n",
    "            x = [i for i in range(int(num_iterations/100))]\n",
    "            y = np.array(result['cross_entropy'][i]).flatten()\n",
    "            plt.plot(x, y)\n",
    "            plt.title('cross_entropy vs iteration')\n",
    "            plt.xlabel('iteration (x100)')\n",
    "            plt.ylabel('cross_entropy')\n",
    "    print('k-fold average:', np.mean(result['score']))\n",
    "    return result"
   ]
  },
  {
   "cell_type": "code",
   "execution_count": 265,
   "metadata": {},
   "outputs": [],
   "source": [
    "def LR_param_tuning(X, Y, label = None, learning_rate= [0.01], num_iterations = [10000], tol = [1e-5], plot= True):\n",
    "    \"\"\"\n",
    "    This function is used to tune hyper parameters. \n",
    "    \n",
    "    \"\"\"\n",
    "    \n",
    "    if label is None:\n",
    "        label = Y\n",
    "    k_fold_idx, tuning_idx = stratefied_cross_validation(label)\n",
    "    train_idx = np.concatenate((np.array(k_fold_idx[0][0]), np.array(k_fold_idx[0][1])))\n",
    "    train_X, tuning_X = X[:,train_idx], X[:,tuning_idx]\n",
    "    \n",
    "    if len(Y.shape) ==1 or Y.shape[0]==1:\n",
    "        train_y, tuning_y = expand_dims(Y[train_idx], axis = 0), expand_dims(Y[tuning_idx], axis = 0)\n",
    "    else:\n",
    "        train_y, tuning_y = Y[:,train_idx], Y[:,tuning_idx]\n",
    "        \n",
    "    result = {'score':[], 'predictions':[],'cross_entropy':[]}\n",
    "    ParamList = [learning_rate, num_iterations, tol]\n",
    "    param = ParamList[np.argmax([len(learning_rate), len(num_iterations), len(tol)])]\n",
    "    \n",
    "    counter = 0\n",
    "    for lr in learning_rate:\n",
    "        for t in tol:\n",
    "            for num_iter in num_iterations:\n",
    "                score, Y_prediction, cross_entropy, model = LogisticRegression(X= train_X, Y= train_y, test_X = tuning_X, test_y = tuning_y, learning_rate = lr, num_iterations= num_iter, tol =t)\n",
    "                result['score'].append(score)\n",
    "                result['predictions'].append(Y_prediction)\n",
    "                result['cross_entropy'].append(cross_entropy)\n",
    "                counter +=1\n",
    "    if plot:\n",
    "        x = [p for p in param]\n",
    "        y = result['score']\n",
    "        plt.plot(x, y)\n",
    "        plt.title('score vs hyperparamter')\n",
    "        plt.xlabel(str(param))\n",
    "        plt.ylabel('score')\n",
    "    \n",
    "    return result\n",
    "    "
   ]
  },
  {
   "cell_type": "code",
   "execution_count": 254,
   "metadata": {},
   "outputs": [],
   "source": [
    "X = glass_X\n",
    "Y = glass_y\n",
    "label = glass_label\n",
    "m, n = X.shape\n",
    "c = len(np.unique(label))\n",
    "W, B = initialize(m, c)\n",
    "w = W\n",
    "b = B\n",
    "params, grads, cross_entropys = gradient_descent(w, b, X, Y, multiclass=True,  num_iterations= 10000, learning_rate = 0.005, tol = 1e-4)\n",
    "#result = LR_param_tuning(X, Y, label = label, learning_rate= [ 0.01], num_iterations = [50000], tol=[1e-4], plot= True)"
   ]
  },
  {
   "cell_type": "code",
   "execution_count": 233,
   "metadata": {},
   "outputs": [
    {
     "data": {
      "text/plain": [
       "array([[ 2.09411718e+00,  1.81125799e+00, -1.37197105e-01,\n",
       "         5.41926734e-02, -2.03737871e-01, -2.72934138e+00,\n",
       "        -3.83597229e+00, -6.41106074e+00,  2.49472877e-01],\n",
       "       [-2.03980819e+00,  2.38339205e+00,  8.69267229e+00,\n",
       "         9.97115161e+00,  4.20640827e+00,  2.79840891e+00,\n",
       "        -3.86494410e+00, -1.71985743e+00, -1.02457581e+01],\n",
       "       [-8.98000276e+00, -1.98607756e+00, -2.66542225e+00,\n",
       "         3.84492672e+00,  1.02316721e-02,  9.27033397e+00,\n",
       "        -9.38192377e-01, -6.53009523e-01, -6.69898164e-01],\n",
       "       [-9.00759065e-01,  9.09566331e-01,  2.67621921e+00,\n",
       "        -1.15159689e+00, -7.95026002e-01, -2.52607701e+00,\n",
       "         4.66814165e+00, -1.47906211e+00, -1.81239681e+00],\n",
       "       [-1.67838914e+00,  1.80080485e+00, -1.63697184e-01,\n",
       "         1.97299968e+00,  8.90519048e-01, -2.12282193e+00,\n",
       "        -5.27426058e+00, -4.60078925e+00, -1.26041781e+00],\n",
       "       [ 1.61037297e-01, -6.70075494e-01,  1.18917367e+01,\n",
       "         4.54932074e-02,  4.28703612e+00,  1.27156622e-01,\n",
       "         1.45424871e-01, -1.11676712e+00, -2.94003737e+00]])"
      ]
     },
     "execution_count": 233,
     "metadata": {},
     "output_type": "execute_result"
    }
   ],
   "source": [
    "params['w']"
   ]
  },
  {
   "cell_type": "code",
   "execution_count": null,
   "metadata": {},
   "outputs": [],
   "source": [
    "result = LR_param_tuning(X, Y, label = label, learning_rate= [0.001], num_iterations = [100000, 50000, 25000, 10000], tol=[1e-6], plot= True)"
   ]
  },
  {
   "cell_type": "code",
   "execution_count": 259,
   "metadata": {},
   "outputs": [
    {
     "name": "stderr",
     "output_type": "stream",
     "text": [
      "<ipython-input-258-ffaab9f2b172>:8: RuntimeWarning: overflow encountered in exp\n",
      "  nom = np.exp(p)\n",
      "<ipython-input-258-ffaab9f2b172>:10: RuntimeWarning: invalid value encountered in true_divide\n",
      "  return nom/denom\n"
     ]
    },
    {
     "name": "stdout",
     "output_type": "stream",
     "text": [
      "0.3\n"
     ]
    },
    {
     "data": {
      "image/png": "[encoded data removed]",
      "text/plain": [
       "<Figure size 432x288 with 1 Axes>"
      ]
     },
     "metadata": {
      "needs_background": "light"
     },
     "output_type": "display_data"
    }
   ],
   "source": [
    "X = glass_X\n",
    "Y = glass_y\n",
    "label = glass_label\n",
    "k_fold_idx, tuning_idx = stratefied_cross_validation(label)\n",
    "train_idx, test_idx = k_fold_idx[0]\n",
    "train_X, train_y = X[:,train_idx], Y[:,train_idx]\n",
    "test_X, test_y = X[:,test_idx], Y[:,test_idx]\n",
    "score, Y_prediction, cross_entropy, model= LogisticRegression(X= train_X, Y= train_y, test_X = test_X, test_y = test_y, learning_rate= 0.05, num_iterations = 50000, tol = 1e-5, plot= True)"
   ]
  },
  {
   "cell_type": "code",
   "execution_count": 260,
   "metadata": {},
   "outputs": [
    {
     "name": "stdout",
     "output_type": "stream",
     "text": [
      "0.28205128205128205\n",
      "0.3157894736842105\n",
      "0.34210526315789475\n",
      "0.5\n",
      "0.42105263157894735\n",
      "k-fold average: 0.37219973009446694\n"
     ]
    },
    {
     "data": {
      "image/png": "[encoded data removed]",
      "text/plain": [
       "<Figure size 432x288 with 1 Axes>"
      ]
     },
     "metadata": {
      "needs_background": "light"
     },
     "output_type": "display_data"
    }
   ],
   "source": [
    "X = glass_X\n",
    "Y = glass_y\n",
    "label = glass_label\n",
    "result = LogisticRegression_CV_test(X, Y, labels=label, learning_rate= 0.001, num_iterations = 10000, tol = 1e-5, k_fold = 5, plot = True)"
   ]
  },
  {
   "cell_type": "code",
   "execution_count": 239,
   "metadata": {},
   "outputs": [
    {
     "name": "stderr",
     "output_type": "stream",
     "text": [
      "<ipython-input-168-2f25c95ac884>:6: RuntimeWarning: overflow encountered in exp\n",
      "  nom = np.exp(p)\n",
      "<ipython-input-168-2f25c95ac884>:8: RuntimeWarning: invalid value encountered in true_divide\n",
      "  return nom/denom\n"
     ]
    },
    {
     "name": "stdout",
     "output_type": "stream",
     "text": [
      "0.4666666666666667\n",
      "0.4666666666666667\n",
      "0.4666666666666667\n",
      "0.4666666666666667\n"
     ]
    },
    {
     "data": {
      "image/png": "[encoded data removed]",
      "text/plain": [
       "<Figure size 432x288 with 1 Axes>"
      ]
     },
     "metadata": {
      "needs_background": "light"
     },
     "output_type": "display_data"
    }
   ],
   "source": [
    "X = iris_X\n",
    "Y = iris_y\n",
    "label = iris_label\n",
    "result = LR_param_tuning(X, Y, label = label, learning_rate= [ 0.1], num_iterations = [5000], tol=[1e-6, 1e-5, 1e-4, 1e-3], plot= True)"
   ]
  },
  {
   "cell_type": "code",
   "execution_count": 261,
   "metadata": {},
   "outputs": [
    {
     "name": "stdout",
     "output_type": "stream",
     "text": [
      "0.7407407407407407\n"
     ]
    },
    {
     "data": {
      "image/png": "[encoded data removed]",
      "text/plain": [
       "<Figure size 432x288 with 1 Axes>"
      ]
     },
     "metadata": {
      "needs_background": "light"
     },
     "output_type": "display_data"
    }
   ],
   "source": [
    "# iris\n",
    "X = iris_X\n",
    "Y = iris_y\n",
    "label = iris_label\n",
    "k_fold_idx, tuning_idx = stratefied_cross_validation(label)\n",
    "train_idx, test_idx = k_fold_idx[0]\n",
    "train_X, train_y = X[:,train_idx], Y[:,train_idx]\n",
    "test_X, test_y = X[:,test_idx], Y[:,test_idx]\n",
    "score, Y_prediction, cross_entropy, model= LogisticRegression(X= train_X, Y= train_y, test_X = test_X, test_y = test_y, learning_rate= 0.001, num_iterations = 10000, tol = 1e-5, plot= True)"
   ]
  },
  {
   "cell_type": "code",
   "execution_count": 262,
   "metadata": {},
   "outputs": [
    {
     "name": "stdout",
     "output_type": "stream",
     "text": [
      "0.7307692307692307\n",
      "0.75\n",
      "0.7777777777777778\n",
      "0.7037037037037037\n",
      "0.8148148148148148\n",
      "k-fold average: 0.7554131054131055\n"
     ]
    },
    {
     "data": {
      "image/png": "[encoded data removed]",
      "text/plain": [
       "<Figure size 432x288 with 1 Axes>"
      ]
     },
     "metadata": {
      "needs_background": "light"
     },
     "output_type": "display_data"
    }
   ],
   "source": [
    "X = iris_X\n",
    "Y = iris_y\n",
    "label = iris_label\n",
    "result = LogisticRegression_CV_test(X, Y, labels=label, learning_rate= 0.005, num_iterations = 50000, tol = 1e-5, k_fold = 5, plot = True)"
   ]
  },
  {
   "cell_type": "code",
   "execution_count": 263,
   "metadata": {},
   "outputs": [
    {
     "name": "stdout",
     "output_type": "stream",
     "text": [
      "1.0\n"
     ]
    },
    {
     "data": {
      "image/png": "[encoded data removed]",
      "text/plain": [
       "<Figure size 432x288 with 1 Axes>"
      ]
     },
     "metadata": {
      "needs_background": "light"
     },
     "output_type": "display_data"
    }
   ],
   "source": [
    "# soybean\n",
    "X = soybean_X\n",
    "Y = soybean_y\n",
    "label = soybean_label\n",
    "k_fold_idx, tuning_idx = stratefied_cross_validation(label)\n",
    "train_idx, test_idx = k_fold_idx[0]\n",
    "train_X, train_y = X[:,train_idx], Y[:,train_idx]\n",
    "test_X, test_y = X[:,test_idx], Y[:,test_idx]\n",
    "score, Y_prediction, cross_entropy, model= LogisticRegression(X= train_X, Y= train_y, test_X = test_X, test_y = test_y, learning_rate= 0.005, num_iterations = 10000, tol = 1e-5, plot= True)"
   ]
  },
  {
   "cell_type": "code",
   "execution_count": 264,
   "metadata": {},
   "outputs": [
    {
     "name": "stdout",
     "output_type": "stream",
     "text": [
      "1.0\n",
      "1.0\n",
      "1.0\n",
      "1.0\n",
      "1.0\n",
      "k-fold average: 1.0\n"
     ]
    },
    {
     "data": {
      "image/png": "[encoded data removed]",
      "text/plain": [
       "<Figure size 432x288 with 1 Axes>"
      ]
     },
     "metadata": {
      "needs_background": "light"
     },
     "output_type": "display_data"
    }
   ],
   "source": [
    "X = soybean_X\n",
    "Y = soybean_y\n",
    "label = soybean_label\n",
    "result = LogisticRegression_CV_test(X, Y, labels=label, learning_rate= 0.01, num_iterations = 1000, tol = 1e-4, k_fold = 5, plot = True)"
   ]
  },
  {
   "cell_type": "code",
   "execution_count": 268,
   "metadata": {},
   "outputs": [
    {
     "name": "stdout",
     "output_type": "stream",
     "text": [
      "0.9603174603174603\n"
     ]
    },
    {
     "data": {
      "image/png": "[encoded data removed]",
      "text/plain": [
       "<Figure size 432x288 with 1 Axes>"
      ]
     },
     "metadata": {
      "needs_background": "light"
     },
     "output_type": "display_data"
    }
   ],
   "source": [
    "# BC\n",
    "X = bc_X\n",
    "Y = bc_y\n",
    "k_fold_idx, tuning_idx = stratefied_cross_validation(Y)\n",
    "train_idx, test_idx = k_fold_idx[0]\n",
    "train_X, train_y = X[:,train_idx], expand_dims(Y[train_idx], axis=0)\n",
    "test_X, test_y = X[:,test_idx], expand_dims(Y[test_idx], axis = 0)\n",
    "score, Y_prediction, cross_entropy, model= LogisticRegression(X= train_X, Y= train_y, test_X = test_X, test_y = test_y, learning_rate= 0.005, num_iterations = 10000, tol = 1e-6, plot= True)"
   ]
  },
  {
   "cell_type": "code",
   "execution_count": 269,
   "metadata": {},
   "outputs": [
    {
     "name": "stdout",
     "output_type": "stream",
     "text": [
      "0.9855072463768116\n",
      "0.9855072463768116\n",
      "0.9855072463768116\n",
      "0.9855072463768116\n",
      "0.9855072463768116\n",
      "0.9855072463768116\n"
     ]
    },
    {
     "data": {
      "image/png": "[encoded data removed]",
      "text/plain": [
       "<Figure size 432x288 with 1 Axes>"
      ]
     },
     "metadata": {
      "needs_background": "light"
     },
     "output_type": "display_data"
    }
   ],
   "source": [
    "X = bc_X\n",
    "Y = bc_y\n",
    "result = LR_param_tuning(X, Y, Y, learning_rate= [0.00001,0.0001, 0.001,0.01, 0.1, 1], num_iterations = [50000], tol=[1e-4], plot= True)"
   ]
  },
  {
   "cell_type": "code",
   "execution_count": 270,
   "metadata": {},
   "outputs": [
    {
     "name": "stdout",
     "output_type": "stream",
     "text": [
      "0.9682539682539683\n",
      "0.9682539682539683\n",
      "0.9603174603174603\n",
      "0.9682539682539683\n",
      "0.9841269841269841\n",
      "k-fold average: 0.9698412698412697\n"
     ]
    },
    {
     "data": {
      "image/png": "[encoded data removed]",
      "text/plain": [
       "<Figure size 432x288 with 1 Axes>"
      ]
     },
     "metadata": {
      "needs_background": "light"
     },
     "output_type": "display_data"
    }
   ],
   "source": [
    "X = bc_X\n",
    "Y = bc_y\n",
    "result= LogisticRegression_CV_test(X, Y, Y, learning_rate= 0.001, num_iterations = 10000, tol = 1e-5, k_fold = 5, plot= True)"
   ]
  },
  {
   "cell_type": "code",
   "execution_count": 154,
   "metadata": {},
   "outputs": [
    {
     "name": "stdout",
     "output_type": "stream",
     "text": [
      "0.9230769230769231\n",
      "0.948051948051948\n",
      "0.9873417721518988\n",
      "0.9620253164556962\n",
      "0.9620253164556962\n",
      "k-fold average: 0.9565042552384325\n"
     ]
    },
    {
     "data": {
      "image/png": "[encoded data removed]",
      "text/plain": [
       "<Figure size 432x288 with 1 Axes>"
      ]
     },
     "metadata": {
      "needs_background": "light"
     },
     "output_type": "display_data"
    }
   ],
   "source": [
    "X = vote_X\n",
    "Y = vote_y\n",
    "result= LogisticRegression_CV_test(X, Y, Y, learning_rate= 0.005, num_iterations = 10000, tol = 1e-5, k_fold = 5, plot= True)"
   ]
  },
  {
   "cell_type": "code",
   "execution_count": 155,
   "metadata": {},
   "outputs": [
    {
     "name": "stdout",
     "output_type": "stream",
     "text": [
      "0.9615384615384616\n"
     ]
    },
    {
     "data": {
      "image/png": "[encoded data removed]",
      "text/plain": [
       "<Figure size 432x288 with 1 Axes>"
      ]
     },
     "metadata": {
      "needs_background": "light"
     },
     "output_type": "display_data"
    }
   ],
   "source": [
    "X = vote_X\n",
    "Y = vote_y\n",
    "k_fold_idx, tuning_set = stratefied_cross_validation(Y)\n",
    "train_idx, test_idx = k_fold_idx[0]\n",
    "train_X, train_y = X[:,train_idx], expand_dims(Y[train_idx], axis=0)\n",
    "test_X, test_y = X[:,test_idx], expand_dims(Y[test_idx], axis = 0)\n",
    "score, Y_prediction, cross_entropy, model= LogisticRegression(X= train_X, Y= train_y, test_X = test_X, test_y = test_y, learning_rate= 0.005, num_iterations = 100000, tol = 1e-5, plot= True)"
   ]
  },
  {
   "cell_type": "code",
   "execution_count": null,
   "metadata": {},
   "outputs": [],
   "source": []
  },
  {
   "cell_type": "code",
   "execution_count": null,
   "metadata": {},
   "outputs": [],
   "source": []
  }
 ],
 "metadata": {
  "kernelspec": {
   "display_name": "Python 3",
   "language": "python",
   "name": "python3"
  },
  "language_info": {
   "codemirror_mode": {
    "name": "ipython",
    "version": 3
   },
   "file_extension": ".py",
   "mimetype": "text/x-python",
   "name": "python",
   "nbconvert_exporter": "python",
   "pygments_lexer": "ipython3",
   "version": "3.8.5"
  }
 },
 "nbformat": 4,
 "nbformat_minor": 4
}
