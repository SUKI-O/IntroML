{
 "cells": [
  {
   "cell_type": "markdown",
   "metadata": {},
   "source": [
    "# 605.649 — Introduction to Machine Learning\n",
    "##  Programming Project 5  \n",
    "## Neural Net  (Classification)\n",
    "\n",
    "The purpose of this assignment is to give you experience developing one of the main algorithms for training feedforward neural networks—backpropagation. In this project, you will evaluate the performance of a feedforward network trained with backprop. For this assignment, you will use six datasets (three classification and three regression), all of which you have used in prior assignments. You will download these data sets from the UCI Machine Learning Repository or directly from Blackboard, namely:\n",
    "1. Breast Cancer [Classification]\n",
    "https://archive.ics.uci.edu/ml/datasets/Breast+Cancer+Wisconsin+%28Original%29\n",
    "This breast cancer databases was obtained from the University of Wisconsin Hospitals, Madison from\n",
    "Dr. William H. Wolberg.\n",
    "2. Glass [Classification]\n",
    "https://archive.ics.uci.edu/ml/datasets/Glass+Identification\n",
    "The study of classification of types of glass was motivated by criminological investigation.\n",
    "3. Soybean (small) [Classification]\n",
    "https://archive.ics.uci.edu/ml/datasets/Soybean+%28Small%29\n",
    "A small subset of the original soybean database.\n",
    "4. Abalone [Regression]\n",
    "https://archive.ics.uci.edu/ml/datasets/Abalone\n",
    "Predicting the age of abalone from physical measurements.\n",
    "5. Computer Hardware [Regression]\n",
    "https://archive.ics.uci.edu/ml/datasets/Computer+Hardware\n",
    "The estimated relative performance values were estimated by the authors using a linear regression method. The gives you a chance to see how well you can replicate the results with these two models.\n",
    "6. Forest Fires [Regression]\n",
    "https://archive.ics.uci.edu/ml/datasets/Forest+Fires\n",
    "This is a difficult regression task, where the aim is to predict the burned area of forest fires, in the northeast region of Portugal, by using meteorological and other data .\n",
    "When using these data sets, be careful of some issues.\n",
    "1. Some of the data sets have missing attribute values, which is usually indicated by “?”. When this occurs in low numbers, you may simply edit the corresponding data items out of the data sets. For more occurrences, you should do some kind of “data imputation” where, basically, you generate a value of some kind. A naïve approach is to impute the missing value with a random number or the attribute’s mean (or median). A better approach is to sample according to the conditional probability of the values occurring, given the underlying class for that example. The choice of strategy is yours, but be sure to document your choice.\n",
    "2. For networks with multiple outputs, you should use what is called a “multi-net.” This is where you train a single network with multiple outputs, one for each outcome you need to predict. This is distinct from training separate networks for each output, which is effectively what you have done with prior linear models.\n",
    "3. The attributes should not require any special handling with either model. It is highly recommended that you normalize numerical attributes first to be in the range −1 to +1 or by using z-score normalization (i.e., z = (x − µ)/σ) and apply the inputs directly.\n",
    "4. You will need to determine the number of hidden nodes per layer via a tuning process. Note that you can use a rule of thumb that you have fewer hidden nodes than inputs, but be careful that this may not always work. In addition, when you go to two hidden layers, you should not need as many hidden nodes per layer as you needed in the one hidden layer case. For this project, the following steps are required:\n",
    "- Download the six (6) data sets from the UCI Machine Learning repository. You can find this repository at http://archive.ics.uci.edu/ml/. You can also obtain them directly in Blackboard. All of the specific URLs are also provided above.\n",
    "- Pre-process each data set as necessary to handle missing data and normalize as needed.\n",
    "- Implement backpropagation for training feedforward neural networks. You may choose to use either the logistic activation function or the hyperbolic tangent activation function. Do not use ReLU or other similar activation functions. For regression, you should use a linear output. Remember that these choices affect the update rules because of having different derivatives. It is also your choice whether or not you use momentum.\n",
    "- Remember that you have a number of items to tune, including nodes per layer, learning rate, momentum (if you choose to use it), stopping threshold or number of iterations, etc. Be sure to use the tuning strategy described in earlier assignments.\n",
    "- Run your algorithms on each of the data sets. These runs should be done with 5-fold cross-validation so you can compare your results statistically. You can use classification error or mean squared error (as appropriate) for your loss function.\n",
    "- Run your feedforward network trained with backpropagation on each of the data sets. These runs should output the classifications on all of the test examples. If you are doing cross-validation, just output classifications for one fold each. Run your experiments with no hidden layers, one hidden layer, and two hidden layers. It is up to you to tune the number of hidden nodes per layer, and be sure to explain how you did the tuning.\n",
    "\n",
    "- For the video, the following constitute minimal requirements that must be satisfied:\n",
    "- Provide sample outputs from one test set showing performance on your feedforward networks. Show results for each of the cases where you have no hidden layers, one hidden layer, and two hidden layers.\n",
    "- Show a sample model for the smallest of each of your three neural network types (i.e., zero hidden layer, one hidden layer, two hidden layers). This will consist of showing the weight matrices with the inputs/outputs of the layer labeled in some way.\n",
    "- Demonstrate and explain how an example is propagated through a two hidden layer network. Be sure to show the activations at each layer being calculated correctly.\n",
    "- Demonstrate the weight updates occurring on a two-layer network for each of the layers.\n",
    "- Demonstrate the gradient calculation at the output for any one of your networks.\n",
    "- Show the average performance over the five folds for one of the data sets for each of the three types of networks (i.e., zero hidden layer, one hidden layer, two hidden layers\n"
   ]
  },
  {
   "cell_type": "code",
   "execution_count": 1,
   "metadata": {},
   "outputs": [],
   "source": [
    "# Importing Libraries\n",
    "%matplotlib inline\n",
    "import numpy as np\n",
    "import pandas as pd\n",
    "import math\n",
    "import matplotlib.pyplot as plt\n",
    "import copy\n",
    "from numpy import array, newaxis, expand_dims"
   ]
  },
  {
   "cell_type": "markdown",
   "metadata": {},
   "source": [
    "# Loading Data and Preprocessing"
   ]
  },
  {
   "cell_type": "markdown",
   "metadata": {},
   "source": [
    "### Helper Functions"
   ]
  },
  {
   "cell_type": "code",
   "execution_count": 2,
   "metadata": {},
   "outputs": [],
   "source": [
    "def str_to_int(df, col_indx):\n",
    "    \"\"\"\n",
    "    Function to convert string value to unique integers **in place** and return dictionary \n",
    "    Input: df :pd.DataFrame\n",
    "           col_index: column index\n",
    "    output: dictionary: dict to map str : int\n",
    "    \"\"\"\n",
    "    col = df[col_indx]\n",
    "    row = len(col)\n",
    "    keys = pd.unique(df[col_indx])\n",
    "    dictionary = dict(zip(keys, np.linspace(0,len(keys)-1,len(keys),dtype=int)))\n",
    "    for j in range(row):\n",
    "        df.iloc[j, col_indx] = dictionary[df[col_indx][j]]\n",
    "    return dictionary"
   ]
  },
  {
   "cell_type": "code",
   "execution_count": 3,
   "metadata": {},
   "outputs": [],
   "source": [
    "def normalize(col, e = 1e-9):\n",
    "        \"\"\"\n",
    "        convert array into a z-score \n",
    "        input: column vector\n",
    "        output: z-scored column vector\n",
    "        \"\"\"\n",
    "        mu = np.mean(col)\n",
    "        std = np.std(col)\n",
    "        return np.array([(x-mu+e)/(std+e) for x in col])"
   ]
  },
  {
   "cell_type": "code",
   "execution_count": 4,
   "metadata": {},
   "outputs": [],
   "source": [
    "def normalize_data(df, e = 1e-9):\n",
    "    \"\"\"\n",
    "    turns a dataframe into z-score values\n",
    "    input : pd.DataFrame\n",
    "    \"\"\" \n",
    "    n_row, n_col = df.shape\n",
    "    df_norm = df.copy()\n",
    "    \n",
    "    for idx in range(n_col):\n",
    "        df_norm.iloc[:, idx] = normalize(df.iloc[:,idx])\n",
    "        \n",
    "    return df_norm"
   ]
  },
  {
   "cell_type": "code",
   "execution_count": 5,
   "metadata": {},
   "outputs": [],
   "source": [
    "def one_hot(col):\n",
    "    \"\"\"\n",
    "    One-hot encode a vector \n",
    "    Input: np.array\n",
    "    Output: array in [0,1]\n",
    "    \"\"\"\n",
    "    keys = np.unique(col)\n",
    "    dictionary = dict(zip(keys, np.linspace(0,len(keys)-1,len(keys),dtype=int)))\n",
    "    mat = []\n",
    "    for val in col:\n",
    "        arr = [0]*len(keys)\n",
    "        arr[dictionary[val]] = 1\n",
    "        mat.append(arr)\n",
    "    return mat"
   ]
  },
  {
   "cell_type": "markdown",
   "metadata": {},
   "source": [
    "## Data Preprocessing"
   ]
  },
  {
   "cell_type": "code",
   "execution_count": 6,
   "metadata": {},
   "outputs": [
    {
     "name": "stdout",
     "output_type": "stream",
     "text": [
      "(9, 699) (1, 699)\n",
      "[0 1]\n"
     ]
    }
   ],
   "source": [
    "# Breast Cancer (classification) binary\n",
    "# the last column is the target\n",
    "file_loc = './Data_Set/breast-cancer-wisconsin.data'\n",
    "bc = pd.read_csv(file_loc, header = None)\n",
    "bc = bc.iloc[:, 1:] # dropping 1st column since they are unique identifiers.\n",
    "bc.columns = [i for i in range(len(bc.columns))] #fixing the columns index num\n",
    "#imputing missing values\n",
    "NAs = []\n",
    "for i in range(10):\n",
    "    for j in range(698):\n",
    "        if bc[i][j]== '?':\n",
    "            NAs.append([i,j])\n",
    "bc_vals = bc[5][bc[5]!='?'].astype('int')\n",
    "samples = np.random.choice(bc_vals, 16).copy()  ## imputing missing value with sample taken from the same feature col.\n",
    "for k, i in enumerate(NAs):\n",
    "    bc.iloc[i[1],i[0]] = samples[k]\n",
    "for col in range(bc.shape[1]):        # converting all num to np.int64\n",
    "    bc[col] = bc[col].astype('int64')\n",
    "bc_X = bc.iloc[:, :-1]\n",
    "bc_X_norm = normalize_data(bc_X)\n",
    "bc_X = np.array(bc_X_norm).T\n",
    "bc_y = np.array([0 if x == 2 else 1 for x in bc.iloc[:,-1]])#\n",
    "bc_y = bc_y.reshape(1, len(bc_y))\n",
    "print(bc_X.shape, bc_y.shape)\n",
    "print(np.unique(bc_y))"
   ]
  },
  {
   "cell_type": "code",
   "execution_count": 7,
   "metadata": {},
   "outputs": [
    {
     "name": "stdout",
     "output_type": "stream",
     "text": [
      "(9, 214) (6, 214)\n",
      "[0 1 2 3 4 5]\n"
     ]
    }
   ],
   "source": [
    "# Glass (classification) 6 classes\n",
    "file_loc = './Data_Set/glass.data'\n",
    "glass = pd.read_csv(file_loc, header = None)\n",
    "glass = glass.iloc[:, 1:] # dropping 1st column since they are unique identifiers.\n",
    "glass_label = np.array(glass.iloc[:, -1])\n",
    "keys = pd.unique(glass_label)\n",
    "dictionary = dict(zip(keys, np.linspace(0,len(keys)-1,len(keys),dtype=int)))\n",
    "glass_label = np.array([dictionary[label] for label in glass_label])\n",
    "glass_y = np.array(glass.iloc[:, -1])\n",
    "glass_X = glass.iloc[:, :-1]\n",
    "glass_X_norm = normalize_data(glass_X).T # converting to z-score\n",
    "glass_X = np.array(glass_X_norm)\n",
    "glass_y = (np.array(glass_y)-1).T.reshape(1, len(glass_y))\n",
    "glass_y = np.array(one_hot(glass_y.flatten())).T\n",
    "print(glass_X.shape, glass_y.shape)\n",
    "print(np.unique(glass_label))"
   ]
  },
  {
   "cell_type": "code",
   "execution_count": 8,
   "metadata": {},
   "outputs": [
    {
     "name": "stdout",
     "output_type": "stream",
     "text": [
      "(35, 47) (4, 47)\n",
      "[0 1 2 3]\n"
     ]
    }
   ],
   "source": [
    "# soybean (classification) 4 classes \n",
    "file_loc = './Data_Set/soybean-small.data'\n",
    "soybean = pd.read_csv(file_loc, header = None)\n",
    "str_to_int(soybean, 35)\n",
    "soybean_label = soybean.iloc[:, -1]\n",
    "soybean_y = soybean.iloc[:, -1]\n",
    "soybean_X = soybean.iloc[:, :-1]\n",
    "soybean_X_norm = normalize_data(soybean_X) # converting to z-score\n",
    "soybean_X = np.array(soybean_X_norm).T\n",
    "soybean_y = np.array(soybean_y).T.reshape(1, len(soybean_y))\n",
    "soybean_y = np.array(one_hot(soybean_y.flatten())).T\n",
    "print(soybean_X.shape, soybean_y.shape)\n",
    "print(np.unique(soybean_label))"
   ]
  },
  {
   "cell_type": "code",
   "execution_count": 9,
   "metadata": {},
   "outputs": [
    {
     "name": "stdout",
     "output_type": "stream",
     "text": [
      "(8, 4177) (1, 4177)\n"
     ]
    }
   ],
   "source": [
    "## Abalone (regression)\n",
    "file_loc = './Data_Set/abalone.data'\n",
    "abalone = np.array(pd.read_csv(file_loc, header = None))\n",
    "d_abalone = {'M':0, 'F':1, 'I':2}\n",
    "abalone_X = abalone[:,:-1] # features \n",
    "abalone_y = abalone[:,-1] # target\n",
    "# converting nominal/str value to interger {'M':-1, 'F':1, 'I':0} ]}\n",
    "abalone_X[:,0]= [d_abalone[sex] for sex in abalone_X[:,0]]\n",
    "# Normalizing continuous vals\n",
    "n_row, n_col = abalone_X.shape\n",
    "abalone_X_norm = abalone_X.copy()\n",
    "for idx in range(1,n_col):\n",
    "    abalone_X_norm[:, idx] = normalize(abalone_X[:,idx])\n",
    "abalone_y = normalize(abalone_y).reshape(1, len(abalone_y))\n",
    "abalone_X = abalone_X_norm.T\n",
    "print(abalone_X.shape, abalone_y.shape)"
   ]
  },
  {
   "cell_type": "code",
   "execution_count": 10,
   "metadata": {},
   "outputs": [
    {
     "name": "stdout",
     "output_type": "stream",
     "text": [
      "(8, 209) (1, 209)\n"
     ]
    }
   ],
   "source": [
    "## machine (regression)\n",
    "file_loc = './Data_Set/machine.data'\n",
    "machine = np.array(pd.read_csv(file_loc, header = None))\n",
    "machine_y = machine[:,8].astype(int).reshape(1, machine.shape[0]) # target \n",
    "machine_X = machine[:,:8] # features (dropping the ERP)\n",
    "# normalizing the numeric features\n",
    "n_row, n_col = machine_X.shape\n",
    "machine_X_norm = machine_X.copy()\n",
    "for idx in range(2,n_col):\n",
    "    machine_X_norm[:, idx] = normalize(machine_X[:,idx])\n",
    "machine_X = machine_X_norm.T\n",
    "print(machine_X.shape, machine_y.shape)"
   ]
  },
  {
   "cell_type": "code",
   "execution_count": 11,
   "metadata": {},
   "outputs": [
    {
     "name": "stdout",
     "output_type": "stream",
     "text": [
      "(12, 517) (1, 517)\n"
     ]
    }
   ],
   "source": [
    "## forestfires (regression)\n",
    "file_loc = './Data_Set/forestfires.data'\n",
    "forestfires = np.array(pd.read_csv(file_loc, header = 0))\n",
    "forestfire_y = forestfires[:,12]\n",
    "forestfire_y = forestfire_y.reshape(1, len(forestfire_y))\n",
    "# As this data is skewed toward 0.0, using log transformation \n",
    "#forestfire_y_log = [np.log(num) for num in forestfire_y+1] \n",
    "forestfire_X = forestfires[:,:12]\n",
    "# changeing months(str) to int\n",
    "d_months = dict(zip(np.unique(forestfire_X[:,2]), [4,8,12,2,1,7,6,3,5,11,10,9]))\n",
    "forestfire_X[:,2] = [d_months[month] for month in forestfire_X[:,2]]\n",
    "# changing weekdays to int\n",
    "d_weekdays = dict(zip(['mon', 'tue', 'wed', 'thu', 'fri', 'sat', 'sun'], [1,2,3,4,5,6,7]))\n",
    "forestfire_X[:,3] = [d_weekdays[day] for day in forestfire_X[:,3]]\n",
    "# normalizing the rest of the continous values\n",
    "n_row, n_col = forestfire_X.shape\n",
    "forestfire_X_norm = forestfire_X.copy()\n",
    "for idx in range(4,n_col):\n",
    "     forestfire_X_norm[:, idx] = normalize(forestfire_X[:,idx])\n",
    "forestfire_X = forestfire_X_norm.T\n",
    "print(forestfire_X.shape, forestfire_y.shape)"
   ]
  },
  {
   "cell_type": "markdown",
   "metadata": {},
   "source": [
    "## Cross Validation "
   ]
  },
  {
   "cell_type": "code",
   "execution_count": 12,
   "metadata": {},
   "outputs": [],
   "source": [
    "# cross_validation (stratefied) 5 fold:\n",
    "def stratefied_cross_validation(data_y, k_fold = 5, continuous = False):\n",
    "    \"\"\"\n",
    "    Function to split data for stratefied k-fold cv testing where each group have same class representation, plus 10% validation set\n",
    "    Input: data_X, data_y -- original data, target feature id\n",
    "    Output: k_fold_idx, tuning_set -- 'indeces' of stratefied k-fold cv sets, and tuning set \n",
    "    \"\"\"\n",
    "    N = data_y.shape[0]\n",
    "    index = [i for i in range(N)]\n",
    "    np.random.shuffle(index)\n",
    "    tuning_set = index[:int(N/10)]\n",
    "    remain= index[int(N/10):]\n",
    "    \n",
    "    if continuous:\n",
    "        # among the remain, split the data into evenly distributed k sets\n",
    "        y_remain = np.array(data_y)[remain]\n",
    "        sorted_idx = np.array([x for _,x in sorted(zip(y_remain, remain))])\n",
    "        k_splits = []\n",
    "        for k in range(k_fold):\n",
    "            k_splits.append(sorted_idx[np.arange(k,len(sorted_idx)-1, k_fold)])\n",
    "        \n",
    "    else: # classification\n",
    "    # among the remain, group the data into each classifications\n",
    "        k_splits = [[] for _ in range(k_fold)]\n",
    "        classes = np.unique(data_y)\n",
    "        for c in classes:\n",
    "            group = [idx for idx in remain if data_y[idx]==c]\n",
    "            np.random.shuffle(group)\n",
    "            group_k_splits = np.array_split(group, k_fold)\n",
    "            np.random.shuffle(group_k_splits)\n",
    "            for k in range(k_fold):\n",
    "                holdout = group_k_splits[k]\n",
    "                np.random.shuffle(holdout)\n",
    "                k_splits[k].extend(holdout)\n",
    "            \n",
    "    k_fold_idx = []\n",
    "    for k in range(k_fold):\n",
    "        test_set = k_splits[k]\n",
    "        training_idx = [i for i in range(k_fold) if i !=k]\n",
    "        train_set = []\n",
    "        for i in training_idx:\n",
    "            train_set.extend(k_splits[i])\n",
    "        k_fold_idx.append((train_set, test_set))   \n",
    "        \n",
    "    return k_fold_idx, tuning_set"
   ]
  },
  {
   "cell_type": "markdown",
   "metadata": {},
   "source": [
    "## Helper functions"
   ]
  },
  {
   "cell_type": "code",
   "execution_count": 13,
   "metadata": {},
   "outputs": [],
   "source": [
    "def accuracy(test_y, y_hats):\n",
    "    \"\"\"\n",
    "    Input: data_y, true value vector, y_hat, prediction vector\n",
    "    Output: accuracy as number of correct prediction/ total population\n",
    "    \"\"\"\n",
    "    assert len(test_y) == len(y_hats)\n",
    "    correct = 0\n",
    "    N = len(test_y)\n",
    "    for i in range(N):\n",
    "        correct += test_y[i] == y_hats[i]\n",
    "    return correct/N"
   ]
  },
  {
   "cell_type": "code",
   "execution_count": 14,
   "metadata": {},
   "outputs": [],
   "source": [
    "def sigmoid(z):\n",
    "    \"\"\"\n",
    "    Compute the sigmoid of z\n",
    "\n",
    "    Input: z, np.array\n",
    "    Output: s, sigmoid(z)\n",
    "    \"\"\" \n",
    "    return 1/(1+np.exp(-z)), z"
   ]
  },
  {
   "cell_type": "code",
   "execution_count": 15,
   "metadata": {},
   "outputs": [],
   "source": [
    "def tanh(z):\n",
    "    \"\"\"\n",
    "    Compute the tanh of z\n",
    "\n",
    "    Input: z, np.array\n",
    "    Output: s, tanh(z)\n",
    "    \"\"\" \n",
    "    return (np.exp(z)-np.exp(-z))/(np.exp(z)+np.exp(-z)), z"
   ]
  },
  {
   "cell_type": "code",
   "execution_count": 16,
   "metadata": {},
   "outputs": [],
   "source": [
    "# def initialize(m, c):\n",
    "#     \"\"\"\n",
    "#     Input: m -- size of the w vector\n",
    "#            c -- num of class\n",
    "#     Output:w -- initialized vector of shape (n, 1)\n",
    "#            b -- initialized scalar (0)\n",
    "#     \"\"\"\n",
    "#     w = np.random.uniform(-0.01, 0.01, (m*c))\n",
    "#     W = np.reshape(w, (c, m))[:,:,newaxis]\n",
    "#     b = np.zeros((c,1))\n",
    "#     return W, b"
   ]
  },
  {
   "cell_type": "code",
   "execution_count": 17,
   "metadata": {},
   "outputs": [],
   "source": [
    "def initialize(layer_dims):\n",
    "    \"\"\"\n",
    "    Input:\n",
    "    layer_dims -- python array (list) containing the dimensions of each layer in our network\n",
    "    \n",
    "    Output:\n",
    "    parameters -- python dictionary containing your parameters \"W1\", \"b1\", ..., \"WL\", \"bL\":\n",
    "                    Wl -- weight matrix of shape (layer_dims[l], layer_dims[l-1])\n",
    "                    bl -- bias vector of shape (layer_dims[l], 1)\n",
    "    \"\"\"\n",
    "    \n",
    "    #np.random.seed(3)\n",
    "    parameters = {}\n",
    "    L = len(layer_dims)            # number of layers in the network\n",
    "\n",
    "    for l in range(1, L):\n",
    "        parameters['W' + str(l)] = np.random.randn(layer_dims[l], layer_dims[l-1])*0.01\n",
    "        parameters['b' + str(l)] = np.random.random((layer_dims[l],1))*0.01\n",
    "        assert(parameters['W' + str(l)].shape == (layer_dims[l], layer_dims[l-1]))*0.01\n",
    "        assert(parameters['b' + str(l)].shape == (layer_dims[l], 1))\n",
    "       \n",
    "    return parameters"
   ]
  },
  {
   "cell_type": "code",
   "execution_count": 18,
   "metadata": {},
   "outputs": [
    {
     "data": {
      "text/plain": [
       "{'W1': array([[ 0.01201114, -0.00839983, -0.00346729,  0.01324226, -0.00484735],\n",
       "        [-0.00271803, -0.01849738, -0.01079554, -0.00949894,  0.00250758],\n",
       "        [-0.01041276,  0.01012356,  0.01998265,  0.00678375,  0.01265495],\n",
       "        [-0.00391053,  0.00218817, -0.00082935, -0.01164989,  0.0027248 ]]),\n",
       " 'b1': array([[0.00046248],\n",
       "        [0.00950389],\n",
       "        [0.00324656],\n",
       "        [0.00893367]]),\n",
       " 'W2': array([[ 0.00122224,  0.00028186, -0.0174565 ,  0.00563424],\n",
       "        [-0.01047246, -0.01551485, -0.00674781,  0.00358949],\n",
       "        [-0.00953822, -0.00492882, -0.00421502, -0.00362501]]),\n",
       " 'b2': array([[0.00129413],\n",
       "        [0.00038268],\n",
       "        [0.00060751]])}"
      ]
     },
     "execution_count": 18,
     "metadata": {},
     "output_type": "execute_result"
    }
   ],
   "source": [
    "parameters = initialize([5,4,3])\n",
    "parameters"
   ]
  },
  {
   "cell_type": "code",
   "execution_count": 19,
   "metadata": {},
   "outputs": [],
   "source": [
    "def softmax(p):\n",
    "    \"\"\"\n",
    "    Input: p -- vector containg (Z) terms for each data points, size (num_class, num samples)\n",
    "    Output: p_softmax -- data of size (num_class, num samples)\n",
    "    \"\"\"\n",
    "    nom = np.exp(p)\n",
    "    denom = nom.sum(axis = 1)[:, None]\n",
    "    return nom/denom"
   ]
  },
  {
   "cell_type": "markdown",
   "metadata": {},
   "source": [
    "# Forwardprop"
   ]
  },
  {
   "cell_type": "code",
   "execution_count": 20,
   "metadata": {},
   "outputs": [],
   "source": [
    "def linear_forward(A, W, b):\n",
    "    \"\"\"\n",
    "    Implement the linear part of a layer's forward propagation.\n",
    "\n",
    "    Arguments:\n",
    "    A -- activations from previous layer (or input data): (size of previous layer, number of examples)\n",
    "    W -- weights matrix: numpy array of shape (size of current layer, size of previous layer)\n",
    "    b -- bias vector, numpy array of shape (size of the current layer, 1)\n",
    "\n",
    "    Returns:\n",
    "    Z -- the input of the activation function, also called pre-activation parameter \n",
    "    cache -- a tuple containing \"A\", \"W\" and \"b\" ; stored for computing the backward pass efficiently\n",
    "    \"\"\"\n",
    "    Z = np.dot(W,A)+b\n",
    "    \n",
    "    assert(Z.shape == (W.shape[0], A.shape[1]))\n",
    "    cache = (A, W, b)\n",
    "    \n",
    "    return Z, cache"
   ]
  },
  {
   "cell_type": "code",
   "execution_count": 21,
   "metadata": {},
   "outputs": [],
   "source": [
    "def linear_activation_forward(A_prev, W, b, activation = 'sigmoid'):\n",
    "    \"\"\"\n",
    "    Implement the forward propagation for the LINEAR->ACTIVATION layer\n",
    "\n",
    "    Arguments:\n",
    "    A_prev -- activations from previous layer (or input data): (size of previous layer, number of examples)\n",
    "    W -- weights matrix: numpy array of shape (size of current layer, size of previous layer)\n",
    "    b -- bias vector, numpy array of shape (size of the current layer, 1)\n",
    "    activation -- the activation to be used in this layer, stored as a text string: \"sigmoid\" or \"tanh\"\n",
    "\n",
    "    Returns:\n",
    "    A -- the output of the activation function, also called the post-activation value \n",
    "    cache -- a python tuple containing \"linear_cache\" and \"activation_cache\";\n",
    "             stored for computing the backward pass efficiently\n",
    "    \"\"\"\n",
    "    \n",
    "    if activation == \"sigmoid\":\n",
    "        # Inputs: \"A_prev, W, b\". Outputs: \"A, activation_cache\".\n",
    "\n",
    "        Z, linear_cache = linear_forward(A_prev, W, b)\n",
    "        A, activation_cache = sigmoid(Z)\n",
    "\n",
    "    \n",
    "    elif activation == \"tanh\":\n",
    "        # Inputs: \"A_prev, W, b\". Outputs: \"A, activation_cache\".\n",
    "\n",
    "        Z, linear_cache = linear_forward(A_prev, W, b)\n",
    "        A, activation_cache = tanh(Z)\n",
    "\n",
    "    \n",
    "    assert (A.shape == (W.shape[0], A_prev.shape[1]))\n",
    "    cache = (linear_cache, activation_cache)\n",
    "\n",
    "    return A, cache"
   ]
  },
  {
   "cell_type": "code",
   "execution_count": 22,
   "metadata": {},
   "outputs": [],
   "source": [
    "def L_model_forward(X, parameters, activation = \"sigmoid\"):\n",
    "    \"\"\"\n",
    "    Implement forward propagation\n",
    "    \n",
    "    Arguments:\n",
    "    X -- data, numpy array of shape (input size, number of examples)\n",
    "    parameters -- output of initialize()\n",
    "    \n",
    "    Returns:\n",
    "    AL -- last post-activation value\n",
    "    caches -- list of caches containing:\n",
    "                every cache of linear_activation_forward() (there are L-1 of them, indexed from 0 to L-1)\n",
    "    \"\"\"\n",
    "\n",
    "    caches = []\n",
    "    A = X\n",
    "    L = len(parameters) // 2                  # number of layers in the neural network\n",
    "    \n",
    "    # Forwardprop\n",
    "    for l in range(1, L+1):\n",
    "        A_prev = A \n",
    "\n",
    "        A, cache = linear_activation_forward(A_prev, parameters['W' + str(l)], parameters['b' + str(l)], activation)\n",
    "        caches.append(cache)\n",
    "\n",
    "    assert(A.shape[1] == X.shape[1])\n",
    "            \n",
    "    return A, caches"
   ]
  },
  {
   "cell_type": "markdown",
   "metadata": {},
   "source": [
    "## Compute Cost"
   ]
  },
  {
   "cell_type": "code",
   "execution_count": 23,
   "metadata": {},
   "outputs": [],
   "source": [
    "def compute_cost(AL, caches, Y, multiclass = False):\n",
    "    \"\"\"\n",
    "    Implement the cost function:\n",
    "    \n",
    "    Arguments:\n",
    "    AL -- probability vector corresponding to your label predictions, shape (1, number of examples)\n",
    "    Y -- true \"label\" vector, shape (1, number of examples)\n",
    "\n",
    "    Returns:\n",
    "    cost -- cross-entropy cost\n",
    "    \"\"\"\n",
    "    \n",
    "    m = Y.shape[1]\n",
    "\n",
    "    # Compute loss from aL and y.\n",
    "    if multiclass == False:\n",
    "        cost = -(1/m)*(np.dot(np.log(AL), Y.T)+ np.dot(np.log(1-AL), (1-Y).T))\n",
    "\n",
    "    else:\n",
    "        z = caches[-1][1]                 #last z from forwardprop\n",
    "        p_softmax = softmax(z)\n",
    "        cost = -np.mean(np.dot(Y.T, np.log(p_softmax))) #+ np.dot(np.log(1-p_softmax), (1-Y).T))\n",
    "        \n",
    "    cost = np.squeeze(cost)      # To make sure your cost's shape is what we expect (e.g. this turns [[17]] into 17).\n",
    "    #assert(cost.shape[1] == ())\n",
    "    \n",
    "    return cost"
   ]
  },
  {
   "cell_type": "markdown",
   "metadata": {},
   "source": [
    "## Backprop"
   ]
  },
  {
   "cell_type": "code",
   "execution_count": 24,
   "metadata": {},
   "outputs": [],
   "source": [
    "def linear_backward(dZ, cache):\n",
    "    \"\"\"\n",
    "    Implement the linear portion of backward propagation for a single layer (layer l)\n",
    "\n",
    "    Arguments:\n",
    "    dZ -- Gradient of the cost with respect to the linear output (of current layer l)\n",
    "    cache -- tuple of values (A_prev, W, b) coming from the forward propagation in the current layer\n",
    "\n",
    "    Returns:\n",
    "    dA_prev -- Gradient of the cost with respect to the activation (of the previous layer l-1), same shape as A_prev\n",
    "    dW -- Gradient of the cost with respect to W (current layer l), same shape as W\n",
    "    db -- Gradient of the cost with respect to b (current layer l), same shape as b\n",
    "    \"\"\"\n",
    "    A_prev, W, b = cache\n",
    "    m = A_prev.shape[1]\n",
    "\n",
    "    dW = (1/m)*np.dot(dZ, A_prev.T)\n",
    "    db = (1/m)*np.sum(dZ, axis=1, keepdims=True)\n",
    "    dA_prev = np.dot(W.T, dZ)\n",
    "\n",
    "    \n",
    "    assert (dA_prev.shape == A_prev.shape)\n",
    "    assert (dW.shape == W.shape)\n",
    "    assert (db.shape == b.shape)\n",
    "    \n",
    "    return dA_prev, dW, db"
   ]
  },
  {
   "cell_type": "code",
   "execution_count": 25,
   "metadata": {},
   "outputs": [],
   "source": [
    "def sigmoid_backward(dA, cache):\n",
    "    \"\"\"\n",
    "    The backward propagation for a single SIGMOID unit.\n",
    "    Arguments:\n",
    "    dA - post-activation gradient, of any shape\n",
    "    cache - 'Z' where we store for computing backward propagation efficiently\n",
    "    Returns:\n",
    "    dZ - Gradient of the cost with respect to Z\n",
    "    \"\"\"\n",
    "    Z = cache \n",
    "    s = 1/(1+np.exp(-Z))\n",
    "    dZ = dA * s * (1-s)\n",
    "    return dZ"
   ]
  },
  {
   "cell_type": "code",
   "execution_count": 26,
   "metadata": {},
   "outputs": [],
   "source": [
    "def tanh_backward(dA, cache):\n",
    "    \"\"\"\n",
    "    The backward propagation for a single SIGMOID unit.\n",
    "    Arguments:\n",
    "    dA - post-activation gradient, of any shape\n",
    "    cache - 'Z' where we store for computing backward propagation efficiently\n",
    "    Returns:\n",
    "    dZ - Gradient of the cost with respect to Z\n",
    "    \"\"\"\n",
    "    z = cache \n",
    "    s = (np.exp(z)-np.exp(-z))/(np.exp(z)+np.exp(-z))\n",
    "    dZ = dA *(1-np.power(s,2))\n",
    "    return dZ"
   ]
  },
  {
   "cell_type": "code",
   "execution_count": 27,
   "metadata": {},
   "outputs": [],
   "source": [
    "def linear_activation_backward(dA, cache, activation= 'sigmoid'):\n",
    "    \"\"\"\n",
    "    Implement the backward propagation for the LINEAR->ACTIVATION layer.\n",
    "    \n",
    "    Arguments:\n",
    "    dA -- post-activation gradient for current layer l \n",
    "    cache -- tuple of values (linear_cache, activation_cache) we store for computing backward propagation efficiently\n",
    "    activation -- the activation to be used in this layer, stored as a text string: \"sigmoid\" or \"relu\"\n",
    "    \n",
    "    Returns:\n",
    "    dA_prev -- Gradient of the cost with respect to the activation (of the previous layer l-1), same shape as A_prev\n",
    "    dW -- Gradient of the cost with respect to W (current layer l), same shape as W\n",
    "    db -- Gradient of the cost with respect to b (current layer l), same shape as b\n",
    "    \"\"\"\n",
    "    linear_cache, activation_cache = cache\n",
    "    \n",
    "    if activation == \"tanh\":\n",
    "        dZ = tanh_backward(dA, activation_cache)\n",
    "        dA_prev, dW, db = linear_backward(dZ, linear_cache)\n",
    "        \n",
    "    elif activation == \"sigmoid\":\n",
    "        dZ = sigmoid_backward(dA, activation_cache)\n",
    "        dA_prev, dW, db = linear_backward(dZ, linear_cache)\n",
    "    \n",
    "    return dA_prev, dW, db"
   ]
  },
  {
   "cell_type": "code",
   "execution_count": 28,
   "metadata": {},
   "outputs": [],
   "source": [
    "def L_model_backward(AL, Y, caches, activation = \"sigmoid\"):\n",
    "    \"\"\"\n",
    "    Implement the backward propagation for the [LINEAR->RELU] * (L-1) -> LINEAR -> SIGMOID group\n",
    "    \n",
    "    Arguments:\n",
    "    AL -- probability vector, output of the forward propagation (L_model_forward())\n",
    "    Y -- true \"label\" vector (containing 0 if non-cat, 1 if cat)\n",
    "    caches -- list of caches containing:\n",
    "                every cache of linear_activation_forward() with \"relu\" (it's caches[l], for l in range(L-1) i.e l = 0...L-2)\n",
    "                the cache of linear_activation_forward() with \"sigmoid\" (it's caches[L-1])\n",
    "    \n",
    "    Returns:\n",
    "    grads -- A dictionary with the gradients\n",
    "             grads[\"dA\" + str(l)] = ... \n",
    "             grads[\"dW\" + str(l)] = ...\n",
    "             grads[\"db\" + str(l)] = ... \n",
    "    \"\"\"\n",
    "    grads = {}\n",
    "    L = len(caches) # the number of layers\n",
    "    m = AL.shape[1]\n",
    "    Y = Y.reshape(AL.shape) # after this line, Y is the same shape as AL\n",
    "    \n",
    "    # Initializing the backpropagation\n",
    "    dAL = - (np.divide(Y, AL) - np.divide(1 - Y, 1 - AL))\n",
    " \n",
    "    # Lth layer (SIGMOID -> LINEAR) gradients. Inputs: \"dAL, current_cache\". Outputs: \"grads[\"dAL-1\"], grads[\"dWL\"], grads[\"dbL\"]\n",
    "    current_cache = caches[L-1]\n",
    "    grads[\"dA\" + str(L-1)], grads[\"dW\" + str(L)], grads[\"db\" + str(L)] = linear_activation_backward(dAL, current_cache, activation)\n",
    " \n",
    "    # Loop from l=L-2 to l=0\n",
    "    for l in reversed(range(L-1)):\n",
    "        # lth layer: (SIGMOID -> LINEAR) gradients.\n",
    "        # Inputs: \"grads[\"dA\" + str(l + 1)], current_cache\". Outputs: \"grads[\"dA\" + str(l)] , grads[\"dW\" + str(l + 1)] , grads[\"db\" + str(l + 1)] \n",
    "\n",
    "        current_cache = caches[l]\n",
    "        dA_prev_temp, dW_temp, db_temp = linear_activation_backward(grads[\"dA\" + str(l+1)], current_cache, activation)\n",
    "        grads[\"dA\" + str(l)] = dA_prev_temp\n",
    "        grads[\"dW\" + str(l + 1)] = dW_temp\n",
    "        grads[\"db\" + str(l + 1)] = db_temp\n",
    "\n",
    "    return grads"
   ]
  },
  {
   "cell_type": "markdown",
   "metadata": {},
   "source": [
    "## Update"
   ]
  },
  {
   "cell_type": "code",
   "execution_count": 29,
   "metadata": {},
   "outputs": [],
   "source": [
    "def update_parameters(parameters, grads, learning_rate):\n",
    "    \"\"\"\n",
    "    Update parameters using gradient descent\n",
    "    \n",
    "    Arguments:\n",
    "    parameters -- python dictionary containing your parameters \n",
    "    grads -- python dictionary containing your gradients, output of L_model_backward\n",
    "    \n",
    "    Returns:\n",
    "    parameters -- python dictionary containing your updated parameters \n",
    "                  parameters[\"W\" + str(l)] = ... \n",
    "                  parameters[\"b\" + str(l)] = ...\n",
    "    \"\"\"\n",
    "    \n",
    "    L = len(parameters) // 2 # number of layers in the neural network\n",
    "\n",
    "    # Update rule for each parameter. Use a for loop.\n",
    "\n",
    "    for l in range(L):\n",
    "        parameters[\"W\" + str(l+1)] = parameters[\"W\" + str(l+1)] - learning_rate*grads[\"dW\" + str(l+1)]\n",
    "        parameters[\"b\" + str(l+1)] = parameters[\"b\" + str(l+1)] - learning_rate*grads[\"db\" + str(l+1)]\n",
    "\n",
    "    return parameters"
   ]
  },
  {
   "cell_type": "markdown",
   "metadata": {},
   "source": [
    "## Model"
   ]
  },
  {
   "cell_type": "code",
   "execution_count": 30,
   "metadata": {},
   "outputs": [],
   "source": [
    "# def two_layer_model(X, Y, layers_dim, learning_rate = 0.0075, num_iterations = 3000, print_cost=False):\n",
    "#     \"\"\"\n",
    "#     Implements a two-layer neural network: LINEAR->RELU->LINEAR->SIGMOID.\n",
    "    \n",
    "#     Arguments:\n",
    "#     X -- input data, of shape (n_x, number of examples)\n",
    "#     Y -- true \"label\" vector (containing 1 if cat, 0 if non-cat), of shape (1, number of examples)\n",
    "#     layers_dim -- dimensions of the layers (n_x, n_h, n_y)\n",
    "#     num_iterations -- number of iterations of the optimization loop\n",
    "#     learning_rate -- learning rate of the gradient descent update rule\n",
    "#     print_cost -- If set to True, this will print the cost every 100 iterations \n",
    "    \n",
    "#     Returns:\n",
    "#     parameters -- a dictionary containing W1, W2, b1, and b2\n",
    "#     \"\"\"\n",
    "    \n",
    "#     #np.random.seed(1)\n",
    "#     grads = {}\n",
    "#     costs = []                              # to keep track of the cost\n",
    "#     m = X.shape[1]                           # number of examples\n",
    "#     (n_x, n_h, n_y) = layers_dim\n",
    "    \n",
    "#     # Initialize parameters dictionary, by calling one of the functions you'd previously implemented\n",
    "#     parameters = initialize(layers_dim)\n",
    "\n",
    "    \n",
    "#     # Get W1, b1, W2 and b2 from the dictionary parameters.\n",
    "#     W1 = parameters[\"W1\"]\n",
    "#     b1 = parameters[\"b1\"]\n",
    "#     W2 = parameters[\"W2\"]\n",
    "#     b2 = parameters[\"b2\"]\n",
    "    \n",
    "#     # Loop (gradient descent)\n",
    "\n",
    "#     for i in range(0, num_iterations):\n",
    "\n",
    "#         # Forward propagation: LINEAR -> RELU -> LINEAR -> SIGMOID. Inputs: \"X, W1, b1, W2, b2\". Output: \"A1, cache1, A2, cache2\".\n",
    "#         A1, cache1 = linear_activation_forward(X, W1, b1, \"sigmoid\")\n",
    "#         A2, cache2 = linear_activation_forward(A1, W2, b2, \"sigmoid\")\n",
    "        \n",
    "#         # Compute cost\n",
    "#         cost = compute_cost(A2, cashe2, Y)\n",
    "        \n",
    "#         # Initializing backward propagation\n",
    "#         dA2 = - (np.divide(Y, A2) - np.divide(1 - Y, 1 - A2))\n",
    "        \n",
    "#         # Backward propagation. Inputs: \"dA2, cache2, cache1\". Outputs: \"dA1, dW2, db2; also dA0 (not used), dW1, db1\".\n",
    "#         dA1, dW2, db2 = linear_activation_backward(dA2, cache2, \"sigmoid\")\n",
    "#         dA0, dW1, db1 = linear_activation_backward(dA1, cache1, \"sigmoid\")\n",
    "    \n",
    "#         # Set grads['dWl'] to dW1, grads['db1'] to db1, grads['dW2'] to dW2, grads['db2'] to db2\n",
    "#         grads['dW1'] = dW1\n",
    "#         grads['db1'] = db1\n",
    "#         grads['dW2'] = dW2\n",
    "#         grads['db2'] = db2\n",
    "        \n",
    "#         # Update parameters.\n",
    "#         parameters = update_parameters(parameters, grads, learning_rate)\n",
    "\n",
    "#         # Retrieve W1, b1, W2, b2 from parameters\n",
    "#         W1 = parameters[\"W1\"]\n",
    "#         b1 = parameters[\"b1\"]\n",
    "#         W2 = parameters[\"W2\"]\n",
    "#         b2 = parameters[\"b2\"]\n",
    "        \n",
    "#         # Print the cost every 100 training example\n",
    "# #         if print_cost and i % 100 == 0:\n",
    "# #             print(\"Cost after iteration {}: {}\".format(i, np.squeeze(cost)))\n",
    "#         if print_cost and i % 100 == 0:\n",
    "#             costs.append(cost)\n",
    "       \n",
    "#     if print_cost:     \n",
    "#         # plot the cost\n",
    "#         plt.plot(np.squeeze(costs))\n",
    "#         plt.ylabel('cost')\n",
    "#         plt.xlabel('iterations (per hundreds)')\n",
    "#         plt.title(\"Learning rate =\" + str(learning_rate))\n",
    "#         plt.show()\n",
    "    \n",
    "#     return parameters"
   ]
  },
  {
   "cell_type": "code",
   "execution_count": 31,
   "metadata": {},
   "outputs": [],
   "source": [
    "\n",
    "def L_layer_model(X, Y, layer_dim, multiclass= False, learning_rate = 0.0075, num_iterations = 3000, activation = \"sigmoid\", plot=False):\n",
    "    \"\"\"\n",
    "    Implements a L-layer neural network: [LINEAR->RELU]*(L-1)->LINEAR->SIGMOID.\n",
    "    \n",
    "    Arguments:\n",
    "    X -- data, numpy array of shape (num_px * num_px * 3, number of examples)\n",
    "    Y -- true \"label\" vector (containing 0 if cat, 1 if non-cat), of shape (1, number of examples)\n",
    "    layers_dim -- list containing the input size and each layer size, of length (number of layers + 1).\n",
    "    learning_rate -- learning rate of the gradient descent update rule\n",
    "    num_iterations -- number of iterations of the optimization loop\n",
    "    print_cost -- if True, it prints the cost every 100 steps\n",
    "    \n",
    "    Returns:\n",
    "    parameters -- parameters learnt by the model. They can then be used to predict.\n",
    "    \"\"\"\n",
    "\n",
    "    #np.random.seed(1)\n",
    "    costs = []                         # keep track of cost\n",
    "    \n",
    "    # Parameters initialization.\n",
    "    parameters = initialize(layer_dim)\n",
    "\n",
    "    # Loop (gradient descent)\n",
    "    for i in range(0, num_iterations):\n",
    "\n",
    "        # Forward propagation: \n",
    "        AL, caches = L_model_forward(X, parameters, activation)\n",
    "\n",
    "        # Compute cost.\n",
    "        cost = compute_cost(AL, caches, Y, multiclass)\n",
    "        #print(cost)\n",
    "    \n",
    "        # Backward propagation.\n",
    "        grads = L_model_backward(AL, Y, caches, activation)\n",
    "\n",
    "        # Update parameters.\n",
    "        parameters = update_parameters(parameters, grads, learning_rate)\n",
    "\n",
    "        # Print the cost every 100 training example\n",
    "#         if print_cost and i % 100 == 0:\n",
    "#             print (\"Cost after iteration %i: %f\" %(i, cost))\n",
    "        if i % 100 == 0:\n",
    "            costs.append(cost)\n",
    "    if plot:     \n",
    "        # plot the cost\n",
    "        plt.plot(costs)\n",
    "        plt.ylabel('cost')\n",
    "        plt.xlabel('iterations (per hundreds)')\n",
    "        plt.title(\"Learning rate =\" + str(learning_rate))\n",
    "        plt.show()\n",
    "    \n",
    "    return parameters, costs"
   ]
  },
  {
   "cell_type": "markdown",
   "metadata": {},
   "source": [
    "## Predict"
   ]
  },
  {
   "cell_type": "code",
   "execution_count": 32,
   "metadata": {},
   "outputs": [],
   "source": [
    "def predict(X, parameters, multiclass = False):\n",
    "    m = X.shape[1]\n",
    "\n",
    "    # number of layers in the neural network\n",
    "    n = len(parameters) // 2\n",
    "    p = np.zeros((1,m))\n",
    "    \n",
    "    # Forward propagation\n",
    "    probas, caches = L_model_forward(X, parameters)\n",
    "\n",
    "    # convert probas to 0/1 predictions\n",
    "    if multiclass == False:                     # if binaray\n",
    "        p = np.array((probas)>0.5).astype(int)\n",
    "\n",
    "    else:\n",
    "        z = caches[-1][1]  # extract the last z from caches\n",
    "        p_softmax = softmax(z)\n",
    "        p = p_softmax.argmax(axis = 0).reshape(1, Y.shape[1])\n",
    "        \n",
    "    return p"
   ]
  },
  {
   "cell_type": "code",
   "execution_count": 33,
   "metadata": {},
   "outputs": [
    {
     "data": {
      "image/png": "[encoded data removed]",
      "text/plain": [
       "<Figure size 432x288 with 1 Axes>"
      ]
     },
     "metadata": {
      "needs_background": "light"
     },
     "output_type": "display_data"
    }
   ],
   "source": [
    "X = glass_X\n",
    "Y = glass_y\n",
    "label = glass_label\n",
    "layers_dim = [9,6,6]\n",
    "activation= 'sigmoid'\n",
    "multiclass = True\n",
    "parameters, costs = L_layer_model(X, Y, layers_dim, multiclass=True,  learning_rate = 0.001, num_iterations = 10000, plot= True)\n",
    "y_hat = predict(X, parameters, multiclass=True)"
   ]
  },
  {
   "cell_type": "code",
   "execution_count": 34,
   "metadata": {},
   "outputs": [
    {
     "data": {
      "image/png": "[encoded data removed]",
      "text/plain": [
       "<Figure size 432x288 with 1 Axes>"
      ]
     },
     "metadata": {
      "needs_background": "light"
     },
     "output_type": "display_data"
    },
    {
     "data": {
      "text/plain": [
       "0.9670958512160229"
      ]
     },
     "execution_count": 34,
     "metadata": {},
     "output_type": "execute_result"
    }
   ],
   "source": [
    "X = bc_X\n",
    "Y = bc_y\n",
    "layers_dim = [9,3,1]\n",
    "parameters, costs = L_layer_model(X, Y, layers_dim, learning_rate = 0.0075, num_iterations = 5000, plot= True)\n",
    "y_hat = predict(X, parameters)\n",
    "accuracy(Y.flatten(), y_hat.flatten())"
   ]
  },
  {
   "cell_type": "code",
   "execution_count": 35,
   "metadata": {},
   "outputs": [
    {
     "data": {
      "text/plain": [
       "0.5841121495327103"
      ]
     },
     "execution_count": 35,
     "metadata": {},
     "output_type": "execute_result"
    }
   ],
   "source": [
    "X = glass_X\n",
    "Y = glass_y\n",
    "label = glass_label\n",
    "layers_dim = [9,6,6]\n",
    "activation= 'sigmoid'\n",
    "multiclass = True\n",
    "parameters, costs = L_layer_model(X, Y, layers_dim, multiclass=True,  learning_rate = 0.001, num_iterations = 100000, plot= False)\n",
    "y_hat = predict(X, parameters, multiclass=True)\n",
    "accuracy(label, y_hat.flatten())"
   ]
  },
  {
   "cell_type": "code",
   "execution_count": 36,
   "metadata": {},
   "outputs": [
    {
     "data": {
      "image/png": "[encoded data removed]",
      "text/plain": [
       "<Figure size 432x288 with 1 Axes>"
      ]
     },
     "metadata": {
      "needs_background": "light"
     },
     "output_type": "display_data"
    },
    {
     "data": {
      "text/plain": [
       "1.0"
      ]
     },
     "execution_count": 36,
     "metadata": {},
     "output_type": "execute_result"
    }
   ],
   "source": [
    "X = soybean_X\n",
    "Y = soybean_y\n",
    "label = soybean_label\n",
    "layers_dim = [35,5,4]\n",
    "parameters, costs = L_layer_model(X, Y, layers_dim, multiclass= True, learning_rate = 0.01, num_iterations = 5000, plot= True)\n",
    "y_hat = predict(X, parameters, multiclass=True)\n",
    "accuracy(label, y_hat.flatten())"
   ]
  },
  {
   "cell_type": "markdown",
   "metadata": {},
   "source": [
    "##  CV Test"
   ]
  },
  {
   "cell_type": "code",
   "execution_count": 37,
   "metadata": {},
   "outputs": [],
   "source": [
    "def NN_classification_CV_test(X, Y, label, layer_dim, multiclass = False, learning_rate= 0.005, num_iterations = 10000, k_fold = 5, plot = False):\n",
    "    \"\"\"\n",
    "    Conduct Cross Validation for Logistic Regression \n",
    "    Input: X -- data of size (number of feature, number of examples)\n",
    "           Y -- true \"label\" vector (0,1), or shape (number of classes, number of examples) for multiclass\n",
    "           learning_rate : float, training speed regulator\n",
    "           num_iterations : interation upperbound\n",
    "           tol -- tolerance parameter, stopping criteria\n",
    "    Output: Y_prediction :a vector containing all predictions (0/1) for binaray, classification for nulticlass\n",
    "    \"\"\"\n",
    "    k_fold_idx, tuning_set = stratefied_cross_validation(label, k_fold)\n",
    "    \n",
    "    for i in range(k_fold):\n",
    "        result = {'score':[], 'predictions':[],'cross_entropy':[]}\n",
    "        train_idx, test_idx = k_fold_idx[i]\n",
    "        train_X, test_X = X[:,train_idx], X[:,test_idx]\n",
    "        train_y, test_y = Y[:,train_idx], Y[:,test_idx]       \n",
    "            \n",
    "        parameters, costs = L_layer_model(X= train_X, Y= train_y, layer_dim= layer_dim, learning_rate = learning_rate, num_iterations= num_iterations)\n",
    "        y_hats = predict(X, parameters, multiclass = multiclass)\n",
    "        score = accuracy(label.flatten(), y_hats.flatten())\n",
    "        result['score'].append(score)\n",
    "        result['predictions'].append(y_hats)\n",
    "        result['cross_entropy'].append(costs)\n",
    "        \n",
    "        if plot:\n",
    "            y = np.array(result['cross_entropy']).flatten()\n",
    "            x = np.linspace(0, len(y)-1, len(y))\n",
    "            plt.plot(x, y)\n",
    "            plt.title('cross_entropy vs iteration')\n",
    "            plt.xlabel('iteration (x100)')\n",
    "            plt.ylabel('cross_entropy')\n",
    "    print('k-fold average:', np.mean(result['score']))\n",
    "    return result"
   ]
  },
  {
   "cell_type": "code",
   "execution_count": 38,
   "metadata": {},
   "outputs": [
    {
     "name": "stdout",
     "output_type": "stream",
     "text": [
      "k-fold average: 0.9713876967095851\n"
     ]
    },
    {
     "data": {
      "image/png": "[encoded data removed]",
      "text/plain": [
       "<Figure size 432x288 with 1 Axes>"
      ]
     },
     "metadata": {
      "needs_background": "light"
     },
     "output_type": "display_data"
    }
   ],
   "source": [
    "X = bc_X\n",
    "Y = bc_y\n",
    "label = bc_y.flatten()\n",
    "layer_dim = [9,5,1]\n",
    "result = NN_classification_CV_test(X, Y, label, layer_dim, multiclass = False, learning_rate= 0.03, num_iterations = 10000, plot= True, k_fold = 5) "
   ]
  },
  {
   "cell_type": "code",
   "execution_count": 39,
   "metadata": {},
   "outputs": [
    {
     "name": "stdout",
     "output_type": "stream",
     "text": [
      "k-fold average: 0.46261682242990654\n"
     ]
    },
    {
     "data": {
      "image/png": "[encoded data removed]",
      "text/plain": [
       "<Figure size 432x288 with 1 Axes>"
      ]
     },
     "metadata": {
      "needs_background": "light"
     },
     "output_type": "display_data"
    }
   ],
   "source": [
    "X = glass_X\n",
    "Y = glass_y\n",
    "label = glass_label\n",
    "layer_dim = [9,6]\n",
    "result = NN_classification_CV_test(X, Y, label, layer_dim, multiclass = True, learning_rate= 0.005, num_iterations = 10000, plot= True, k_fold = 2) "
   ]
  },
  {
   "cell_type": "code",
   "execution_count": 40,
   "metadata": {},
   "outputs": [
    {
     "data": {
      "text/plain": [
       "(6, 6)"
      ]
     },
     "execution_count": 40,
     "metadata": {},
     "output_type": "execute_result"
    }
   ],
   "source": [
    "result['cross_entropy'][0][0].shape"
   ]
  },
  {
   "cell_type": "code",
   "execution_count": 41,
   "metadata": {},
   "outputs": [
    {
     "name": "stdout",
     "output_type": "stream",
     "text": [
      "k-fold average: 1.0\n"
     ]
    },
    {
     "data": {
      "image/png": "[encoded data removed]",
      "text/plain": [
       "<Figure size 432x288 with 1 Axes>"
      ]
     },
     "metadata": {
      "needs_background": "light"
     },
     "output_type": "display_data"
    }
   ],
   "source": [
    "X = soybean_X\n",
    "Y = soybean_y\n",
    "label = np.array(soybean_label)\n",
    "layer_dim = [35,5,4]\n",
    "result = NN_classification_CV_test(X, Y, label, layer_dim, multiclass = True, learning_rate= 0.01, num_iterations = 10000, plot= True, k_fold = 5) "
   ]
  },
  {
   "cell_type": "markdown",
   "metadata": {},
   "source": [
    "## Param tuning"
   ]
  },
  {
   "cell_type": "code",
   "execution_count": 42,
   "metadata": {},
   "outputs": [],
   "source": [
    "def param_tuning(X, Y, label = None, learning_rate= [0.01], num_iterations = [10000], tol = [1e-5], plot= True):\n",
    "    \"\"\"\n",
    "    This function is used to tune hyper parameters. \n",
    "    \n",
    "    \"\"\"\n",
    "    \n",
    "    if label is None:\n",
    "        label = Y\n",
    "    k_fold_idx, tuning_idx = stratefied_cross_validation(label)\n",
    "    train_idx = np.concatenate((np.array(k_fold_idx[0][0]), np.array(k_fold_idx[0][1])))\n",
    "    train_X, tuning_X = X[:,train_idx], X[:,tuning_idx]\n",
    "    \n",
    "    if len(Y.shape) ==1 or Y.shape[0]==1:\n",
    "        train_y, tuning_y = expand_dims(Y[train_idx], axis = 0), expand_dims(Y[tuning_idx], axis = 0)\n",
    "    else:\n",
    "        train_y, tuning_y = Y[:,train_idx], Y[:,tuning_idx]\n",
    "        \n",
    "    result = {'score':[], 'predictions':[],'cross_entropy':[]}\n",
    "    ParamList = [learning_rate, num_iterations, tol]\n",
    "    param = ParamList[np.argmax([len(learning_rate), len(num_iterations), len(tol)])]\n",
    "    \n",
    "    counter = 0\n",
    "    for lr in learning_rate:\n",
    "        for t in tol:\n",
    "            for num_iter in num_iterations:\n",
    "                score, Y_prediction, cross_entropy, model = LogisticRegression(X= train_X, Y= train_y, test_X = tuning_X, test_y = tuning_y, learning_rate = lr, num_iterations= num_iter, tol =t)\n",
    "                result['score'].append(score)\n",
    "                result['predictions'].append(Y_prediction)\n",
    "                result['cross_entropy'].append(cross_entropy)\n",
    "                counter +=1\n",
    "    if plot:\n",
    "        x = [p for p in param]\n",
    "        y = result['score']\n",
    "        plt.plot(x, y)\n",
    "        plt.title('score vs hyperparamter')\n",
    "        plt.xlabel(str(param))\n",
    "        plt.ylabel('score')\n",
    "    \n",
    "    return result\n",
    "    "
   ]
  },
  {
   "cell_type": "code",
   "execution_count": null,
   "metadata": {},
   "outputs": [],
   "source": []
  },
  {
   "cell_type": "code",
   "execution_count": null,
   "metadata": {},
   "outputs": [],
   "source": []
  }
 ],
 "metadata": {
  "kernelspec": {
   "display_name": "Python 3",
   "language": "python",
   "name": "python3"
  },
  "language_info": {
   "codemirror_mode": {
    "name": "ipython",
    "version": 3
   },
   "file_extension": ".py",
   "mimetype": "text/x-python",
   "name": "python",
   "nbconvert_exporter": "python",
   "pygments_lexer": "ipython3",
   "version": "3.8.5"
  }
 },
 "nbformat": 4,
 "nbformat_minor": 4
}
