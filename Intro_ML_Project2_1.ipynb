{
 "cells": [
  {
   "cell_type": "markdown",
   "metadata": {},
   "source": [
    "# Intro to ML Project 2\n",
    "### 0. [Preprocessing](#Preprocessing)\n",
    "        0.0 Data Loading\n",
    "        0.1 Data Cleaning\n",
    "        0.2 Descrete to Numeric\n",
    "        0.3 5-fold CV\n",
    "### 1. [K-Nearest-Neigboor](#K-Nearest-Neigboor)\n",
    "### 2. [Edited-K-Nearest-Neigboor](#Edited-K-Nearest-Neigboor)\n",
    "### 3. [Condenced-K-Nearest-Neigboor](#Edited-K-Nearest-Neigboor)"
   ]
  },
  {
   "cell_type": "markdown",
   "metadata": {},
   "source": [
    "## Preprocessing"
   ]
  },
  {
   "cell_type": "code",
   "execution_count": 1,
   "metadata": {},
   "outputs": [],
   "source": [
    "# loading libraries\n",
    "%matplotlib inline\n",
    "import numpy as np\n",
    "import pandas as pd\n",
    "import math\n",
    "import matplotlib.pyplot as plt"
   ]
  },
  {
   "cell_type": "code",
   "execution_count": 2,
   "metadata": {},
   "outputs": [],
   "source": [
    "## Glass (classification)\n",
    "file_loc = './Data_Set/glass.data'\n",
    "glass = np.genfromtxt(file_loc,delimiter=',')\n",
    "#pd.DataFrame(glass)\n",
    "glass_y = glass[:,10].astype(int) # target value\n",
    "glass_X = glass[:,0:10] # features "
   ]
  },
  {
   "cell_type": "code",
   "execution_count": 3,
   "metadata": {},
   "outputs": [],
   "source": [
    "## Since we will be using Euclidian distance as Distance measure first we need to normalize \n",
    "## each features\n",
    "def normalize(col, e = 1e-9):\n",
    "    m = min(col)\n",
    "    M = max(col)\n",
    "    return np.array([(x-m+e)/(M-m+e) for x in col])"
   ]
  },
  {
   "cell_type": "code",
   "execution_count": 6,
   "metadata": {},
   "outputs": [
    {
     "data": {
      "text/html": [
       "<div>\n",
       "<style scoped>\n",
       "    .dataframe tbody tr th:only-of-type {\n",
       "        vertical-align: middle;\n",
       "    }\n",
       "\n",
       "    .dataframe tbody tr th {\n",
       "        vertical-align: top;\n",
       "    }\n",
       "\n",
       "    .dataframe thead th {\n",
       "        text-align: right;\n",
       "    }\n",
       "</style>\n",
       "<table border=\"1\" class=\"dataframe\">\n",
       "  <thead>\n",
       "    <tr style=\"text-align: right;\">\n",
       "      <th></th>\n",
       "      <th>0</th>\n",
       "      <th>1</th>\n",
       "      <th>2</th>\n",
       "      <th>3</th>\n",
       "      <th>4</th>\n",
       "      <th>5</th>\n",
       "      <th>6</th>\n",
       "      <th>7</th>\n",
       "      <th>8</th>\n",
       "      <th>9</th>\n",
       "    </tr>\n",
       "  </thead>\n",
       "  <tbody>\n",
       "    <tr>\n",
       "      <th>0</th>\n",
       "      <td>4.694836e-12</td>\n",
       "      <td>0.432836</td>\n",
       "      <td>0.437594</td>\n",
       "      <td>1.000000e+00</td>\n",
       "      <td>0.252336</td>\n",
       "      <td>0.351786</td>\n",
       "      <td>9.661836e-03</td>\n",
       "      <td>0.308550</td>\n",
       "      <td>3.174603e-10</td>\n",
       "      <td>1.960784e-09</td>\n",
       "    </tr>\n",
       "    <tr>\n",
       "      <th>1</th>\n",
       "      <td>4.694836e-03</td>\n",
       "      <td>0.283582</td>\n",
       "      <td>0.475188</td>\n",
       "      <td>8.017817e-01</td>\n",
       "      <td>0.333333</td>\n",
       "      <td>0.521429</td>\n",
       "      <td>7.729469e-02</td>\n",
       "      <td>0.223048</td>\n",
       "      <td>3.174603e-10</td>\n",
       "      <td>1.960784e-09</td>\n",
       "    </tr>\n",
       "    <tr>\n",
       "      <th>2</th>\n",
       "      <td>9.389671e-03</td>\n",
       "      <td>0.220808</td>\n",
       "      <td>0.421053</td>\n",
       "      <td>7.906459e-01</td>\n",
       "      <td>0.389408</td>\n",
       "      <td>0.567857</td>\n",
       "      <td>6.280193e-02</td>\n",
       "      <td>0.218401</td>\n",
       "      <td>3.174603e-10</td>\n",
       "      <td>1.960784e-09</td>\n",
       "    </tr>\n",
       "    <tr>\n",
       "      <th>3</th>\n",
       "      <td>1.408451e-02</td>\n",
       "      <td>0.285777</td>\n",
       "      <td>0.372932</td>\n",
       "      <td>8.218263e-01</td>\n",
       "      <td>0.311526</td>\n",
       "      <td>0.500000</td>\n",
       "      <td>9.178744e-02</td>\n",
       "      <td>0.259294</td>\n",
       "      <td>3.174603e-10</td>\n",
       "      <td>1.960784e-09</td>\n",
       "    </tr>\n",
       "    <tr>\n",
       "      <th>4</th>\n",
       "      <td>1.877934e-02</td>\n",
       "      <td>0.275241</td>\n",
       "      <td>0.381955</td>\n",
       "      <td>8.062361e-01</td>\n",
       "      <td>0.295950</td>\n",
       "      <td>0.583929</td>\n",
       "      <td>8.856683e-02</td>\n",
       "      <td>0.245353</td>\n",
       "      <td>3.174603e-10</td>\n",
       "      <td>1.960784e-09</td>\n",
       "    </tr>\n",
       "    <tr>\n",
       "      <th>...</th>\n",
       "      <td>...</td>\n",
       "      <td>...</td>\n",
       "      <td>...</td>\n",
       "      <td>...</td>\n",
       "      <td>...</td>\n",
       "      <td>...</td>\n",
       "      <td>...</td>\n",
       "      <td>...</td>\n",
       "      <td>...</td>\n",
       "      <td>...</td>\n",
       "    </tr>\n",
       "    <tr>\n",
       "      <th>209</th>\n",
       "      <td>9.812207e-01</td>\n",
       "      <td>0.223003</td>\n",
       "      <td>0.512782</td>\n",
       "      <td>2.227171e-10</td>\n",
       "      <td>0.806854</td>\n",
       "      <td>0.500000</td>\n",
       "      <td>1.288245e-02</td>\n",
       "      <td>0.348513</td>\n",
       "      <td>3.365079e-01</td>\n",
       "      <td>1.960784e-09</td>\n",
       "    </tr>\n",
       "    <tr>\n",
       "      <th>210</th>\n",
       "      <td>9.859155e-01</td>\n",
       "      <td>0.250220</td>\n",
       "      <td>0.630075</td>\n",
       "      <td>2.227171e-10</td>\n",
       "      <td>0.529595</td>\n",
       "      <td>0.580357</td>\n",
       "      <td>1.610306e-10</td>\n",
       "      <td>0.276022</td>\n",
       "      <td>5.047619e-01</td>\n",
       "      <td>1.960784e-09</td>\n",
       "    </tr>\n",
       "    <tr>\n",
       "      <th>211</th>\n",
       "      <td>9.906103e-01</td>\n",
       "      <td>0.417033</td>\n",
       "      <td>0.545865</td>\n",
       "      <td>2.227171e-10</td>\n",
       "      <td>0.538941</td>\n",
       "      <td>0.644643</td>\n",
       "      <td>1.610306e-10</td>\n",
       "      <td>0.279740</td>\n",
       "      <td>5.206349e-01</td>\n",
       "      <td>1.960784e-09</td>\n",
       "    </tr>\n",
       "    <tr>\n",
       "      <th>212</th>\n",
       "      <td>9.953052e-01</td>\n",
       "      <td>0.235294</td>\n",
       "      <td>0.548872</td>\n",
       "      <td>2.227171e-10</td>\n",
       "      <td>0.514019</td>\n",
       "      <td>0.678571</td>\n",
       "      <td>1.610306e-10</td>\n",
       "      <td>0.283457</td>\n",
       "      <td>4.984127e-01</td>\n",
       "      <td>1.960784e-09</td>\n",
       "    </tr>\n",
       "    <tr>\n",
       "      <th>213</th>\n",
       "      <td>1.000000e+00</td>\n",
       "      <td>0.261633</td>\n",
       "      <td>0.526316</td>\n",
       "      <td>2.227171e-10</td>\n",
       "      <td>0.557632</td>\n",
       "      <td>0.633929</td>\n",
       "      <td>1.610306e-10</td>\n",
       "      <td>0.296468</td>\n",
       "      <td>5.301587e-01</td>\n",
       "      <td>1.960784e-09</td>\n",
       "    </tr>\n",
       "  </tbody>\n",
       "</table>\n",
       "<p>214 rows × 10 columns</p>\n",
       "</div>"
      ],
      "text/plain": [
       "                0         1         2             3         4         5  \\\n",
       "0    4.694836e-12  0.432836  0.437594  1.000000e+00  0.252336  0.351786   \n",
       "1    4.694836e-03  0.283582  0.475188  8.017817e-01  0.333333  0.521429   \n",
       "2    9.389671e-03  0.220808  0.421053  7.906459e-01  0.389408  0.567857   \n",
       "3    1.408451e-02  0.285777  0.372932  8.218263e-01  0.311526  0.500000   \n",
       "4    1.877934e-02  0.275241  0.381955  8.062361e-01  0.295950  0.583929   \n",
       "..            ...       ...       ...           ...       ...       ...   \n",
       "209  9.812207e-01  0.223003  0.512782  2.227171e-10  0.806854  0.500000   \n",
       "210  9.859155e-01  0.250220  0.630075  2.227171e-10  0.529595  0.580357   \n",
       "211  9.906103e-01  0.417033  0.545865  2.227171e-10  0.538941  0.644643   \n",
       "212  9.953052e-01  0.235294  0.548872  2.227171e-10  0.514019  0.678571   \n",
       "213  1.000000e+00  0.261633  0.526316  2.227171e-10  0.557632  0.633929   \n",
       "\n",
       "                6         7             8             9  \n",
       "0    9.661836e-03  0.308550  3.174603e-10  1.960784e-09  \n",
       "1    7.729469e-02  0.223048  3.174603e-10  1.960784e-09  \n",
       "2    6.280193e-02  0.218401  3.174603e-10  1.960784e-09  \n",
       "3    9.178744e-02  0.259294  3.174603e-10  1.960784e-09  \n",
       "4    8.856683e-02  0.245353  3.174603e-10  1.960784e-09  \n",
       "..            ...       ...           ...           ...  \n",
       "209  1.288245e-02  0.348513  3.365079e-01  1.960784e-09  \n",
       "210  1.610306e-10  0.276022  5.047619e-01  1.960784e-09  \n",
       "211  1.610306e-10  0.279740  5.206349e-01  1.960784e-09  \n",
       "212  1.610306e-10  0.283457  4.984127e-01  1.960784e-09  \n",
       "213  1.610306e-10  0.296468  5.301587e-01  1.960784e-09  \n",
       "\n",
       "[214 rows x 10 columns]"
      ]
     },
     "execution_count": 6,
     "metadata": {},
     "output_type": "execute_result"
    }
   ],
   "source": [
    "# Sample normalized data - glass\n",
    "n_row, n_col = glass_X.shape\n",
    "glass_X_norm = glass_X.copy()\n",
    "for idx in range(n_col):\n",
    "    glass_X_norm[:, idx] = normalize(glass_X[:,idx])\n",
    "pd.DataFrame(glass_X_norm)"
   ]
  },
  {
   "cell_type": "code",
   "execution_count": 7,
   "metadata": {},
   "outputs": [],
   "source": [
    "## Segmetation (classification)\n",
    "file_loc = './Data_Set/segmentation.data'\n",
    "segmentation = np.array(pd.read_csv(file_loc, skiprows=[0,1,2,3,4]))\n",
    "#pd.DataFrame(segmentation)\n",
    "segmentation_y = segmentation[:, 0] # targets\n",
    "segmentation_X = segmentation[:,1:] # features\n",
    "## We need to convert the str value in target in to descrete nums\n",
    "names = np.unique(segmentation_y)\n",
    "# creating dict for each {class:int}\n",
    "d_seg = dict(zip(names, np.linspace(0,len(names)-1,len(names),dtype=int)))\n",
    "segmentation_y = np.array([d_seg[name] for name in segmentation_y])\n",
    "# Normalizing each \n",
    "n_row, n_col = glass_X.shape\n",
    "segmentation_X_norm = segmentation_X.copy()\n",
    "for idx in range(n_col):\n",
    "    segmentation_X_norm[:, idx] = normalize(segmentation_X[:,idx])"
   ]
  },
  {
   "cell_type": "code",
   "execution_count": 8,
   "metadata": {},
   "outputs": [],
   "source": [
    "## vote (classification)\n",
    "file_loc = './Data_Set/house-votes-84.data'\n",
    "vote = np.loadtxt(file_loc,delimiter=',', dtype=str)\n",
    "# replaceing y =1, n= -1, ? = 0\n",
    "d_vote = {'republican':1, 'democrat':0, 'n':-1, 'y':1, '?':0}\n",
    "vote_X = vote[:,1:] # features\n",
    "n_row, n_col= vote_X.shape\n",
    "vote_X_num = vote_X.copy()\n",
    "vote_X_norm = vote_X.copy()\n",
    "for i in range(n_row):\n",
    "    for j in range(n_col):\n",
    "        vote_X_num[i, j] = d_vote[vote_X[i,j]]\n",
    "vote_X_num = vote_X_num.astype(float)\n",
    "for i in range(n_col):\n",
    "    vote_X_norm[:, i] = normalize(vote_X_num[:,i])\n",
    "vote_X_norm = vote_X_norm.astype(float)\n",
    "# extracting target and converting it to integers as 'republican':1, 'democrat':0\n",
    "vote_y = np.array([d_vote[party] for party in vote[:,0]]) # target"
   ]
  },
  {
   "cell_type": "code",
   "execution_count": 9,
   "metadata": {},
   "outputs": [],
   "source": [
    "## Abalone (regression)\n",
    "file_loc = './Data_Set/abalone.data'\n",
    "abalone = np.array(pd.read_csv(file_loc, header = None))\n",
    "d_abalone = {'M':0, 'F':1, 'I':2}\n",
    "abalone_X = abalone[:,:-1] # features \n",
    "abalone_y = abalone[:,-1] # target\n",
    "# converting nominal/str value to interger {'M':-1, 'F':1, 'I':0} ]}\n",
    "abalone_X[:,0]= [d_abalone[sex] for sex in abalone_X[:,0]]\n",
    "# Normalizing continuous vals\n",
    "n_row, n_col = abalone_X.shape\n",
    "abalone_X_norm = abalone_X.copy()\n",
    "for idx in range(1,n_col):\n",
    "    abalone_X_norm[:, idx] = normalize(abalone_X[:,idx])\n",
    "abalone_y_norm = normalize(abalone_y)"
   ]
  },
  {
   "cell_type": "code",
   "execution_count": 11,
   "metadata": {
    "tags": []
   },
   "outputs": [],
   "source": [
    "## machine (regression)\n",
    "file_loc = './Data_Set/machine.data'\n",
    "machine = np.array(pd.read_csv(file_loc, header = None))\n",
    "machine_y = machine[:,8].astype(int) # target \n",
    "machine_X = machine[:,:8] # features (dropping the ERP)\n",
    "# normalizing the numeric features\n",
    "n_row, n_col = machine_X.shape\n",
    "machine_X_norm = machine_X.copy()\n",
    "for idx in range(2,n_col):\n",
    "    machine_X_norm[:, idx] = normalize(machine_X[:,idx])\n",
    "machine_y_norm = normalize(machine_y)"
   ]
  },
  {
   "cell_type": "code",
   "execution_count": 12,
   "metadata": {},
   "outputs": [
    {
     "data": {
      "text/plain": [
       "array([0, 1, 1, 1, 1, 1, 1, 1, 1, 1, 2, 2, 3, 3, 4, 4, 5, 5, 5, 5, 5, 5,\n",
       "       5, 5, 6, 6, 6, 6, 6, 6, 8, 8, 8, 8, 8, 8, 8, 8, 8, 7, 7, 7, 7, 7,\n",
       "       9, 9, 9, 9, 9, 9, 10, 10, 10, 10, 10, 10, 10, 11, 11, 11, 11, 11,\n",
       "       12, 13, 13, 13, 16, 16, 16, 16, 16, 16, 16, 14, 14, 14, 14, 14, 14,\n",
       "       14, 15, 15, 15, 15, 15, 15, 15, 15, 15, 15, 15, 15, 15, 17, 17, 17,\n",
       "       17, 17, 17, 17, 17, 17, 17, 17, 17, 17, 17, 17, 17, 17, 17, 17, 17,\n",
       "       17, 17, 17, 17, 17, 17, 17, 17, 17, 17, 17, 17, 18, 18, 18, 18, 18,\n",
       "       18, 19, 19, 19, 19, 19, 19, 20, 21, 21, 21, 21, 21, 21, 21, 21, 21,\n",
       "       21, 21, 21, 21, 21, 21, 21, 21, 21, 21, 22, 22, 22, 22, 22, 22, 22,\n",
       "       22, 22, 22, 22, 22, 22, 23, 23, 23, 24, 24, 24, 25, 25, 25, 25, 25,\n",
       "       26, 26, 26, 26, 26, 26, 26, 26, 26, 26, 26, 26, 27, 27, 27, 27, 27,\n",
       "       27, 27, 27, 27, 27, 27, 27, 27, 28, 29, 29], dtype=object)"
      ]
     },
     "execution_count": 12,
     "metadata": {},
     "output_type": "execute_result"
    }
   ],
   "source": [
    "# Converting makes(str) to numeric\n",
    "names = np.unique(machine_X_norm[:,0])\n",
    "indx = np.linspace(0,len(names)-1, len(names)).astype(int)\n",
    "d_machine = dict(zip(names, indx))\n",
    "for i in range(n_row):\n",
    "    machine_X_norm[i,0] = d_machine[machine_X_norm[i,0]]\n",
    "machine_X_norm[:,0]"
   ]
  },
  {
   "cell_type": "code",
   "execution_count": 13,
   "metadata": {},
   "outputs": [],
   "source": [
    "def one_hot(col, val_range):\n",
    "    res = []\n",
    "    for i in col:\n",
    "        arr = [0]*val_range\n",
    "        arr[i-1]=1\n",
    "        res.append(arr) \n",
    "    return res"
   ]
  },
  {
   "cell_type": "code",
   "execution_count": 14,
   "metadata": {},
   "outputs": [],
   "source": [
    "col_0_OH = one_hot(machine_X_norm[:,0], 30)"
   ]
  },
  {
   "cell_type": "code",
   "execution_count": 15,
   "metadata": {},
   "outputs": [
    {
     "data": {
      "text/plain": [
       "(209, 36)"
      ]
     },
     "execution_count": 15,
     "metadata": {},
     "output_type": "execute_result"
    }
   ],
   "source": [
    "# dropping 2nd column since they are all unique\n",
    "machine_X_norm= np.column_stack((col_0_OH, machine_X_norm[:,2:]))\n",
    "machine_X_norm.shape"
   ]
  },
  {
   "cell_type": "code",
   "execution_count": 17,
   "metadata": {},
   "outputs": [],
   "source": [
    "## forestfires (regression)\n",
    "file_loc = './Data_Set/forestfires.data'\n",
    "forestfires = np.array(pd.read_csv(file_loc, header = 0))\n",
    "forestfire_y = forestfires[:,12]\n",
    "# As this data is skewed toward 0.0, using log transformation \n",
    "forestfire_y_log = np.array([np.log(num) for num in forestfire_y+1])\n",
    "forestfire_X = forestfires[:,:12]\n",
    "# changeing months(str) to int\n",
    "d_months = dict(zip(np.unique(forestfire_X[:,2]), [4,8,12,2,1,7,6,3,5,11,10,9]))\n",
    "forestfire_X[:,2] = [d_months[month] for month in forestfire_X[:,2]]\n",
    "# changing weekdays to int\n",
    "d_weekdays = dict(zip(['mon', 'tue', 'wed', 'thu', 'fri', 'sat', 'sun'], [1,2,3,4,5,6,7]))\n",
    "forestfire_X[:,3] = [d_weekdays[day] for day in forestfire_X[:,3]]\n",
    "# normalizing the rest of the continous values\n",
    "n_row, n_col = forestfire_X.shape\n",
    "forestfire_X_norm = forestfire_X.copy()\n",
    "for idx in range(n_col):\n",
    "     forestfire_X_norm[:, idx] = normalize(forestfire_X[:,idx])\n",
    "forestfire_y_norm = normalize(forestfire_y)"
   ]
  },
  {
   "cell_type": "markdown",
   "metadata": {},
   "source": [
    "## Distance Functions"
   ]
  },
  {
   "cell_type": "code",
   "execution_count": 18,
   "metadata": {},
   "outputs": [],
   "source": [
    "def euclidean(x1, x2, forest = False):\n",
    "    \"\"\"\n",
    "    Special distance option for forestfire which uses seasonal data\n",
    "    Input: origin vector x1, query vector x2\n",
    "    Output: returns L2 norm (euclidian distance between two points)\n",
    "    \"\"\"\n",
    "    assert len(x1)==len(x2)\n",
    "    \n",
    "    d_seasonal = lambda x1, x2: min(abs(x1-x2), abs((1-x1)-(1-x2)))\n",
    "    d = lambda x1, x2: abs(x1-x2)\n",
    "    dist_metrics = [d,d,d_seasonal,d_seasonal, d,d,d,d,d,d,d,d]\n",
    "    if forest == True:\n",
    "        d = 0\n",
    "        for i in range(len(x1)):\n",
    "            dist = dist_metrics[i](x1[i], x2[i])\n",
    "            d += (dist_metrics[i](x1[i], x2[i]))**2\n",
    "        return np.sqrt(d)\n",
    "    else:\n",
    "        return(np.sqrt(sum(np.square(x1-x2))))"
   ]
  },
  {
   "cell_type": "code",
   "execution_count": 19,
   "metadata": {},
   "outputs": [
    {
     "data": {
      "text/plain": [
       "1.3016375233938817"
      ]
     },
     "execution_count": 19,
     "metadata": {},
     "output_type": "execute_result"
    }
   ],
   "source": [
    "# sample of forestfire distance\n",
    "x1 = forestfire_X_norm[0]\n",
    "x2 = forestfire_X_norm[1]\n",
    "euclidean(x1, x2, forest = True)"
   ]
  },
  {
   "cell_type": "code",
   "execution_count": 21,
   "metadata": {},
   "outputs": [
    {
     "data": {
      "text/plain": [
       "0.3630993523486263"
      ]
     },
     "execution_count": 21,
     "metadata": {},
     "output_type": "execute_result"
    }
   ],
   "source": [
    "# sample of distance function, glass\n",
    "x1 = glass_X_norm[0]\n",
    "x2 = glass_X_norm[4]\n",
    "euclidean(x1, x2)"
   ]
  },
  {
   "cell_type": "code",
   "execution_count": 22,
   "metadata": {},
   "outputs": [],
   "source": [
    "def manhattan(x1, x2):\n",
    "    \"\"\"\n",
    "    Input: origin vector x1, query vector x2\n",
    "    Output: returns L1 norm (Manhattan distance between two points)\n",
    "    \"\"\"\n",
    "    assert len(x1)==len(x2)\n",
    "    return(np.mean(abs(x1-x2)))"
   ]
  },
  {
   "cell_type": "code",
   "execution_count": 23,
   "metadata": {},
   "outputs": [],
   "source": [
    "## For descrete, classification data, we use Hamming Distance as the distant measure\n",
    "## HD : Hamming Distance, the number of nonmatching attributes\n",
    "## HD(x, x^t) = sum(x_i \\ne x^t_i)\n",
    "def HD(x1, x2):\n",
    "    assert len(x1)==len(x2)\n",
    "    return sum(x1!=x2)"
   ]
  },
  {
   "cell_type": "code",
   "execution_count": 24,
   "metadata": {
    "scrolled": true,
    "tags": []
   },
   "outputs": [
    {
     "name": "stdout",
     "output_type": "stream",
     "text": [
      "   0  1  2  3  4  5  6  7  8  9 10 11 12 13 14 15\n",
      "0  n  y  n  y  y  y  n  n  n  y  ?  y  y  y  n  y\n",
      "1  n  y  n  y  y  y  n  n  n  n  n  y  y  y  n  ?\n",
      "Hamming Distace: 3\n"
     ]
    }
   ],
   "source": [
    "# EX) Distance between sample[0] and sample[1]\n",
    "print(pd.DataFrame(vote_X[0:2]))\n",
    "print('Hamming Distace:',HD(vote_X[0], vote_X[1]))"
   ]
  },
  {
   "cell_type": "markdown",
   "metadata": {},
   "source": [
    "# Cross Validation"
   ]
  },
  {
   "cell_type": "code",
   "execution_count": 25,
   "metadata": {},
   "outputs": [],
   "source": [
    "## 5-fold cross validation split 'stratified'\n",
    "## 10% for tuning, rest into 5 equal size representing same class distribution\n",
    "def stratefied_cv_split(data_X, data_y, k_fold=5):\n",
    "\n",
    "    \"\"\"\n",
    "    Function to split data for stratefied k-fold cv testing \n",
    "    where each group have same class representation, plus 10% tuning set\n",
    "    Input: original data\n",
    "    Output:'indeces' of stratefied k-fold cv sets, and tuning set \n",
    "    \"\"\"\n",
    "    assert len(data_X) == len(data_y)\n",
    "    N = len(data_X)\n",
    "    idx = [i for i in range(N)]\n",
    "    ## tuning set\n",
    "    np.random.shuffle(idx)\n",
    "    tuning_idx = idx[:int(N/10)] # tuning set\n",
    "    remain = idx[int(N/10):]\n",
    "    # among the remain, group the data into each classifications\n",
    "    k_splits = [[] for _ in range(k_folds)]\n",
    "    classes = np.unique(data_y)\n",
    "    for c in classes:\n",
    "        group = np.where(data_y[remain]==c)[0]\n",
    "        np.random.shuffle(group)\n",
    "        group_k_splits = np.array_split(group,k_folds)\n",
    "        np.random.shuffle(group_k_splits)\n",
    "        for k in range(k_folds):\n",
    "            holdout = group_k_splits[k]\n",
    "            np.random.shuffle(holdout)\n",
    "            k_splits[k].extend(holdout)\n",
    "    return k_splits, tuning_idx\n"
   ]
  },
  {
   "cell_type": "code",
   "execution_count": 26,
   "metadata": {},
   "outputs": [],
   "source": [
    "## Sample of 5 folds cv splits\n",
    "k_folds = 5\n",
    "data_X = vote_X\n",
    "data_y = vote_y\n",
    "k_splits, tuning_idx = stratefied_cv_split(data_X, data_y, k_folds)"
   ]
  },
  {
   "cell_type": "code",
   "execution_count": 27,
   "metadata": {},
   "outputs": [
    {
     "data": {
      "text/html": [
       "<div>\n",
       "<style scoped>\n",
       "    .dataframe tbody tr th:only-of-type {\n",
       "        vertical-align: middle;\n",
       "    }\n",
       "\n",
       "    .dataframe tbody tr th {\n",
       "        vertical-align: top;\n",
       "    }\n",
       "\n",
       "    .dataframe thead th {\n",
       "        text-align: right;\n",
       "    }\n",
       "</style>\n",
       "<table border=\"1\" class=\"dataframe\">\n",
       "  <thead>\n",
       "    <tr style=\"text-align: right;\">\n",
       "      <th></th>\n",
       "      <th>0</th>\n",
       "      <th>1</th>\n",
       "      <th>2</th>\n",
       "      <th>3</th>\n",
       "      <th>4</th>\n",
       "      <th>5</th>\n",
       "      <th>6</th>\n",
       "      <th>7</th>\n",
       "      <th>8</th>\n",
       "      <th>9</th>\n",
       "      <th>...</th>\n",
       "      <th>69</th>\n",
       "      <th>70</th>\n",
       "      <th>71</th>\n",
       "      <th>72</th>\n",
       "      <th>73</th>\n",
       "      <th>74</th>\n",
       "      <th>75</th>\n",
       "      <th>76</th>\n",
       "      <th>77</th>\n",
       "      <th>78</th>\n",
       "    </tr>\n",
       "  </thead>\n",
       "  <tbody>\n",
       "    <tr>\n",
       "      <th>0</th>\n",
       "      <td>35</td>\n",
       "      <td>118</td>\n",
       "      <td>365</td>\n",
       "      <td>157</td>\n",
       "      <td>171</td>\n",
       "      <td>132</td>\n",
       "      <td>384</td>\n",
       "      <td>97</td>\n",
       "      <td>41</td>\n",
       "      <td>378</td>\n",
       "      <td>...</td>\n",
       "      <td>223</td>\n",
       "      <td>193</td>\n",
       "      <td>208</td>\n",
       "      <td>273</td>\n",
       "      <td>108</td>\n",
       "      <td>75</td>\n",
       "      <td>288</td>\n",
       "      <td>34</td>\n",
       "      <td>134</td>\n",
       "      <td>NaN</td>\n",
       "    </tr>\n",
       "    <tr>\n",
       "      <th>1</th>\n",
       "      <td>330</td>\n",
       "      <td>153</td>\n",
       "      <td>28</td>\n",
       "      <td>182</td>\n",
       "      <td>67</td>\n",
       "      <td>89</td>\n",
       "      <td>107</td>\n",
       "      <td>239</td>\n",
       "      <td>348</td>\n",
       "      <td>178</td>\n",
       "      <td>...</td>\n",
       "      <td>51</td>\n",
       "      <td>300</td>\n",
       "      <td>140</td>\n",
       "      <td>389</td>\n",
       "      <td>71</td>\n",
       "      <td>117</td>\n",
       "      <td>287</td>\n",
       "      <td>312</td>\n",
       "      <td>246</td>\n",
       "      <td>NaN</td>\n",
       "    </tr>\n",
       "    <tr>\n",
       "      <th>2</th>\n",
       "      <td>13</td>\n",
       "      <td>8</td>\n",
       "      <td>161</td>\n",
       "      <td>204</td>\n",
       "      <td>350</td>\n",
       "      <td>380</td>\n",
       "      <td>229</td>\n",
       "      <td>57</td>\n",
       "      <td>385</td>\n",
       "      <td>106</td>\n",
       "      <td>...</td>\n",
       "      <td>346</td>\n",
       "      <td>202</td>\n",
       "      <td>225</td>\n",
       "      <td>104</td>\n",
       "      <td>374</td>\n",
       "      <td>27</td>\n",
       "      <td>270</td>\n",
       "      <td>274</td>\n",
       "      <td>325</td>\n",
       "      <td>133.0</td>\n",
       "    </tr>\n",
       "    <tr>\n",
       "      <th>3</th>\n",
       "      <td>306</td>\n",
       "      <td>126</td>\n",
       "      <td>76</td>\n",
       "      <td>163</td>\n",
       "      <td>387</td>\n",
       "      <td>90</td>\n",
       "      <td>307</td>\n",
       "      <td>177</td>\n",
       "      <td>197</td>\n",
       "      <td>218</td>\n",
       "      <td>...</td>\n",
       "      <td>359</td>\n",
       "      <td>342</td>\n",
       "      <td>278</td>\n",
       "      <td>207</td>\n",
       "      <td>295</td>\n",
       "      <td>125</td>\n",
       "      <td>334</td>\n",
       "      <td>63</td>\n",
       "      <td>24</td>\n",
       "      <td>333.0</td>\n",
       "    </tr>\n",
       "    <tr>\n",
       "      <th>4</th>\n",
       "      <td>79</td>\n",
       "      <td>298</td>\n",
       "      <td>319</td>\n",
       "      <td>181</td>\n",
       "      <td>285</td>\n",
       "      <td>361</td>\n",
       "      <td>73</td>\n",
       "      <td>322</td>\n",
       "      <td>162</td>\n",
       "      <td>172</td>\n",
       "      <td>...</td>\n",
       "      <td>292</td>\n",
       "      <td>159</td>\n",
       "      <td>245</td>\n",
       "      <td>222</td>\n",
       "      <td>321</td>\n",
       "      <td>93</td>\n",
       "      <td>351</td>\n",
       "      <td>119</td>\n",
       "      <td>23</td>\n",
       "      <td>NaN</td>\n",
       "    </tr>\n",
       "  </tbody>\n",
       "</table>\n",
       "<p>5 rows × 79 columns</p>\n",
       "</div>"
      ],
      "text/plain": [
       "    0    1    2    3    4    5    6    7    8    9   ...   69   70   71   72  \\\n",
       "0   35  118  365  157  171  132  384   97   41  378  ...  223  193  208  273   \n",
       "1  330  153   28  182   67   89  107  239  348  178  ...   51  300  140  389   \n",
       "2   13    8  161  204  350  380  229   57  385  106  ...  346  202  225  104   \n",
       "3  306  126   76  163  387   90  307  177  197  218  ...  359  342  278  207   \n",
       "4   79  298  319  181  285  361   73  322  162  172  ...  292  159  245  222   \n",
       "\n",
       "    73   74   75   76   77     78  \n",
       "0  108   75  288   34  134    NaN  \n",
       "1   71  117  287  312  246    NaN  \n",
       "2  374   27  270  274  325  133.0  \n",
       "3  295  125  334   63   24  333.0  \n",
       "4  321   93  351  119   23    NaN  \n",
       "\n",
       "[5 rows x 79 columns]"
      ]
     },
     "execution_count": 27,
     "metadata": {},
     "output_type": "execute_result"
    }
   ],
   "source": [
    "pd.DataFrame(k_splits)"
   ]
  },
  {
   "cell_type": "code",
   "execution_count": 28,
   "metadata": {},
   "outputs": [
    {
     "data": {
      "text/html": [
       "<div>\n",
       "<style scoped>\n",
       "    .dataframe tbody tr th:only-of-type {\n",
       "        vertical-align: middle;\n",
       "    }\n",
       "\n",
       "    .dataframe tbody tr th {\n",
       "        vertical-align: top;\n",
       "    }\n",
       "\n",
       "    .dataframe thead th {\n",
       "        text-align: right;\n",
       "    }\n",
       "</style>\n",
       "<table border=\"1\" class=\"dataframe\">\n",
       "  <thead>\n",
       "    <tr style=\"text-align: right;\">\n",
       "      <th></th>\n",
       "      <th>0</th>\n",
       "      <th>1</th>\n",
       "      <th>2</th>\n",
       "      <th>3</th>\n",
       "      <th>4</th>\n",
       "      <th>5</th>\n",
       "      <th>6</th>\n",
       "      <th>7</th>\n",
       "      <th>8</th>\n",
       "      <th>9</th>\n",
       "      <th>...</th>\n",
       "      <th>33</th>\n",
       "      <th>34</th>\n",
       "      <th>35</th>\n",
       "      <th>36</th>\n",
       "      <th>37</th>\n",
       "      <th>38</th>\n",
       "      <th>39</th>\n",
       "      <th>40</th>\n",
       "      <th>41</th>\n",
       "      <th>42</th>\n",
       "    </tr>\n",
       "  </thead>\n",
       "  <tbody>\n",
       "    <tr>\n",
       "      <th>0</th>\n",
       "      <td>288</td>\n",
       "      <td>38</td>\n",
       "      <td>364</td>\n",
       "      <td>258</td>\n",
       "      <td>382</td>\n",
       "      <td>406</td>\n",
       "      <td>389</td>\n",
       "      <td>157</td>\n",
       "      <td>11</td>\n",
       "      <td>264</td>\n",
       "      <td>...</td>\n",
       "      <td>342</td>\n",
       "      <td>388</td>\n",
       "      <td>261</td>\n",
       "      <td>88</td>\n",
       "      <td>109</td>\n",
       "      <td>90</td>\n",
       "      <td>285</td>\n",
       "      <td>269</td>\n",
       "      <td>405</td>\n",
       "      <td>397</td>\n",
       "    </tr>\n",
       "  </tbody>\n",
       "</table>\n",
       "<p>1 rows × 43 columns</p>\n",
       "</div>"
      ],
      "text/plain": [
       "    0   1    2    3    4    5    6    7   8    9   ...   33   34   35  36  \\\n",
       "0  288  38  364  258  382  406  389  157  11  264  ...  342  388  261  88   \n",
       "\n",
       "    37  38   39   40   41   42  \n",
       "0  109  90  285  269  405  397  \n",
       "\n",
       "[1 rows x 43 columns]"
      ]
     },
     "execution_count": 28,
     "metadata": {},
     "output_type": "execute_result"
    }
   ],
   "source": [
    "pd.DataFrame(tuning_idx).T"
   ]
  },
  {
   "cell_type": "code",
   "execution_count": 29,
   "metadata": {
    "tags": []
   },
   "outputs": [],
   "source": [
    "## stratefied k_fold cv splits on continuous value target (regression)\n",
    "\n",
    "def stratefied_cv_split_continuous(data_X, data_y, k_fold = 5):\n",
    "    \"\"\"\n",
    "    Function to split data for stratefied k-fold cv testing \n",
    "    where each group have same target value representation, plus 10% tuning set\n",
    "    Input: original data\n",
    "    Output:'indeces' of stratefied k-fold cv sets, and tuning set \n",
    "    \"\"\"\n",
    "    assert len(data_X) == len(data_y)\n",
    "    N = len(data_X)\n",
    "    idx = [i for i in range(N)]\n",
    "    np.random.shuffle(idx)\n",
    "    tuning_idx = idx[:int(N/10)] # tuning set\n",
    "    remain_idx = idx[int(N/10):]\n",
    "    # among the remain, split the data into evenly distributed k sets\n",
    "    y_remain = np.array(data_y)[remain_idx]\n",
    "    sorted_idx = np.array([x for _,x in sorted(zip(y_remain,remain_idx))])\n",
    "    k_splits = []\n",
    "    for k in range(k_fold):\n",
    "        holdout = sorted_idx[np.arange(k,len(sorted_idx)-1, k_fold)]\n",
    "        np.random.shuffle(holdout)\n",
    "        k_splits.append(holdout)\n",
    "    return k_splits, tuning_idx\n"
   ]
  },
  {
   "cell_type": "code",
   "execution_count": 30,
   "metadata": {},
   "outputs": [],
   "source": [
    "## Sample of 5 folds cv splits, countinous\n",
    "k_folds = 5\n",
    "data_X = abalone_X_norm\n",
    "data_y = abalone_y\n",
    "k_splits, tuning_idx = stratefied_cv_split(data_X, data_y, k_folds)"
   ]
  },
  {
   "cell_type": "code",
   "execution_count": 31,
   "metadata": {},
   "outputs": [
    {
     "data": {
      "text/html": [
       "<div>\n",
       "<style scoped>\n",
       "    .dataframe tbody tr th:only-of-type {\n",
       "        vertical-align: middle;\n",
       "    }\n",
       "\n",
       "    .dataframe tbody tr th {\n",
       "        vertical-align: top;\n",
       "    }\n",
       "\n",
       "    .dataframe thead th {\n",
       "        text-align: right;\n",
       "    }\n",
       "</style>\n",
       "<table border=\"1\" class=\"dataframe\">\n",
       "  <thead>\n",
       "    <tr style=\"text-align: right;\">\n",
       "      <th></th>\n",
       "      <th>0</th>\n",
       "      <th>1</th>\n",
       "      <th>2</th>\n",
       "      <th>3</th>\n",
       "      <th>4</th>\n",
       "      <th>5</th>\n",
       "      <th>6</th>\n",
       "      <th>7</th>\n",
       "      <th>8</th>\n",
       "      <th>9</th>\n",
       "      <th>...</th>\n",
       "      <th>748</th>\n",
       "      <th>749</th>\n",
       "      <th>750</th>\n",
       "      <th>751</th>\n",
       "      <th>752</th>\n",
       "      <th>753</th>\n",
       "      <th>754</th>\n",
       "      <th>755</th>\n",
       "      <th>756</th>\n",
       "      <th>757</th>\n",
       "    </tr>\n",
       "  </thead>\n",
       "  <tbody>\n",
       "    <tr>\n",
       "      <th>0</th>\n",
       "      <td>2918</td>\n",
       "      <td>638</td>\n",
       "      <td>1662</td>\n",
       "      <td>665</td>\n",
       "      <td>1310</td>\n",
       "      <td>2022</td>\n",
       "      <td>2432</td>\n",
       "      <td>2081</td>\n",
       "      <td>3273</td>\n",
       "      <td>2379</td>\n",
       "      <td>...</td>\n",
       "      <td>2590</td>\n",
       "      <td>1580</td>\n",
       "      <td>NaN</td>\n",
       "      <td>NaN</td>\n",
       "      <td>NaN</td>\n",
       "      <td>NaN</td>\n",
       "      <td>NaN</td>\n",
       "      <td>NaN</td>\n",
       "      <td>NaN</td>\n",
       "      <td>NaN</td>\n",
       "    </tr>\n",
       "    <tr>\n",
       "      <th>1</th>\n",
       "      <td>447</td>\n",
       "      <td>1329</td>\n",
       "      <td>2300</td>\n",
       "      <td>2332</td>\n",
       "      <td>1511</td>\n",
       "      <td>2867</td>\n",
       "      <td>1292</td>\n",
       "      <td>2056</td>\n",
       "      <td>1441</td>\n",
       "      <td>2182</td>\n",
       "      <td>...</td>\n",
       "      <td>320</td>\n",
       "      <td>3229</td>\n",
       "      <td>2070.0</td>\n",
       "      <td>NaN</td>\n",
       "      <td>NaN</td>\n",
       "      <td>NaN</td>\n",
       "      <td>NaN</td>\n",
       "      <td>NaN</td>\n",
       "      <td>NaN</td>\n",
       "      <td>NaN</td>\n",
       "    </tr>\n",
       "    <tr>\n",
       "      <th>2</th>\n",
       "      <td>89</td>\n",
       "      <td>3165</td>\n",
       "      <td>1378</td>\n",
       "      <td>3193</td>\n",
       "      <td>1317</td>\n",
       "      <td>2474</td>\n",
       "      <td>1743</td>\n",
       "      <td>3257</td>\n",
       "      <td>694</td>\n",
       "      <td>945</td>\n",
       "      <td>...</td>\n",
       "      <td>1861</td>\n",
       "      <td>1838</td>\n",
       "      <td>3669.0</td>\n",
       "      <td>2840.0</td>\n",
       "      <td>2282.0</td>\n",
       "      <td>72.0</td>\n",
       "      <td>1053.0</td>\n",
       "      <td>177.0</td>\n",
       "      <td>2611.0</td>\n",
       "      <td>1536.0</td>\n",
       "    </tr>\n",
       "    <tr>\n",
       "      <th>3</th>\n",
       "      <td>2825</td>\n",
       "      <td>2926</td>\n",
       "      <td>1855</td>\n",
       "      <td>1041</td>\n",
       "      <td>2673</td>\n",
       "      <td>802</td>\n",
       "      <td>3748</td>\n",
       "      <td>1039</td>\n",
       "      <td>2498</td>\n",
       "      <td>3442</td>\n",
       "      <td>...</td>\n",
       "      <td>1435</td>\n",
       "      <td>2578</td>\n",
       "      <td>NaN</td>\n",
       "      <td>NaN</td>\n",
       "      <td>NaN</td>\n",
       "      <td>NaN</td>\n",
       "      <td>NaN</td>\n",
       "      <td>NaN</td>\n",
       "      <td>NaN</td>\n",
       "      <td>NaN</td>\n",
       "    </tr>\n",
       "    <tr>\n",
       "      <th>4</th>\n",
       "      <td>3704</td>\n",
       "      <td>1410</td>\n",
       "      <td>3194</td>\n",
       "      <td>2254</td>\n",
       "      <td>827</td>\n",
       "      <td>473</td>\n",
       "      <td>3478</td>\n",
       "      <td>3155</td>\n",
       "      <td>400</td>\n",
       "      <td>2393</td>\n",
       "      <td>...</td>\n",
       "      <td>2594</td>\n",
       "      <td>3137</td>\n",
       "      <td>1605.0</td>\n",
       "      <td>NaN</td>\n",
       "      <td>NaN</td>\n",
       "      <td>NaN</td>\n",
       "      <td>NaN</td>\n",
       "      <td>NaN</td>\n",
       "      <td>NaN</td>\n",
       "      <td>NaN</td>\n",
       "    </tr>\n",
       "  </tbody>\n",
       "</table>\n",
       "<p>5 rows × 758 columns</p>\n",
       "</div>"
      ],
      "text/plain": [
       "    0     1     2     3     4     5     6     7     8     9    ...   748  \\\n",
       "0  2918   638  1662   665  1310  2022  2432  2081  3273  2379  ...  2590   \n",
       "1   447  1329  2300  2332  1511  2867  1292  2056  1441  2182  ...   320   \n",
       "2    89  3165  1378  3193  1317  2474  1743  3257   694   945  ...  1861   \n",
       "3  2825  2926  1855  1041  2673   802  3748  1039  2498  3442  ...  1435   \n",
       "4  3704  1410  3194  2254   827   473  3478  3155   400  2393  ...  2594   \n",
       "\n",
       "    749     750     751     752   753     754    755     756     757  \n",
       "0  1580     NaN     NaN     NaN   NaN     NaN    NaN     NaN     NaN  \n",
       "1  3229  2070.0     NaN     NaN   NaN     NaN    NaN     NaN     NaN  \n",
       "2  1838  3669.0  2840.0  2282.0  72.0  1053.0  177.0  2611.0  1536.0  \n",
       "3  2578     NaN     NaN     NaN   NaN     NaN    NaN     NaN     NaN  \n",
       "4  3137  1605.0     NaN     NaN   NaN     NaN    NaN     NaN     NaN  \n",
       "\n",
       "[5 rows x 758 columns]"
      ]
     },
     "execution_count": 31,
     "metadata": {},
     "output_type": "execute_result"
    }
   ],
   "source": [
    "pd.DataFrame(k_splits)"
   ]
  },
  {
   "cell_type": "code",
   "execution_count": 32,
   "metadata": {},
   "outputs": [
    {
     "data": {
      "text/html": [
       "<div>\n",
       "<style scoped>\n",
       "    .dataframe tbody tr th:only-of-type {\n",
       "        vertical-align: middle;\n",
       "    }\n",
       "\n",
       "    .dataframe tbody tr th {\n",
       "        vertical-align: top;\n",
       "    }\n",
       "\n",
       "    .dataframe thead th {\n",
       "        text-align: right;\n",
       "    }\n",
       "</style>\n",
       "<table border=\"1\" class=\"dataframe\">\n",
       "  <thead>\n",
       "    <tr style=\"text-align: right;\">\n",
       "      <th></th>\n",
       "      <th>0</th>\n",
       "      <th>1</th>\n",
       "      <th>2</th>\n",
       "      <th>3</th>\n",
       "      <th>4</th>\n",
       "      <th>5</th>\n",
       "      <th>6</th>\n",
       "      <th>7</th>\n",
       "      <th>8</th>\n",
       "      <th>9</th>\n",
       "      <th>...</th>\n",
       "      <th>407</th>\n",
       "      <th>408</th>\n",
       "      <th>409</th>\n",
       "      <th>410</th>\n",
       "      <th>411</th>\n",
       "      <th>412</th>\n",
       "      <th>413</th>\n",
       "      <th>414</th>\n",
       "      <th>415</th>\n",
       "      <th>416</th>\n",
       "    </tr>\n",
       "  </thead>\n",
       "  <tbody>\n",
       "    <tr>\n",
       "      <th>0</th>\n",
       "      <td>1284</td>\n",
       "      <td>234</td>\n",
       "      <td>2613</td>\n",
       "      <td>3235</td>\n",
       "      <td>2163</td>\n",
       "      <td>2929</td>\n",
       "      <td>3975</td>\n",
       "      <td>2983</td>\n",
       "      <td>1093</td>\n",
       "      <td>3349</td>\n",
       "      <td>...</td>\n",
       "      <td>2843</td>\n",
       "      <td>565</td>\n",
       "      <td>3612</td>\n",
       "      <td>4038</td>\n",
       "      <td>2910</td>\n",
       "      <td>2195</td>\n",
       "      <td>917</td>\n",
       "      <td>1037</td>\n",
       "      <td>544</td>\n",
       "      <td>2526</td>\n",
       "    </tr>\n",
       "  </tbody>\n",
       "</table>\n",
       "<p>1 rows × 417 columns</p>\n",
       "</div>"
      ],
      "text/plain": [
       "    0    1     2     3     4     5     6     7     8     9    ...   407  408  \\\n",
       "0  1284  234  2613  3235  2163  2929  3975  2983  1093  3349  ...  2843  565   \n",
       "\n",
       "    409   410   411   412  413   414  415   416  \n",
       "0  3612  4038  2910  2195  917  1037  544  2526  \n",
       "\n",
       "[1 rows x 417 columns]"
      ]
     },
     "execution_count": 32,
     "metadata": {},
     "output_type": "execute_result"
    }
   ],
   "source": [
    "pd.DataFrame(tuning_idx).T"
   ]
  },
  {
   "cell_type": "code",
   "execution_count": 33,
   "metadata": {},
   "outputs": [],
   "source": [
    "# Wrapper to generate dataset from index list\n",
    "def k_fold_cv_sets(k_splits):\n",
    "    \"\"\" \n",
    "    Based on the k_splits indices, returns 1 hold out set for testing\n",
    "    and the rest for training\n",
    "    Output: k sets of (train_set, test_set)\n",
    "    \"\"\"\n",
    "    k_fold = len(k_splits)\n",
    "    k_fold_idx = []\n",
    "    for k in range(k_fold):\n",
    "        test_set = k_splits[k]\n",
    "        training_idx = [i for i in range(k_fold) if i !=k]\n",
    "        train_set = []\n",
    "        for i in training_idx:\n",
    "            train_set.extend(k_splits[i])\n",
    "        k_fold_idx.append((train_set, test_set))\n",
    "    return k_fold_idx"
   ]
  },
  {
   "cell_type": "markdown",
   "metadata": {},
   "source": [
    "# KNN Classification"
   ]
  },
  {
   "cell_type": "code",
   "execution_count": 34,
   "metadata": {},
   "outputs": [],
   "source": [
    "def KNN(data_X, data_y, xq, k, D = euclidean ):\n",
    "    \"\"\"\n",
    "    This function returns a individual knn classification prediction for xq,\n",
    "    based on the model data set\n",
    "    Input:\n",
    "        data_X : matrix, model feature set\n",
    "        data_y : vector, model targets\n",
    "        xq: vector, queried item\n",
    "        k: number of neighbors considered\n",
    "        D: distance function \n",
    "    Out:\n",
    "        y_hat : predicted class\n",
    "    \"\"\"\n",
    "    n = len(data_X)\n",
    "    dist = [D(x, xq) for x in data_X]\n",
    "    idx = [i for i in range(len(dist))]\n",
    "    sorted_indx = [int(i) for x, i in sorted(zip(dist,idx))]\n",
    "    k_neighbors = sorted_indx[:k+1][1:]\n",
    "    if len(k_neighbors)<1:\n",
    "        return None\n",
    "    candidates = pd.Series([data_y[neighbor] for neighbor in k_neighbors]).value_counts()  # take the plurarity vote\n",
    "    y_hat = int(candidates.index[0])\n",
    "    return y_hat\n"
   ]
  },
  {
   "cell_type": "code",
   "execution_count": 35,
   "metadata": {},
   "outputs": [
    {
     "name": "stdout",
     "output_type": "stream",
     "text": [
      "[2, 1, 3, 7, 1, 1, 1, 6, 5, 1, 2, 3, 2, 3, 2, 2, 2, 2, 2, 1, 7, 3, 1, 2, 7, 7, 2, 1, 2, 1, 1, 2, 3, 2, 5, 1, 1, 6, 1]\n"
     ]
    }
   ],
   "source": [
    "# sample of prediction for the first batch of k-folding\n",
    "k_folds = 5\n",
    "data_X = glass_X_norm\n",
    "data_y = glass_y\n",
    "k_splits, tuning_idx = stratefied_cv_split_continuous(data_X, data_y, k_folds)\n",
    "k_fold_idx = k_fold_cv_sets(k_splits)\n",
    "train_idx, test_idx =  k_fold_idx[0]\n",
    "train_X, train_y= data_X[train_idx], data_y[train_idx]\n",
    "test_X, test_y= data_X[test_idx], data_y[test_idx]\n",
    "y_hats = []\n",
    "for i in range(len(test_X)):\n",
    "    y_hats.append(KNN(data_X, data_y, test_X[i], k=2, D = euclidean))\n",
    "print(y_hats)"
   ]
  },
  {
   "cell_type": "markdown",
   "metadata": {},
   "source": [
    "# Metrics for testing\n",
    "For discrete value, we use accuracy for correct answer. For continuos value, we use MSE."
   ]
  },
  {
   "cell_type": "code",
   "execution_count": 36,
   "metadata": {},
   "outputs": [],
   "source": [
    "def accuracy(data_y, y_hats):\n",
    "    \"\"\"\n",
    "    Input: data_y, true value vector, y_hat, prediction vector\n",
    "    Output: accuracy as number of correct prediction/ total population\n",
    "    \"\"\"\n",
    "    return np.sum(y_hats==data_y)/len(data_y)"
   ]
  },
  {
   "cell_type": "code",
   "execution_count": 37,
   "metadata": {},
   "outputs": [],
   "source": [
    "def MSE(data_y, y_hats):\n",
    "    \"\"\"\n",
    "    Input: data_y, true value vector, y_hat, prediction vector\n",
    "    Output: accuracy as number of correct prediction/ total population\n",
    "    \"\"\"\n",
    "    return np.mean((y_hats-data_y)**2)"
   ]
  },
  {
   "cell_type": "code",
   "execution_count": 38,
   "metadata": {},
   "outputs": [],
   "source": [
    "def k_tuning(model, data_X, data_y, tuning_idx, ks, repeat= 5,D = euclidean, score = accuracy):\n",
    "    \"\"\"\n",
    "    using given model, test a range of values for k and returns the best\n",
    "    Input:\n",
    "        data_X : matrix, model feature set\n",
    "        data_y : vector, model targets\n",
    "        ks: values for k to try\n",
    "        D: distance function \n",
    "        score: evaluation function\n",
    "    Out:\n",
    "        best_k: best perfoming k\n",
    "    \"\"\"\n",
    "    tuning_X, tuning_y= data_X[tuning_idx], data_y[tuning_idx]\n",
    "    res = []\n",
    "    for k in ks:\n",
    "        res_sub = []\n",
    "        for i in range(repeat):\n",
    "            y_hats= []\n",
    "            for idx in tuning_idx:\n",
    "                xq = data_X[idx]\n",
    "                y_hats.append(model(tuning_X, tuning_y, xq, k=k, D =D))\n",
    "            res_sub.append(score(tuning_y, y_hats))\n",
    "        res.append(np.mean(res_sub))\n",
    "    ###plotting results###\n",
    "    plt.plot(ks, res)\n",
    "    plt.xlabel('k')\n",
    "    plt.ylabel('score')\n",
    "    ######################\n",
    "    if score == accuaracy:\n",
    "        best_k = ks[np.argmax(res)]\n",
    "    if score == MSE:\n",
    "        best_k = ks[np.argmin(res)]\n",
    "    return best_k"
   ]
  },
  {
   "cell_type": "code",
   "execution_count": 42,
   "metadata": {},
   "outputs": [],
   "source": [
    "k_splits, tuning_idx = stratefied_cv_split(data_X, data_y)\n",
    "def KNN_tuning(data_X, data_y, tuning_idx, ks, repeat= 10,D = euclidean, score = accuracy):\n",
    "    \"\"\"\n",
    "    using KNN test a range of values for k and returns the best\n",
    "    Input:\n",
    "        data_X : matrix, model feature set\n",
    "        data_y : vector, model targets\n",
    "        ks: values for k to try\n",
    "        D: distance function \n",
    "        score: evaluation function\n",
    "    Out:\n",
    "        best_k: best perfoming k\n",
    "    \"\"\"\n",
    "    tuning_X, tuning_y= data_X[tuning_idx], data_y[tuning_idx]\n",
    "    res = []\n",
    "    for k in ks:\n",
    "        res_sub = []\n",
    "        for i in range(repeat):\n",
    "            y_hats= []\n",
    "            for idx in tuning_idx:\n",
    "                xq = data_X[idx]\n",
    "                y_hats.append(KNN(tuning_X, tuning_y, xq, k, D = euclidean))\n",
    "            res_sub.append(score(tuning_y, y_hats))\n",
    "        res.append(np.mean(res_sub))\n",
    "    ###plotting results###\n",
    "    plt.plot(ks, res)\n",
    "    plt.xlabel('k')\n",
    "    plt.ylabel('score')\n",
    "    plt.title('k tuning')\n",
    "    ######################\n",
    "    best_k = ks[np.argmax(res)]\n",
    "    return best_k"
   ]
  },
  {
   "cell_type": "code",
   "execution_count": 43,
   "metadata": {},
   "outputs": [],
   "source": [
    "k_folds = 5\n",
    "data_X = glass_X_norm\n",
    "data_y = glass_y\n",
    "k_splits, tuning_idx = stratefied_cv_split_continuous(data_X, data_y, k_folds)\n",
    "k_fold_idx = k_fold_cv_sets(k_splits)"
   ]
  },
  {
   "cell_type": "code",
   "execution_count": 45,
   "metadata": {},
   "outputs": [
    {
     "data": {
      "text/plain": [
       "1"
      ]
     },
     "execution_count": 45,
     "metadata": {},
     "output_type": "execute_result"
    },
    {
     "data": {
      "image/png": "[encoded data removed]",
      "text/plain": [
       "<Figure size 432x288 with 1 Axes>"
      ]
     },
     "metadata": {
      "needs_background": "light"
     },
     "output_type": "display_data"
    }
   ],
   "source": [
    "k_splits, tuning_idx = stratefied_cv_split(data_X, data_y)\n",
    "ks = [1,2,3,4,5,6,7,8,9,10]\n",
    "KNN_tuning(data_X, data_y, tuning_idx, ks, D = euclidean, score = accuracy)"
   ]
  },
  {
   "cell_type": "code",
   "execution_count": 46,
   "metadata": {},
   "outputs": [],
   "source": [
    "def cv_test(model, data_X, data_y, k_splits, k=1, D = euclidean, score = accuracy):\n",
    "    \"\"\"\n",
    "    This function conducts stratefied k-hold cv test and \n",
    "    based on the model data set using KNN model \n",
    "    Input:\n",
    "        data_X : matrix, model feature set\n",
    "        data_y : vector, model targets\n",
    "        k: number of neighbors considered\n",
    "        D: distance function \n",
    "        score: evaluation function\n",
    "    Out:\n",
    "        average score over k-folds\n",
    "    \"\"\"\n",
    "    k_fold_idx = k_fold_cv_sets(k_splits)\n",
    "    k_fold = len(k_splits)\n",
    "    for i in range(k_fold):\n",
    "        train_idx, test_idx =  k_fold_idx[i]\n",
    "        train_X, train_y= data_X[train_idx], data_y[train_idx]\n",
    "        test_X, test_y= data_X[test_idx], data_y[test_idx]\n",
    "        y_hats = []\n",
    "        res = []\n",
    "        for xq in test_X:\n",
    "            y_hats.append(model(train_X, train_y, xq, k=k, D = D))\n",
    "        res.append(score(test_y, y_hats))\n",
    "    return np.mean(res)"
   ]
  },
  {
   "cell_type": "code",
   "execution_count": 47,
   "metadata": {
    "tags": []
   },
   "outputs": [],
   "source": [
    "def KNN_cv_test(data_X, data_y, k_splits, k=1, D = euclidean, score = accuracy):\n",
    "    \"\"\"\n",
    "    This function conducts stratefied k-hold cv test and \n",
    "    based on the model data set using KNN model \n",
    "    Input:\n",
    "        data_X : matrix, model feature set\n",
    "        data_y : vector, model targets\n",
    "        k: number of neighbors considered\n",
    "        D: distance function \n",
    "        score: evaluation function\n",
    "    Out:\n",
    "        average score over k-folds\n",
    "    \"\"\"\n",
    "    k_fold_idx = k_fold_cv_sets(k_splits)\n",
    "    k_fold = len(k_splits)\n",
    "    for i in range(k_fold):\n",
    "        train_idx, test_idx =  k_fold_idx[i]\n",
    "        train_X, train_y= data_X[train_idx], data_y[train_idx]\n",
    "        test_X, test_y= data_X[test_idx], data_y[test_idx]\n",
    "        y_hats = []\n",
    "        res = []\n",
    "        for xq in test_X:\n",
    "            y_hats.append(KNN(train_X, train_y, xq, k, D = euclidean))\n",
    "        res.append(score(test_y, y_hats))\n",
    "    return np.mean(res)\n",
    "    "
   ]
  },
  {
   "cell_type": "markdown",
   "metadata": {},
   "source": [
    "## KNN on glass "
   ]
  },
  {
   "cell_type": "markdown",
   "metadata": {},
   "source": [
    "### Parameter tuning- k\n",
    "We take range of values of k and run cv test then choose the best candidates. \n",
    "We will average 5 cv test to determin the score for each values"
   ]
  },
  {
   "cell_type": "code",
   "execution_count": 49,
   "metadata": {},
   "outputs": [
    {
     "data": {
      "text/plain": [
       "1"
      ]
     },
     "execution_count": 49,
     "metadata": {},
     "output_type": "execute_result"
    },
    {
     "data": {
      "image/png": "[encoded data removed]",
      "text/plain": [
       "<Figure size 432x288 with 1 Axes>"
      ]
     },
     "metadata": {
      "needs_background": "light"
     },
     "output_type": "display_data"
    }
   ],
   "source": [
    "data_X, data_y = glass_X_norm, glass_y\n",
    "k_splits, tuning_idx = stratefied_cv_split(data_X, data_y)\n",
    "ks = [1,2,3,4,5,6,7,8,9,10, 20, 30]\n",
    "KNN_tuning(data_X, data_y, tuning_idx, ks, D = euclidean, score = accuracy)"
   ]
  },
  {
   "cell_type": "markdown",
   "metadata": {},
   "source": [
    "This indicates k = 2 as the best candidate."
   ]
  },
  {
   "cell_type": "markdown",
   "metadata": {},
   "source": [
    "### CV testing "
   ]
  },
  {
   "cell_type": "code",
   "execution_count": 50,
   "metadata": {},
   "outputs": [
    {
     "data": {
      "text/plain": [
       "0.85"
      ]
     },
     "execution_count": 50,
     "metadata": {},
     "output_type": "execute_result"
    }
   ],
   "source": [
    "KNN_cv_test(data_X, data_y, k_splits, k=3, D = euclidean, score = accuracy)"
   ]
  },
  {
   "cell_type": "markdown",
   "metadata": {},
   "source": [
    "## KNN on Segmentation"
   ]
  },
  {
   "cell_type": "markdown",
   "metadata": {},
   "source": [
    "### Parameter tuning "
   ]
  },
  {
   "cell_type": "code",
   "execution_count": 55,
   "metadata": {},
   "outputs": [
    {
     "data": {
      "text/plain": [
       "3"
      ]
     },
     "execution_count": 55,
     "metadata": {},
     "output_type": "execute_result"
    },
    {
     "data": {
      "image/png": "[encoded data removed]",
      "text/plain": [
       "<Figure size 432x288 with 1 Axes>"
      ]
     },
     "metadata": {
      "needs_background": "light"
     },
     "output_type": "display_data"
    }
   ],
   "source": [
    "data_X, data_y = segmentation_X_norm, segmentation_y\n",
    "k_splits, tuning_idx = stratefied_cv_split(data_X, data_y)\n",
    "ks = [1,2,3,4,5,6,7,8,9,10, 20, 30]\n",
    "KNN_tuning(data_X, data_y, tuning_idx, ks, D = euclidean, score = accuracy)"
   ]
  },
  {
   "cell_type": "markdown",
   "metadata": {},
   "source": [
    "### cv testing"
   ]
  },
  {
   "cell_type": "code",
   "execution_count": 59,
   "metadata": {},
   "outputs": [
    {
     "data": {
      "text/plain": [
       "0.8421052631578947"
      ]
     },
     "execution_count": 59,
     "metadata": {},
     "output_type": "execute_result"
    }
   ],
   "source": [
    "KNN_cv_test(data_X, data_y, k_splits, k=2, D = euclidean, score = accuracy)"
   ]
  },
  {
   "cell_type": "markdown",
   "metadata": {},
   "source": [
    "The optimal k = 2 for Segmentation"
   ]
  },
  {
   "cell_type": "markdown",
   "metadata": {},
   "source": [
    "## KNN of Vote"
   ]
  },
  {
   "cell_type": "markdown",
   "metadata": {},
   "source": [
    "### Parameter tuning "
   ]
  },
  {
   "cell_type": "code",
   "execution_count": 64,
   "metadata": {
    "scrolled": true
   },
   "outputs": [
    {
     "data": {
      "text/plain": [
       "1"
      ]
     },
     "execution_count": 64,
     "metadata": {},
     "output_type": "execute_result"
    },
    {
     "data": {
      "image/png": "[encoded data removed]",
      "text/plain": [
       "<Figure size 432x288 with 1 Axes>"
      ]
     },
     "metadata": {
      "needs_background": "light"
     },
     "output_type": "display_data"
    }
   ],
   "source": [
    "data_X, data_y = vote_X_norm, vote_y\n",
    "k_splits, tuning_idx = stratefied_cv_split(data_X, data_y)\n",
    "ks = [1,2,3,4,5,6,7,8,9,10, 20, 30]\n",
    "KNN_tuning(data_X, data_y, tuning_idx, ks, D = euclidean, score = accuracy)"
   ]
  },
  {
   "cell_type": "markdown",
   "metadata": {},
   "source": [
    "### cv testing"
   ]
  },
  {
   "cell_type": "code",
   "execution_count": 65,
   "metadata": {},
   "outputs": [
    {
     "data": {
      "text/plain": [
       "0.9367088607594937"
      ]
     },
     "execution_count": 65,
     "metadata": {},
     "output_type": "execute_result"
    }
   ],
   "source": [
    "KNN_cv_test(data_X, data_y, k_splits, k=2, D = euclidean, score = accuracy)"
   ]
  },
  {
   "cell_type": "markdown",
   "metadata": {},
   "source": [
    "# ENN - Edited k-nearest neighbor"
   ]
  },
  {
   "cell_type": "code",
   "execution_count": 66,
   "metadata": {},
   "outputs": [],
   "source": [
    "def Edit(train_X, train_y,k=1, D = euclidean, max_iter = 10):\n",
    "    \"\"\"\n",
    "    This function runs a individual KNN classification prediction for xq,\n",
    "    then if the predcition is correct, the sample gets removed from the set\n",
    "    Input:\n",
    "        data_X : matrix, model feature set\n",
    "        data_y : vector, model targets\n",
    "        xq: vector, queried item\n",
    "        k: number of neighbors considered\n",
    "        D: distance function \n",
    "    Out:\n",
    "        edited_X : edited data_X\n",
    "    \"\"\"\n",
    "    edited_X = train_X.copy()\n",
    "    edited_y = train_y.copy()\n",
    "    for j in range(max_iter):\n",
    "        remove = []\n",
    "        n = len(edited_X)\n",
    "        idx = [i for i in range(n)]\n",
    "        for i in range(n):\n",
    "            y_hat = KNN(edited_X, edited_y, edited_X[i], k=1, D=D )\n",
    "            if y_hat!=edited_y[i]:\n",
    "                remove.append(i)\n",
    "        keep = list(set(idx)-set(remove))\n",
    "        edited_X = edited_X[keep]\n",
    "        edited_y = edited_y[keep]\n",
    "        if n == len(edited_X):\n",
    "            break\n",
    "    return edited_X, edited_y"
   ]
  },
  {
   "cell_type": "code",
   "execution_count": 67,
   "metadata": {},
   "outputs": [],
   "source": [
    "#Sample of Edited set\n",
    "data_X, data_y = glass_X_norm, glass_y\n",
    "k_splits, tuning_idx = stratefied_cv_split(data_X, data_y)\n",
    "k_fold_idx = k_fold_cv_sets(k_splits)\n",
    "i = 0\n",
    "train_idx, test_idx =  k_fold_idx[i]\n",
    "np.random.shuffle(train_idx)\n",
    "train_X, train_y = data_X[train_idx], data_y[train_idx]\n",
    "test_X, test_y= data_X[test_idx], data_y[test_idx]\n",
    "edited_X, edited_y = Edit(train_X, train_y, D = euclidean)"
   ]
  },
  {
   "cell_type": "code",
   "execution_count": 68,
   "metadata": {},
   "outputs": [
    {
     "data": {
      "text/html": [
       "<div>\n",
       "<style scoped>\n",
       "    .dataframe tbody tr th:only-of-type {\n",
       "        vertical-align: middle;\n",
       "    }\n",
       "\n",
       "    .dataframe tbody tr th {\n",
       "        vertical-align: top;\n",
       "    }\n",
       "\n",
       "    .dataframe thead th {\n",
       "        text-align: right;\n",
       "    }\n",
       "</style>\n",
       "<table border=\"1\" class=\"dataframe\">\n",
       "  <thead>\n",
       "    <tr style=\"text-align: right;\">\n",
       "      <th></th>\n",
       "      <th>0</th>\n",
       "      <th>1</th>\n",
       "      <th>2</th>\n",
       "      <th>3</th>\n",
       "      <th>4</th>\n",
       "      <th>5</th>\n",
       "      <th>6</th>\n",
       "      <th>7</th>\n",
       "      <th>8</th>\n",
       "      <th>9</th>\n",
       "    </tr>\n",
       "  </thead>\n",
       "  <tbody>\n",
       "    <tr>\n",
       "      <th>0</th>\n",
       "      <td>0.065728</td>\n",
       "      <td>0.284460</td>\n",
       "      <td>0.282707</td>\n",
       "      <td>7.995546e-01</td>\n",
       "      <td>0.317757</td>\n",
       "      <td>0.621429</td>\n",
       "      <td>9.339775e-02</td>\n",
       "      <td>0.285316</td>\n",
       "      <td>3.174603e-10</td>\n",
       "      <td>1.960784e-09</td>\n",
       "    </tr>\n",
       "    <tr>\n",
       "      <th>1</th>\n",
       "      <td>0.028169</td>\n",
       "      <td>0.275680</td>\n",
       "      <td>0.386466</td>\n",
       "      <td>8.017817e-01</td>\n",
       "      <td>0.264798</td>\n",
       "      <td>0.585714</td>\n",
       "      <td>9.339775e-02</td>\n",
       "      <td>0.254647</td>\n",
       "      <td>3.174603e-10</td>\n",
       "      <td>1.960784e-09</td>\n",
       "    </tr>\n",
       "    <tr>\n",
       "      <th>2</th>\n",
       "      <td>0.380282</td>\n",
       "      <td>0.209833</td>\n",
       "      <td>0.378947</td>\n",
       "      <td>7.683742e-01</td>\n",
       "      <td>0.355140</td>\n",
       "      <td>0.600000</td>\n",
       "      <td>9.822866e-02</td>\n",
       "      <td>0.225836</td>\n",
       "      <td>3.174603e-10</td>\n",
       "      <td>1.960784e-09</td>\n",
       "    </tr>\n",
       "    <tr>\n",
       "      <th>3</th>\n",
       "      <td>0.840376</td>\n",
       "      <td>0.323529</td>\n",
       "      <td>0.505263</td>\n",
       "      <td>4.877506e-01</td>\n",
       "      <td>0.426791</td>\n",
       "      <td>0.510714</td>\n",
       "      <td>1.610306e-10</td>\n",
       "      <td>0.361524</td>\n",
       "      <td>3.174603e-10</td>\n",
       "      <td>1.960784e-09</td>\n",
       "    </tr>\n",
       "    <tr>\n",
       "      <th>4</th>\n",
       "      <td>0.568075</td>\n",
       "      <td>0.240562</td>\n",
       "      <td>0.330827</td>\n",
       "      <td>7.884187e-01</td>\n",
       "      <td>0.414330</td>\n",
       "      <td>0.562500</td>\n",
       "      <td>1.030596e-01</td>\n",
       "      <td>0.241636</td>\n",
       "      <td>3.174603e-10</td>\n",
       "      <td>4.117647e-01</td>\n",
       "    </tr>\n",
       "    <tr>\n",
       "      <th>...</th>\n",
       "      <td>...</td>\n",
       "      <td>...</td>\n",
       "      <td>...</td>\n",
       "      <td>...</td>\n",
       "      <td>...</td>\n",
       "      <td>...</td>\n",
       "      <td>...</td>\n",
       "      <td>...</td>\n",
       "      <td>...</td>\n",
       "      <td>...</td>\n",
       "    </tr>\n",
       "    <tr>\n",
       "      <th>127</th>\n",
       "      <td>0.600939</td>\n",
       "      <td>0.418349</td>\n",
       "      <td>0.424060</td>\n",
       "      <td>4.654788e-01</td>\n",
       "      <td>0.429907</td>\n",
       "      <td>0.423214</td>\n",
       "      <td>8.534622e-02</td>\n",
       "      <td>0.384758</td>\n",
       "      <td>8.571429e-02</td>\n",
       "      <td>3.333333e-01</td>\n",
       "    </tr>\n",
       "    <tr>\n",
       "      <th>128</th>\n",
       "      <td>0.037559</td>\n",
       "      <td>0.352502</td>\n",
       "      <td>0.497744</td>\n",
       "      <td>7.973274e-01</td>\n",
       "      <td>0.336449</td>\n",
       "      <td>0.405357</td>\n",
       "      <td>9.017713e-02</td>\n",
       "      <td>0.266729</td>\n",
       "      <td>3.174603e-10</td>\n",
       "      <td>1.960784e-09</td>\n",
       "    </tr>\n",
       "    <tr>\n",
       "      <th>129</th>\n",
       "      <td>0.596244</td>\n",
       "      <td>0.424056</td>\n",
       "      <td>0.458647</td>\n",
       "      <td>5.077951e-01</td>\n",
       "      <td>0.355140</td>\n",
       "      <td>0.389286</td>\n",
       "      <td>7.890499e-02</td>\n",
       "      <td>0.410781</td>\n",
       "      <td>3.174603e-10</td>\n",
       "      <td>3.333333e-01</td>\n",
       "    </tr>\n",
       "    <tr>\n",
       "      <th>130</th>\n",
       "      <td>0.896714</td>\n",
       "      <td>0.213784</td>\n",
       "      <td>0.619549</td>\n",
       "      <td>2.227171e-10</td>\n",
       "      <td>0.651090</td>\n",
       "      <td>0.619643</td>\n",
       "      <td>1.610306e-10</td>\n",
       "      <td>0.309480</td>\n",
       "      <td>2.031746e-01</td>\n",
       "      <td>1.764706e-01</td>\n",
       "    </tr>\n",
       "    <tr>\n",
       "      <th>131</th>\n",
       "      <td>0.502347</td>\n",
       "      <td>1.000000</td>\n",
       "      <td>0.236090</td>\n",
       "      <td>2.227171e-10</td>\n",
       "      <td>0.221184</td>\n",
       "      <td>0.062500</td>\n",
       "      <td>1.932367e-02</td>\n",
       "      <td>1.000000</td>\n",
       "      <td>3.174603e-10</td>\n",
       "      <td>4.705882e-01</td>\n",
       "    </tr>\n",
       "  </tbody>\n",
       "</table>\n",
       "<p>132 rows × 10 columns</p>\n",
       "</div>"
      ],
      "text/plain": [
       "            0         1         2             3         4         5  \\\n",
       "0    0.065728  0.284460  0.282707  7.995546e-01  0.317757  0.621429   \n",
       "1    0.028169  0.275680  0.386466  8.017817e-01  0.264798  0.585714   \n",
       "2    0.380282  0.209833  0.378947  7.683742e-01  0.355140  0.600000   \n",
       "3    0.840376  0.323529  0.505263  4.877506e-01  0.426791  0.510714   \n",
       "4    0.568075  0.240562  0.330827  7.884187e-01  0.414330  0.562500   \n",
       "..        ...       ...       ...           ...       ...       ...   \n",
       "127  0.600939  0.418349  0.424060  4.654788e-01  0.429907  0.423214   \n",
       "128  0.037559  0.352502  0.497744  7.973274e-01  0.336449  0.405357   \n",
       "129  0.596244  0.424056  0.458647  5.077951e-01  0.355140  0.389286   \n",
       "130  0.896714  0.213784  0.619549  2.227171e-10  0.651090  0.619643   \n",
       "131  0.502347  1.000000  0.236090  2.227171e-10  0.221184  0.062500   \n",
       "\n",
       "                6         7             8             9  \n",
       "0    9.339775e-02  0.285316  3.174603e-10  1.960784e-09  \n",
       "1    9.339775e-02  0.254647  3.174603e-10  1.960784e-09  \n",
       "2    9.822866e-02  0.225836  3.174603e-10  1.960784e-09  \n",
       "3    1.610306e-10  0.361524  3.174603e-10  1.960784e-09  \n",
       "4    1.030596e-01  0.241636  3.174603e-10  4.117647e-01  \n",
       "..            ...       ...           ...           ...  \n",
       "127  8.534622e-02  0.384758  8.571429e-02  3.333333e-01  \n",
       "128  9.017713e-02  0.266729  3.174603e-10  1.960784e-09  \n",
       "129  7.890499e-02  0.410781  3.174603e-10  3.333333e-01  \n",
       "130  1.610306e-10  0.309480  2.031746e-01  1.764706e-01  \n",
       "131  1.932367e-02  1.000000  3.174603e-10  4.705882e-01  \n",
       "\n",
       "[132 rows x 10 columns]"
      ]
     },
     "execution_count": 68,
     "metadata": {},
     "output_type": "execute_result"
    }
   ],
   "source": [
    "pd.DataFrame(edited_X)"
   ]
  },
  {
   "cell_type": "code",
   "execution_count": 69,
   "metadata": {},
   "outputs": [
    {
     "data": {
      "text/html": [
       "<div>\n",
       "<style scoped>\n",
       "    .dataframe tbody tr th:only-of-type {\n",
       "        vertical-align: middle;\n",
       "    }\n",
       "\n",
       "    .dataframe tbody tr th {\n",
       "        vertical-align: top;\n",
       "    }\n",
       "\n",
       "    .dataframe thead th {\n",
       "        text-align: right;\n",
       "    }\n",
       "</style>\n",
       "<table border=\"1\" class=\"dataframe\">\n",
       "  <thead>\n",
       "    <tr style=\"text-align: right;\">\n",
       "      <th></th>\n",
       "      <th>0</th>\n",
       "    </tr>\n",
       "  </thead>\n",
       "  <tbody>\n",
       "    <tr>\n",
       "      <th>0</th>\n",
       "      <td>1</td>\n",
       "    </tr>\n",
       "    <tr>\n",
       "      <th>1</th>\n",
       "      <td>1</td>\n",
       "    </tr>\n",
       "    <tr>\n",
       "      <th>2</th>\n",
       "      <td>2</td>\n",
       "    </tr>\n",
       "    <tr>\n",
       "      <th>3</th>\n",
       "      <td>6</td>\n",
       "    </tr>\n",
       "    <tr>\n",
       "      <th>4</th>\n",
       "      <td>2</td>\n",
       "    </tr>\n",
       "    <tr>\n",
       "      <th>...</th>\n",
       "      <td>...</td>\n",
       "    </tr>\n",
       "    <tr>\n",
       "      <th>127</th>\n",
       "      <td>2</td>\n",
       "    </tr>\n",
       "    <tr>\n",
       "      <th>128</th>\n",
       "      <td>1</td>\n",
       "    </tr>\n",
       "    <tr>\n",
       "      <th>129</th>\n",
       "      <td>2</td>\n",
       "    </tr>\n",
       "    <tr>\n",
       "      <th>130</th>\n",
       "      <td>7</td>\n",
       "    </tr>\n",
       "    <tr>\n",
       "      <th>131</th>\n",
       "      <td>2</td>\n",
       "    </tr>\n",
       "  </tbody>\n",
       "</table>\n",
       "<p>132 rows × 1 columns</p>\n",
       "</div>"
      ],
      "text/plain": [
       "     0\n",
       "0    1\n",
       "1    1\n",
       "2    2\n",
       "3    6\n",
       "4    2\n",
       "..  ..\n",
       "127  2\n",
       "128  1\n",
       "129  2\n",
       "130  7\n",
       "131  2\n",
       "\n",
       "[132 rows x 1 columns]"
      ]
     },
     "execution_count": 69,
     "metadata": {},
     "output_type": "execute_result"
    }
   ],
   "source": [
    "pd.DataFrame(edited_y)"
   ]
  },
  {
   "cell_type": "code",
   "execution_count": 70,
   "metadata": {},
   "outputs": [],
   "source": [
    "def KNN_predict(edited_X, edited_y, xq, k=1, D = euclidean):\n",
    "    #edited_X, edited_y = Edits(train_X, train_y, k, D = euclidean, max_iter)\n",
    "    y_hat = KNN(edited_X, edited_y, xq, k=1, D = euclidean )\n",
    "    return y_hat"
   ]
  },
  {
   "cell_type": "code",
   "execution_count": 71,
   "metadata": {},
   "outputs": [],
   "source": [
    "def ENN_tuning(data_X, data_y, tuning_idx, ks, repeat= 10,D = euclidean, score = accuracy):\n",
    "    \"\"\"\n",
    "    using KNN test a range of values for k and returns the best\n",
    "    Input:\n",
    "        data_X : matrix, model feature set\n",
    "        data_y : vector, model targets\n",
    "        ks: values for k to try\n",
    "        D: distance function \n",
    "        score: evaluation function\n",
    "    Out:\n",
    "        best_k: best perfoming k\n",
    "    \"\"\"\n",
    "    tuning_X, tuning_y= data_X[tuning_idx], data_y[tuning_idx]\n",
    "    edited_X, edited_y = Edit(data_X, data_y, D = D)\n",
    "    res = []\n",
    "    for k in ks:\n",
    "        res_sub = []\n",
    "        for i in range(repeat):\n",
    "            y_hats= []\n",
    "            for xq in tuning_X:\n",
    "                y_hats.append(KNN(edited_X, edited_y, xq, k, D = euclidean))\n",
    "            res_sub.append(score(tuning_y, y_hats))\n",
    "        res.append(np.mean(res_sub))\n",
    "    ###plotting results###\n",
    "    plt.plot(ks, res)\n",
    "    plt.xlabel('k')\n",
    "    plt.ylabel('score')\n",
    "    ######################\n",
    "    best_k = ks[np.argmax(res)]\n",
    "    return best_k"
   ]
  },
  {
   "cell_type": "code",
   "execution_count": 81,
   "metadata": {
    "scrolled": true
   },
   "outputs": [
    {
     "data": {
      "text/plain": [
       "1"
      ]
     },
     "execution_count": 81,
     "metadata": {},
     "output_type": "execute_result"
    },
    {
     "data": {
      "image/png": "[encoded data removed]",
      "text/plain": [
       "<Figure size 432x288 with 1 Axes>"
      ]
     },
     "metadata": {
      "needs_background": "light"
     },
     "output_type": "display_data"
    }
   ],
   "source": [
    "# k tuning on glass\n",
    "data_X, data_y = glass_X_norm, glass_y\n",
    "k_splits, tuning_idx = stratefied_cv_split(data_X, data_y)\n",
    "ks = [1,2,3,4,5,6,7,8,9,10]\n",
    "ENN_tuning(data_X, data_y, tuning_idx, ks, repeat= 10,D = euclidean, score = accuracy)"
   ]
  },
  {
   "cell_type": "code",
   "execution_count": 82,
   "metadata": {},
   "outputs": [],
   "source": [
    "def ENN_cv_test(data_X, data_y, k_splits, k=1, D = euclidean, score = accuracy):\n",
    "    \"\"\"\n",
    "    This function conducts stratefied k-hold cv test and \n",
    "    based on the model data set using KNN model \n",
    "    Input:\n",
    "        data_X : matrix, model feature set\n",
    "        data_y : vector, model targets\n",
    "        k: number of neighbors considered\n",
    "        D: distance function \n",
    "        score: evaluation function\n",
    "    Out:\n",
    "        average score over k-folds\n",
    "    \"\"\"\n",
    "    k_fold_idx = k_fold_cv_sets(k_splits)\n",
    "    k_fold = len(k_splits)\n",
    "    res = []\n",
    "    for i in range(k_fold):\n",
    "        train_idx, test_idx =  k_fold_idx[i]\n",
    "        np.random.shuffle(train_idx)\n",
    "        train_X, train_y= data_X[train_idx], data_y[train_idx]\n",
    "        test_X, test_y= data_X[test_idx], data_y[test_idx]\n",
    "        edited_X, edited_y = Edit(train_X, train_y, D=euclidean, max_iter=10)\n",
    "        y_hats = []\n",
    "        for xq in test_X:\n",
    "            y_hats.append(KNN(edited_X, edited_y, xq, k=3, D = euclidean))\n",
    "        res.append(score(test_y, y_hats))\n",
    "    return np.mean(res)"
   ]
  },
  {
   "cell_type": "code",
   "execution_count": 85,
   "metadata": {},
   "outputs": [
    {
     "data": {
      "text/plain": [
       "0.7970458109931794"
      ]
     },
     "execution_count": 85,
     "metadata": {},
     "output_type": "execute_result"
    }
   ],
   "source": [
    "# ENN on glass\n",
    "ENN_cv_test(data_X, data_y, k_splits, k=1, D = euclidean, score = accuracy)"
   ]
  },
  {
   "cell_type": "code",
   "execution_count": 88,
   "metadata": {},
   "outputs": [
    {
     "data": {
      "text/plain": [
       "1"
      ]
     },
     "execution_count": 88,
     "metadata": {},
     "output_type": "execute_result"
    },
    {
     "data": {
      "image/png": "[encoded data removed]",
      "text/plain": [
       "<Figure size 432x288 with 1 Axes>"
      ]
     },
     "metadata": {
      "needs_background": "light"
     },
     "output_type": "display_data"
    }
   ],
   "source": [
    "# k tuning on segmentation\n",
    "data_X, data_y = segmentation_X_norm, segmentation_y\n",
    "k_splits, tuning_idx = stratefied_cv_split(data_X, data_y)\n",
    "ks = [1,2,3,4,5,6,7,8,9,10]\n",
    "ENN_tuning(data_X, data_y, tuning_idx, ks, repeat= 10,D = euclidean, score = accuracy)"
   ]
  },
  {
   "cell_type": "code",
   "execution_count": 92,
   "metadata": {},
   "outputs": [
    {
     "data": {
      "text/plain": [
       "0.7270910384068279"
      ]
     },
     "execution_count": 92,
     "metadata": {},
     "output_type": "execute_result"
    }
   ],
   "source": [
    "# ENN on segmentation\n",
    "ENN_cv_test(data_X, data_y, k_splits, k=1, D = euclidean, score = accuracy)"
   ]
  },
  {
   "cell_type": "code",
   "execution_count": 95,
   "metadata": {},
   "outputs": [
    {
     "data": {
      "text/plain": [
       "2"
      ]
     },
     "execution_count": 95,
     "metadata": {},
     "output_type": "execute_result"
    },
    {
     "data": {
      "image/png": "[encoded data removed]",
      "text/plain": [
       "<Figure size 432x288 with 1 Axes>"
      ]
     },
     "metadata": {
      "needs_background": "light"
     },
     "output_type": "display_data"
    }
   ],
   "source": [
    "# k tuning on vote\n",
    "data_X, data_y = vote_X_norm, vote_y\n",
    "k_splits, tuning_idx = stratefied_cv_split(data_X, data_y)\n",
    "ks = [1,2,3,4,5,6,7,8,9,10]\n",
    "ENN_tuning(data_X, data_y, tuning_idx, ks, repeat= 10,D = euclidean, score = accuracy)"
   ]
  },
  {
   "cell_type": "code",
   "execution_count": 94,
   "metadata": {},
   "outputs": [
    {
     "data": {
      "text/plain": [
       "0.9285296981499513"
      ]
     },
     "execution_count": 94,
     "metadata": {},
     "output_type": "execute_result"
    }
   ],
   "source": [
    "# ENN on vote\n",
    "ENN_cv_test(data_X, data_y, k_splits, k=3, D = euclidean, score = accuracy)"
   ]
  },
  {
   "cell_type": "code",
   "execution_count": null,
   "metadata": {},
   "outputs": [],
   "source": [
    "# ENN on glass\n",
    "data_X, data_y = glass_X_norm, glass_y\n",
    "k_splits, tuning_idx = stratefied_cv_split(data_X, data_y)\n",
    "ENN_cv_test(data_X, data_y, k_splits, k=1, D = euclidean, score = accuracy)"
   ]
  },
  {
   "cell_type": "code",
   "execution_count": null,
   "metadata": {},
   "outputs": [],
   "source": [
    "# ENN on segmentation\n",
    "data_X, data_y = segmentation_X_norm, segmentation_y\n",
    "k_splits, tuning_idx = stratefied_cv_split(data_X, data_y)\n",
    "ENN_cv_test(data_X, data_y, k_splits, k=3, D = euclidean, score = accuracy)"
   ]
  },
  {
   "cell_type": "code",
   "execution_count": null,
   "metadata": {},
   "outputs": [],
   "source": [
    "# ENN on segmentation\n",
    "data_X, data_y = vote_X_norm, vote_y\n",
    "k_splits, tuning_idx = stratefied_cv_split(data_X, data_y)\n",
    "ENN_cv_test(data_X, data_y, k_splits, k=3, D = euclidean, score = accuracy)"
   ]
  },
  {
   "cell_type": "markdown",
   "metadata": {},
   "source": [
    "# CNN - condenced "
   ]
  },
  {
   "cell_type": "code",
   "execution_count": 96,
   "metadata": {},
   "outputs": [],
   "source": [
    "def Condence(train_X, train_y, k=1, D = euclidean, max_iter = 10):\n",
    "    \"\"\"\n",
    "    This function runs a individual KNN classification prediction for xq,\n",
    "    then if the predcition is correct, the sample gets removed from the set\n",
    "    Input:\n",
    "        data_X : matrix, model feature set\n",
    "        data_y : vector, model targets\n",
    "        xq: vector, queried item\n",
    "        k: number of neighbors considered\n",
    "        D: distance function \n",
    "    Out:\n",
    "        condenced_X : condenced data_X\n",
    "    \"\"\"\n",
    "    condenced_X = [train_X[0]]\n",
    "    condenced_y = [train_y[0]]\n",
    "\n",
    "    for j in range(max_iter):\n",
    "        prev=len(condenced_X)\n",
    "        for i in range(len(train_X)):\n",
    "            y_hat = KNN(condenced_X, condenced_y, train_X[i], k=1, D = euclidean )\n",
    "            if (y_hat== None )or(y_hat!=train_y[i]):\n",
    "                condenced_X.append(train_X[i])\n",
    "                condenced_y.append(train_y[i])\n",
    "        apre = len(condenced_X)\n",
    "        if prev==apre:\n",
    "            break\n",
    "    return condenced_X, condenced_y"
   ]
  },
  {
   "cell_type": "code",
   "execution_count": 97,
   "metadata": {},
   "outputs": [
    {
     "data": {
      "text/html": [
       "<div>\n",
       "<style scoped>\n",
       "    .dataframe tbody tr th:only-of-type {\n",
       "        vertical-align: middle;\n",
       "    }\n",
       "\n",
       "    .dataframe tbody tr th {\n",
       "        vertical-align: top;\n",
       "    }\n",
       "\n",
       "    .dataframe thead th {\n",
       "        text-align: right;\n",
       "    }\n",
       "</style>\n",
       "<table border=\"1\" class=\"dataframe\">\n",
       "  <thead>\n",
       "    <tr style=\"text-align: right;\">\n",
       "      <th></th>\n",
       "      <th>0</th>\n",
       "      <th>1</th>\n",
       "      <th>2</th>\n",
       "      <th>3</th>\n",
       "      <th>4</th>\n",
       "      <th>5</th>\n",
       "      <th>6</th>\n",
       "      <th>7</th>\n",
       "      <th>8</th>\n",
       "      <th>9</th>\n",
       "    </tr>\n",
       "  </thead>\n",
       "  <tbody>\n",
       "    <tr>\n",
       "      <th>0</th>\n",
       "      <td>0.774648</td>\n",
       "      <td>0.463565</td>\n",
       "      <td>0.124812</td>\n",
       "      <td>4.187082e-01</td>\n",
       "      <td>0.395639</td>\n",
       "      <td>0.544643</td>\n",
       "      <td>7.568438e-02</td>\n",
       "      <td>0.555762</td>\n",
       "      <td>3.174603e-10</td>\n",
       "      <td>1.960784e-09</td>\n",
       "    </tr>\n",
       "    <tr>\n",
       "      <th>1</th>\n",
       "      <td>0.774648</td>\n",
       "      <td>0.463565</td>\n",
       "      <td>0.124812</td>\n",
       "      <td>4.187082e-01</td>\n",
       "      <td>0.395639</td>\n",
       "      <td>0.544643</td>\n",
       "      <td>7.568438e-02</td>\n",
       "      <td>0.555762</td>\n",
       "      <td>3.174603e-10</td>\n",
       "      <td>1.960784e-09</td>\n",
       "    </tr>\n",
       "    <tr>\n",
       "      <th>2</th>\n",
       "      <td>0.028169</td>\n",
       "      <td>0.275680</td>\n",
       "      <td>0.386466</td>\n",
       "      <td>8.017817e-01</td>\n",
       "      <td>0.264798</td>\n",
       "      <td>0.585714</td>\n",
       "      <td>9.339775e-02</td>\n",
       "      <td>0.254647</td>\n",
       "      <td>3.174603e-10</td>\n",
       "      <td>1.960784e-09</td>\n",
       "    </tr>\n",
       "    <tr>\n",
       "      <th>3</th>\n",
       "      <td>0.633803</td>\n",
       "      <td>0.295874</td>\n",
       "      <td>0.369925</td>\n",
       "      <td>8.685969e-01</td>\n",
       "      <td>0.314642</td>\n",
       "      <td>0.450000</td>\n",
       "      <td>8.856683e-02</td>\n",
       "      <td>0.279740</td>\n",
       "      <td>3.174603e-10</td>\n",
       "      <td>5.490196e-01</td>\n",
       "    </tr>\n",
       "    <tr>\n",
       "      <th>4</th>\n",
       "      <td>0.727700</td>\n",
       "      <td>0.233099</td>\n",
       "      <td>0.347368</td>\n",
       "      <td>7.572383e-01</td>\n",
       "      <td>0.302181</td>\n",
       "      <td>0.571429</td>\n",
       "      <td>8.373591e-02</td>\n",
       "      <td>0.292751</td>\n",
       "      <td>3.174603e-10</td>\n",
       "      <td>1.960784e-09</td>\n",
       "    </tr>\n",
       "    <tr>\n",
       "      <th>...</th>\n",
       "      <td>...</td>\n",
       "      <td>...</td>\n",
       "      <td>...</td>\n",
       "      <td>...</td>\n",
       "      <td>...</td>\n",
       "      <td>...</td>\n",
       "      <td>...</td>\n",
       "      <td>...</td>\n",
       "      <td>...</td>\n",
       "      <td>...</td>\n",
       "    </tr>\n",
       "    <tr>\n",
       "      <th>67</th>\n",
       "      <td>0.455399</td>\n",
       "      <td>0.275680</td>\n",
       "      <td>0.221053</td>\n",
       "      <td>7.238307e-01</td>\n",
       "      <td>0.271028</td>\n",
       "      <td>0.667857</td>\n",
       "      <td>9.983897e-02</td>\n",
       "      <td>0.322491</td>\n",
       "      <td>3.174603e-10</td>\n",
       "      <td>4.705882e-01</td>\n",
       "    </tr>\n",
       "    <tr>\n",
       "      <th>68</th>\n",
       "      <td>0.859155</td>\n",
       "      <td>0.374890</td>\n",
       "      <td>0.575940</td>\n",
       "      <td>2.227171e-10</td>\n",
       "      <td>0.084112</td>\n",
       "      <td>0.655357</td>\n",
       "      <td>1.610306e-10</td>\n",
       "      <td>0.538104</td>\n",
       "      <td>3.174603e-10</td>\n",
       "      <td>1.960784e-09</td>\n",
       "    </tr>\n",
       "    <tr>\n",
       "      <th>69</th>\n",
       "      <td>0.516432</td>\n",
       "      <td>0.679982</td>\n",
       "      <td>0.075188</td>\n",
       "      <td>2.227171e-10</td>\n",
       "      <td>0.149533</td>\n",
       "      <td>0.607143</td>\n",
       "      <td>1.610306e-10</td>\n",
       "      <td>0.859665</td>\n",
       "      <td>3.174603e-10</td>\n",
       "      <td>1.960784e-09</td>\n",
       "    </tr>\n",
       "    <tr>\n",
       "      <th>70</th>\n",
       "      <td>0.615023</td>\n",
       "      <td>0.658033</td>\n",
       "      <td>0.446617</td>\n",
       "      <td>2.227171e-10</td>\n",
       "      <td>0.333333</td>\n",
       "      <td>0.255357</td>\n",
       "      <td>3.059581e-02</td>\n",
       "      <td>0.744424</td>\n",
       "      <td>3.174603e-10</td>\n",
       "      <td>1.960784e-01</td>\n",
       "    </tr>\n",
       "    <tr>\n",
       "      <th>71</th>\n",
       "      <td>0.492958</td>\n",
       "      <td>0.597015</td>\n",
       "      <td>0.108271</td>\n",
       "      <td>2.227171e-10</td>\n",
       "      <td>0.495327</td>\n",
       "      <td>0.425000</td>\n",
       "      <td>1.304348e-01</td>\n",
       "      <td>0.725836</td>\n",
       "      <td>3.174603e-10</td>\n",
       "      <td>6.666667e-01</td>\n",
       "    </tr>\n",
       "  </tbody>\n",
       "</table>\n",
       "<p>72 rows × 10 columns</p>\n",
       "</div>"
      ],
      "text/plain": [
       "           0         1         2             3         4         5  \\\n",
       "0   0.774648  0.463565  0.124812  4.187082e-01  0.395639  0.544643   \n",
       "1   0.774648  0.463565  0.124812  4.187082e-01  0.395639  0.544643   \n",
       "2   0.028169  0.275680  0.386466  8.017817e-01  0.264798  0.585714   \n",
       "3   0.633803  0.295874  0.369925  8.685969e-01  0.314642  0.450000   \n",
       "4   0.727700  0.233099  0.347368  7.572383e-01  0.302181  0.571429   \n",
       "..       ...       ...       ...           ...       ...       ...   \n",
       "67  0.455399  0.275680  0.221053  7.238307e-01  0.271028  0.667857   \n",
       "68  0.859155  0.374890  0.575940  2.227171e-10  0.084112  0.655357   \n",
       "69  0.516432  0.679982  0.075188  2.227171e-10  0.149533  0.607143   \n",
       "70  0.615023  0.658033  0.446617  2.227171e-10  0.333333  0.255357   \n",
       "71  0.492958  0.597015  0.108271  2.227171e-10  0.495327  0.425000   \n",
       "\n",
       "               6         7             8             9  \n",
       "0   7.568438e-02  0.555762  3.174603e-10  1.960784e-09  \n",
       "1   7.568438e-02  0.555762  3.174603e-10  1.960784e-09  \n",
       "2   9.339775e-02  0.254647  3.174603e-10  1.960784e-09  \n",
       "3   8.856683e-02  0.279740  3.174603e-10  5.490196e-01  \n",
       "4   8.373591e-02  0.292751  3.174603e-10  1.960784e-09  \n",
       "..           ...       ...           ...           ...  \n",
       "67  9.983897e-02  0.322491  3.174603e-10  4.705882e-01  \n",
       "68  1.610306e-10  0.538104  3.174603e-10  1.960784e-09  \n",
       "69  1.610306e-10  0.859665  3.174603e-10  1.960784e-09  \n",
       "70  3.059581e-02  0.744424  3.174603e-10  1.960784e-01  \n",
       "71  1.304348e-01  0.725836  3.174603e-10  6.666667e-01  \n",
       "\n",
       "[72 rows x 10 columns]"
      ]
     },
     "execution_count": 97,
     "metadata": {},
     "output_type": "execute_result"
    }
   ],
   "source": [
    "# Sample of Condenced samples\n",
    "data_X, data_y = glass_X_norm, glass_y\n",
    "k_splits, tuning_idx = stratefied_cv_split(data_X, data_y)\n",
    "k_fold_idx = k_fold_cv_sets(k_splits)\n",
    "i = 0\n",
    "train_idx, test_idx =  k_fold_idx[i]\n",
    "np.random.shuffle(train_idx)\n",
    "train_X, train_y= data_X[train_idx], data_y[train_idx]\n",
    "test_X, test_y= data_X[test_idx], data_y[test_idx]\n",
    "condenced_X, condenced_y= Condence(train_X, train_y, k=1, D = euclidean)\n",
    "pd.DataFrame(condenced_X)"
   ]
  },
  {
   "cell_type": "code",
   "execution_count": 98,
   "metadata": {},
   "outputs": [],
   "source": [
    "def CNN_tuning(data_X, data_y, tuning_idx, ks, repeat= 10,D = euclidean, score = accuracy):\n",
    "    \"\"\"\n",
    "    using KNN test a range of values for k and returns the best\n",
    "    Input:\n",
    "        data_X : matrix, model feature set\n",
    "        data_y : vector, model targets\n",
    "        ks: values for k to try\n",
    "        D: distance function \n",
    "        score: evaluation function\n",
    "    Out:\n",
    "        best_k: best perfoming k\n",
    "    \"\"\"\n",
    "    tuning_X, tuning_y= data_X[tuning_idx], data_y[tuning_idx]\n",
    "    condenced_X, condenced_y = Condence(data_X, data_y, D = D)\n",
    "    res = []\n",
    "    for k in ks:\n",
    "        res_sub = []\n",
    "        for i in range(repeat):\n",
    "            y_hats= []\n",
    "            for xq in tuning_X:\n",
    "                y_hats.append(KNN(condenced_X, condenced_y, xq, k, D = euclidean))\n",
    "            res_sub.append(score(tuning_y, y_hats))\n",
    "        res.append(np.mean(res_sub))\n",
    "    ###plotting results###\n",
    "    plt.plot(ks, res)\n",
    "    plt.xlabel('k')\n",
    "    plt.ylabel('score')\n",
    "    ######################\n",
    "    best_k = ks[np.argmax(res)]\n",
    "    return best_k"
   ]
  },
  {
   "cell_type": "code",
   "execution_count": 99,
   "metadata": {},
   "outputs": [
    {
     "data": {
      "text/plain": [
       "1"
      ]
     },
     "execution_count": 99,
     "metadata": {},
     "output_type": "execute_result"
    },
    {
     "data": {
      "image/png": "[encoded data removed]",
      "text/plain": [
       "<Figure size 432x288 with 1 Axes>"
      ]
     },
     "metadata": {
      "needs_background": "light"
     },
     "output_type": "display_data"
    }
   ],
   "source": [
    "# CNN k tuning on glass\n",
    "ks = [1,2,3,4,5,6,7,8,9,10]\n",
    "CNN_tuning(data_X, data_y, tuning_idx, ks, repeat= 10,D = euclidean, score = accuracy)"
   ]
  },
  {
   "cell_type": "code",
   "execution_count": 102,
   "metadata": {},
   "outputs": [],
   "source": [
    "def CNN_cv_test(data_X, data_y, k_splits, k=1, D = euclidean, score = accuracy):\n",
    "    \"\"\"\n",
    "    This function conducts stratefied k-hold cv test and \n",
    "    based on the model data set using KNN model \n",
    "    Input:\n",
    "        data_X : matrix, model feature set\n",
    "        data_y : vector, model targets\n",
    "        k: number of neighbors considered\n",
    "        D: distance function \n",
    "        score: evaluation function\n",
    "    Out:\n",
    "        average score over k-folds\n",
    "    \"\"\"\n",
    "    k_fold_idx = k_fold_cv_sets(k_splits)\n",
    "    k_fold = len(k_splits)\n",
    "    res = []\n",
    "    for i in range(k_fold):\n",
    "        train_idx, test_idx =  k_fold_idx[i]\n",
    "        np.random.shuffle(train_idx)  # random order sample \n",
    "        train_X, train_y= data_X[train_idx], data_y[train_idx]\n",
    "        test_X, test_y= data_X[test_idx], data_y[test_idx]\n",
    "        condenced_X, condenced_y= Condence(train_X, train_y, k=1, D = euclidean)\n",
    "        y_hats = []\n",
    "        for xq in test_X:\n",
    "            y_hats.append(KNN(condenced_X, condenced_y, xq, k, D = euclidean))\n",
    "        res.append(score(test_y, y_hats))\n",
    "    return np.mean(res)"
   ]
  },
  {
   "cell_type": "code",
   "execution_count": 103,
   "metadata": {},
   "outputs": [
    {
     "data": {
      "text/plain": [
       "0.8603238866396762"
      ]
     },
     "execution_count": 103,
     "metadata": {},
     "output_type": "execute_result"
    }
   ],
   "source": [
    "# CNN on glass\n",
    "CNN_cv_test(data_X, data_y, k_splits, k=1, D = euclidean, score = accuracy)"
   ]
  },
  {
   "cell_type": "code",
   "execution_count": 104,
   "metadata": {},
   "outputs": [
    {
     "data": {
      "text/plain": [
       "1"
      ]
     },
     "execution_count": 104,
     "metadata": {},
     "output_type": "execute_result"
    },
    {
     "data": {
      "image/png": "[encoded data removed]",
      "text/plain": [
       "<Figure size 432x288 with 1 Axes>"
      ]
     },
     "metadata": {
      "needs_background": "light"
     },
     "output_type": "display_data"
    }
   ],
   "source": [
    "# CNN k tuning on segmentation\n",
    "data_X, data_y = segmentation_X_norm, segmentation_y\n",
    "k_splits, tuning_idx = stratefied_cv_split(data_X, data_y)\n",
    "ks = [1,2,3,4,5,6,7,8,9,10]\n",
    "CNN_tuning(data_X, data_y, tuning_idx, ks, repeat= 10,D = euclidean, score = accuracy)"
   ]
  },
  {
   "cell_type": "code",
   "execution_count": 105,
   "metadata": {},
   "outputs": [
    {
     "data": {
      "text/plain": [
       "0.7053314853314854"
      ]
     },
     "execution_count": 105,
     "metadata": {},
     "output_type": "execute_result"
    }
   ],
   "source": [
    "# CNN on segmentation\n",
    "CNN_cv_test(data_X, data_y, k_splits, k=1, D = euclidean, score = accuracy)"
   ]
  },
  {
   "cell_type": "code",
   "execution_count": 106,
   "metadata": {},
   "outputs": [
    {
     "data": {
      "text/plain": [
       "0.7212058212058212"
      ]
     },
     "execution_count": 106,
     "metadata": {},
     "output_type": "execute_result"
    }
   ],
   "source": [
    "# CNN on segmentation\n",
    "data_X, data_y = segmentation_X_norm, segmentation_y\n",
    "k_splits, tuning_idx = stratefied_cv_split(data_X, data_y)\n",
    "CNN_cv_test(data_X, data_y, k_splits, k=1, D = euclidean, score = accuracy)"
   ]
  },
  {
   "cell_type": "code",
   "execution_count": 107,
   "metadata": {},
   "outputs": [
    {
     "data": {
      "text/plain": [
       "1"
      ]
     },
     "execution_count": 107,
     "metadata": {},
     "output_type": "execute_result"
    },
    {
     "data": {
      "image/png": "[encoded data removed]",
      "text/plain": [
       "<Figure size 432x288 with 1 Axes>"
      ]
     },
     "metadata": {
      "needs_background": "light"
     },
     "output_type": "display_data"
    }
   ],
   "source": [
    "# CNN k tuning on vote\n",
    "data_X, data_y = vote_X_norm, vote_y\n",
    "k_splits, tuning_idx = stratefied_cv_split(data_X, data_y)\n",
    "ks = [1,2,3,4,5,6,7,8,9,10]\n",
    "CNN_tuning(data_X, data_y, tuning_idx, ks, repeat= 10,D = euclidean, score = accuracy)"
   ]
  },
  {
   "cell_type": "code",
   "execution_count": 108,
   "metadata": {},
   "outputs": [
    {
     "data": {
      "text/plain": [
       "0.8774748458292763"
      ]
     },
     "execution_count": 108,
     "metadata": {},
     "output_type": "execute_result"
    }
   ],
   "source": [
    "# CNN on vote\n",
    "CNN_cv_test(data_X, data_y, k_splits, k=1, D = euclidean, score = accuracy)"
   ]
  },
  {
   "cell_type": "markdown",
   "metadata": {},
   "source": [
    "# Regression"
   ]
  },
  {
   "cell_type": "code",
   "execution_count": 109,
   "metadata": {},
   "outputs": [],
   "source": [
    "def gaussian_kernel(dist, h):\n",
    "    weight = np.exp(-(dist**2)/h)\n",
    "    return weight"
   ]
  },
  {
   "cell_type": "markdown",
   "metadata": {},
   "source": [
    "## KNN"
   ]
  },
  {
   "cell_type": "code",
   "execution_count": 110,
   "metadata": {},
   "outputs": [],
   "source": [
    "def KNN_regression(data_X, data_y, xq, k=2,h=2, D = euclidean, forest = False ):\n",
    "    \"\"\"\n",
    "    This function returns a individual estimate for xq using Gaussian Kernel \n",
    "    based on the model data set\n",
    "    Input:\n",
    "        data_X : matrix, model feature set\n",
    "        data_y : vector, model targets\n",
    "        xq: vector, queried item\n",
    "        k: number of neighbors considered\n",
    "        D: distance function \n",
    "    Out:\n",
    "        y_hat : predicted value\n",
    "    \"\"\"\n",
    "\n",
    "    dist = [D(x, xq) for x in data_X]\n",
    "    idx = [i for i in range(len(dist))]\n",
    "    sorted_indx = [int(i) for x, i in sorted(zip(dist,idx))]\n",
    "    k_neighbors = sorted_indx[:k]\n",
    "    y_hats = [data_y[neighbor] for neighbor in k_neighbors]\n",
    "    y_hats = [data_y[neighbor] for neighbor in k_neighbors]\n",
    "    d_to_neighbors = [D(xq, data_X[neighbor], forest) for neighbor in k_neighbors]\n",
    "    weights = [gaussian_kernel(d, h) for d in d_to_neighbors]\n",
    "    y_hat = np.mean(np.multiply(y_hats, weights))\n",
    "    return y_hat"
   ]
  },
  {
   "cell_type": "code",
   "execution_count": 111,
   "metadata": {},
   "outputs": [
    {
     "data": {
      "text/plain": [
       "[0.033499187739792484,\n",
       " 0.15949639393392287,\n",
       " 0.01872304640651799,\n",
       " 0.006406525480498473,\n",
       " 0.02501885894642933,\n",
       " 0.0093240093248753,\n",
       " 0.04032408773171066,\n",
       " 0.02490547076150698,\n",
       " 0.056334901901060115,\n",
       " 0.18735431235502267,\n",
       " 0.06280326042337735,\n",
       " 0.22881322498586298,\n",
       " 0.022086256979801693,\n",
       " 0.019784153018801837,\n",
       " 0.02471300274457271,\n",
       " 0.01729997493580115,\n",
       " 0.02036591681287613,\n",
       " 0.009310129064436996,\n",
       " 0.006405813060371701,\n",
       " 0.015121891419215007]"
      ]
     },
     "execution_count": 111,
     "metadata": {},
     "output_type": "execute_result"
    }
   ],
   "source": [
    "# prediction sample\n",
    "data_X, data_y = machine_X_norm, machine_y_norm\n",
    "k_splits, tuning_idx = stratefied_cv_split(data_X, data_y)\n",
    "i = 0\n",
    "k_fold_idx = k_fold_cv_sets(k_splits)\n",
    "train_idx, test_idx =  k_fold_idx[i]\n",
    "np.random.shuffle(train_idx)\n",
    "train_X, train_y= data_X[train_idx], data_y[train_idx]\n",
    "test_X, test_y= data_X[test_idx], data_y[test_idx]\n",
    "y_hats= []\n",
    "for xq in train_X:\n",
    "    y_hats.append(KNN_regression(train_X, train_y, xq, k=3,h=2, D = euclidean))\n",
    "y_hats[:20]"
   ]
  },
  {
   "cell_type": "code",
   "execution_count": 112,
   "metadata": {},
   "outputs": [],
   "source": [
    "def KNN_regression_tuning(data_X, data_y, tuning_idx, ks, hs, param='k',repeat= 5,D = euclidean, score = MSE, forest = False):\n",
    "    \"\"\"\n",
    "    using KNN test a range of values for k and returns the best\n",
    "    Input:\n",
    "        data_X : matrix, model feature set\n",
    "        data_y : vector, model targets\n",
    "        ks: values for k to try\n",
    "        D: distance function \n",
    "        score: evaluation function\n",
    "    Out:\n",
    "        best_k: best perfoming k\n",
    "    \"\"\"\n",
    "    tuning_X, tuning_y= data_X[tuning_idx], data_y[tuning_idx]\n",
    "    res = []\n",
    "    for k in ks:\n",
    "        res_sub = []\n",
    "        for i in range(repeat):\n",
    "            y_hats= []\n",
    "            for xq in tuning_X:\n",
    "                y_hats.append(KNN_regression(data_X, data_y, xq, k= k,h=hs[0], D = D, forest = forest))\n",
    "            res_sub.append(score(tuning_y, y_hats))\n",
    "        res.append(np.mean(res_sub))\n",
    "    best_k = ks[np.argmin(res)]\n",
    "    ###plotting results###\n",
    "    plt.plot(ks, res)\n",
    "    plt.xlabel(param)\n",
    "    plt.ylabel('score')\n",
    "    plt.title('parameter tuning')\n",
    "    ######################\n",
    "    \n",
    "    res = []\n",
    "    for h in hs:\n",
    "        res_sub = []\n",
    "        for i in range(repeat):\n",
    "            y_hats= []\n",
    "            for xq in tuning_X:\n",
    "                y_hats.append(KNN_regression(data_X, data_y, xq, k=best_k,h=h, D = D, forest = forest))\n",
    "            res_sub.append(score(tuning_y, y_hats))\n",
    "        res.append(np.mean(res_sub))\n",
    "    best_h = hs[np.argmin(res)]\n",
    "    ###plotting results###\n",
    "    plt.plot(hs, res)\n",
    "    plt.xlabel(param)\n",
    "    plt.ylabel('score')\n",
    "    ######################\n",
    "    \n",
    "    return best_k, best_h"
   ]
  },
  {
   "cell_type": "code",
   "execution_count": 113,
   "metadata": {},
   "outputs": [
    {
     "data": {
      "text/plain": [
       "(1, 2)"
      ]
     },
     "execution_count": 113,
     "metadata": {},
     "output_type": "execute_result"
    },
    {
     "data": {
      "image/png": "[encoded data removed]",
      "text/plain": [
       "<Figure size 432x288 with 1 Axes>"
      ]
     },
     "metadata": {
      "needs_background": "light"
     },
     "output_type": "display_data"
    }
   ],
   "source": [
    "data_X, data_y = machine_X_norm, machine_y\n",
    "k_splits, tuning_idx = stratefied_cv_split_continuous(data_X, data_y)\n",
    "ks = [1,2,3,4,5,6,7,8,9,10, 20, 30]\n",
    "hs = [2]\n",
    "KNN_regression_tuning(data_X, data_y, tuning_idx,param = 'k', ks= ks, hs=hs, D = euclidean, score = MSE)"
   ]
  },
  {
   "cell_type": "code",
   "execution_count": 114,
   "metadata": {
    "tags": []
   },
   "outputs": [],
   "source": [
    "def KNN_regression_cv_test(data_X, data_y, k_splits, k=1, h=2, D = euclidean, score = MSE, forest= False):\n",
    "    \"\"\"\n",
    "    This function conducts stratefied k-hold cv test and \n",
    "    based on the model data set using KNN model \n",
    "    Input:\n",
    "        data_X : matrix, model feature set\n",
    "        data_y : vector, model targets\n",
    "        k: number of neighbors considered\n",
    "        D: distance function \n",
    "        score: evaluation function\n",
    "    Out:\n",
    "        average score over k-folds\n",
    "    \"\"\"\n",
    "    k_fold_idx = k_fold_cv_sets(k_splits)\n",
    "    k_fold = len(k_splits)\n",
    "    res = []\n",
    "    for i in range(k_fold):\n",
    "        train_idx, test_idx =  k_fold_idx[i]\n",
    "        np.random.shuffle(train_idx)\n",
    "        np.random.shuffle(test_idx)\n",
    "        train_X, train_y= data_X[train_idx], data_y[train_idx]\n",
    "        test_X, test_y= data_X[test_idx], data_y[test_idx]\n",
    "        y_hats = []\n",
    "        for xq in test_X:\n",
    "            y_hats.append(KNN_regression(train_X, train_y, xq, k=k, h=h, D = euclidean, forest= forest))\n",
    "        res.append(score(test_y, y_hats))\n",
    "    return np.mean(res)"
   ]
  },
  {
   "cell_type": "code",
   "execution_count": null,
   "metadata": {},
   "outputs": [],
   "source": [
    "data_X, data_y = machine_X_norm, machine_y\n",
    "k_splits, tuning_idx = stratefied_cv_split_continuous(data_X, data_y)\n",
    "KNN_regression_cv_test(data_X, data_y, k_splits, k=1, h = 3,D = euclidean, score = MSE)"
   ]
  },
  {
   "cell_type": "code",
   "execution_count": null,
   "metadata": {},
   "outputs": [],
   "source": [
    "#KNN tuning of forestfires\n",
    "data_X, data_y = forestfire_X_norm, forestfire_y_log\n",
    "k_splits, tuning_idx = stratefied_cv_split_continuous(data_X, data_y)\n",
    "ks = [1]\n",
    "hs = [0.1, 0.5, 1,2,3,4,5, 10]\n",
    "KNN_regression_tuning(data_X, data_y, tuning_idx,param ='h',ks= ks, hs=hs, D = euclidean, score = MSE, forest= True)"
   ]
  },
  {
   "cell_type": "code",
   "execution_count": null,
   "metadata": {},
   "outputs": [],
   "source": [
    "KNN_regression_cv_test(data_X, data_y, k_splits, k=30, h = 1,D = euclidean, score = MSE, forest= True)"
   ]
  },
  {
   "cell_type": "code",
   "execution_count": null,
   "metadata": {
    "tags": []
   },
   "outputs": [],
   "source": [
    "# KNN on abalone\n",
    "data_X, data_y = abalone_X_norm, abalone_y_norm\n",
    "k_splits, tuning_idx = stratefied_cv_split_continuous(data_X, data_y)\n",
    "ks = [1,2,3]\n",
    "hs = [1]\n",
    "KNN_regression_tuning(data_X, data_y, tuning_idx, ks= ks, hs=hs, D = euclidean, score = MSE)"
   ]
  },
  {
   "cell_type": "code",
   "execution_count": null,
   "metadata": {},
   "outputs": [],
   "source": [
    "KNN_regression_cv_test(data_X, abalone_y, k_splits, k=1, h = 1,D = euclidean, score = MSE)"
   ]
  },
  {
   "cell_type": "markdown",
   "metadata": {},
   "source": [
    "# ENN"
   ]
  },
  {
   "cell_type": "code",
   "execution_count": null,
   "metadata": {},
   "outputs": [],
   "source": [
    "def Edit_regression(train_X,train_y,k=1, h=1, e=1e-3, D = euclidean, max_iter = 10):\n",
    "    \"\"\"\n",
    "    This function runs a individual KNN classification prediction for xq,\n",
    "    then if the predcition is correct, the sample gets removed from the set\n",
    "    Input:\n",
    "        data_X : matrix, model feature set\n",
    "        data_y : vector, model targets\n",
    "        xq: vector, queried item\n",
    "        k: number of neighbors considered\n",
    "        D: distance function \n",
    "    Out:\n",
    "        edited_X : edited data_X\n",
    "    \"\"\"\n",
    "    edited_X = train_X.copy()\n",
    "    edited_y = train_y.copy()\n",
    "    removed = []\n",
    "    for j in range(max_iter):\n",
    "        n = len(edited_X)\n",
    "        idx = [i for i in range(n)]\n",
    "        for i, xq in enumerate(edited_X):\n",
    "            y_hat = KNN_regression(train_X, train_y, xq, k=1, h=h, D = euclidean)\n",
    "            if abs(y_hat-edited_y[i])<= e:\n",
    "                remove.append(i)\n",
    "        keep = list(set(idx)-set(remove))\n",
    "        edited_X = edited_X[keep]\n",
    "        edited_y = edited_y[keep]\n",
    "        if n == len(edited_X):\n",
    "            break\n",
    "    return edited_X, edited_y"
   ]
  },
  {
   "cell_type": "code",
   "execution_count": null,
   "metadata": {},
   "outputs": [],
   "source": [
    "# edit sample with abalone\n",
    "data_X, data_y = abalone_X_norm, abalone_y\n",
    "k_splits, tuning_idx = stratefied_cv_split(data_X, data_y)\n",
    "i = 0\n",
    "k_fold_idx = k_fold_cv_sets(k_splits)\n",
    "train_idx, test_idx =  k_fold_idx[i]\n",
    "np.random.shuffle(train_idx)\n",
    "train_X, train_y= data_X[train_idx], data_y[train_idx]\n",
    "test_X, test_y= data_X[test_idx], data_y[test_idx]\n",
    "edited_X, edited_y, remove = Edit_regression(train_X, train_y,k=1, h=5, e=0, D = euclidean, max_iter = 1)\n"
   ]
  },
  {
   "cell_type": "code",
   "execution_count": null,
   "metadata": {},
   "outputs": [],
   "source": [
    "edited_X.shape"
   ]
  },
  {
   "cell_type": "code",
   "execution_count": null,
   "metadata": {},
   "outputs": [],
   "source": [
    "# edit sample with machine\n",
    "data_X, data_y = machine_X_norm, machine_y_norm\n",
    "k_splits, tuning_idx = stratefied_cv_split(data_X, data_y)\n",
    "i = 0\n",
    "k_fold_idx = k_fold_cv_sets(k_splits)\n",
    "train_idx, test_idx =  k_fold_idx[i]\n",
    "np.random.shuffle(train_idx)\n",
    "train_X, train_y= data_X[train_idx], data_y[train_idx]\n",
    "edited_X, edited_y=Edit_regression(train_X, train_y,k=1, h=1, e=1e-3, D = euclidean, max_iter = 10)"
   ]
  },
  {
   "cell_type": "code",
   "execution_count": null,
   "metadata": {},
   "outputs": [],
   "source": [
    "remove"
   ]
  },
  {
   "cell_type": "code",
   "execution_count": null,
   "metadata": {},
   "outputs": [],
   "source": []
  },
  {
   "cell_type": "code",
   "execution_count": null,
   "metadata": {},
   "outputs": [],
   "source": [
    "tuning_X, tuning_y= data_X[tuning_idx], data_y[tuning_idx]\n",
    "    for e in es:\n",
    "        edited_X, edited_y=Edit_regression(train_X, train_y,k=1, h=1, e=e, D = D)\n",
    "        res = []\n",
    "        res_sub = []\n",
    "        for i in range(repeat):\n",
    "            y_hats= []\n",
    "            for xq in tuning_X:\n",
    "                y_hats.append(KNN_regression(edited_X, edited_y, xq, k=k[0],h=hs[0], D = D))\n",
    "            res_sub.append(score(tuning_y, y_hats))\n",
    "        res.append(np.mean(res_sub))\n",
    "    best_e = es[np.argmin(res)]\n",
    "    ###plotting results###\n",
    "    plt.plot(es, res)\n",
    "    plt.xlabel('k')\n",
    "    plt.ylabel('score')\n",
    "    ######################"
   ]
  },
  {
   "cell_type": "code",
   "execution_count": null,
   "metadata": {},
   "outputs": [],
   "source": [
    "np.std(machine_y_norm)"
   ]
  },
  {
   "cell_type": "code",
   "execution_count": null,
   "metadata": {},
   "outputs": [],
   "source": [
    "#KNN_regression(edited_X, edited_y, tuning_X[0], k=1,h=1)\n",
    "edited_X"
   ]
  },
  {
   "cell_type": "code",
   "execution_count": null,
   "metadata": {},
   "outputs": [],
   "source": [
    "#ENN_regression_tuning on machine\n",
    "def ENN_reg_e_tuning(data_X, data_y, tuning_idx, es, k=3, h =2, repeat=5, D = euclidean, score = MSE):\n",
    "    tuning_X, tuning_y= data_X[tuning_idx], data_y[tuning_idx]\n",
    "    res = []\n",
    "    for e in es:\n",
    "        edited_X, edited_y=Edit_regression(data_X, data_y,k=1, h=1, e=e, D = D)\n",
    "        res_sub = []\n",
    "        for i in range(repeat):\n",
    "            y_hats= []\n",
    "            for xq in tuning_X:\n",
    "                y_hats.append(KNN_regression(edited_X, edited_y, xq, k=k, h=h, D = D))\n",
    "            res_sub.append(score(tuning_y, y_hats))\n",
    "        res.append(np.mean(res_sub))\n",
    "    best_e = es[np.argmin(res)]\n",
    "    ###plotting results###\n",
    "    plt.plot(es, res)\n",
    "    plt.xlabel('e')\n",
    "    plt.ylabel('score')\n",
    "    ######################\n",
    "    print(best_e)\n",
    "    \n",
    "data_X, data_y = machine_X_norm, machine_y\n",
    "k_splits, tuning_idx = stratefied_cv_split(data_X, data_y) \n",
    "es = [1, 2, 5, 10, 20, 100]\n",
    "ENN_reg_e_tuning(data_X, data_y, tuning_idx, es, repeat = 5,D = euclidean, score = MSE)"
   ]
  },
  {
   "cell_type": "code",
   "execution_count": null,
   "metadata": {},
   "outputs": [],
   "source": [
    "ks = [1,2,3,4,5]\n",
    "\n",
    "def ENN_reg_k_tuning(data_X, data_y, tuning_idx, ks,e=1, repeat=5, D = euclidean, score = MSE):\n",
    "    tuning_X, tuning_y= data_X[tuning_idx], data_y[tuning_idx]\n",
    "    res = []\n",
    "    for k in ks:\n",
    "        edited_X, edited_y=Edit_regression(data_X, data_y,k=1, h=1, e=1, D = D)\n",
    "        res_sub = []\n",
    "        for i in range(repeat):\n",
    "            y_hats= []\n",
    "            for xq in tuning_X:\n",
    "                y_hats.append(KNN_regression(edited_X, edited_y, xq, k, h=1, D = D))\n",
    "            res_sub.append(score(tuning_y, y_hats))\n",
    "        res.append(np.mean(res_sub))\n",
    "    best_k = ks[np.argmin(res)]\n",
    "    ###plotting results###\n",
    "    plt.plot(ks, res)\n",
    "    plt.xlabel('k')\n",
    "    plt.ylabel('score')\n",
    "    ######################\n",
    "    print(best_k)\n",
    "data_X, data_y = machine_X_norm, machine_y\n",
    "k_splits, tuning_idx = stratefied_cv_split(data_X, data_y)   \n",
    "ENN_reg_k_tuning(data_X, data_y, tuning_idx, ks, repeat = 5,D = euclidean, score = MSE)"
   ]
  },
  {
   "cell_type": "code",
   "execution_count": null,
   "metadata": {},
   "outputs": [],
   "source": [
    "def ENN_reg_h_tuning(data_X, data_y, tuning_idx, hs, k= 1,e=1, repeat=5, D = euclidean, score = MSE):\n",
    "    tuning_X, tuning_y= data_X[tuning_idx], data_y[tuning_idx]\n",
    "    res = []\n",
    "    for h in hs:\n",
    "        edited_X, edited_y=Edit_regression(data_X, data_y,h=h, e=e,k=1, D = D)\n",
    "        res_sub = []\n",
    "        for i in range(repeat):\n",
    "            y_hats= []\n",
    "            for xq in tuning_X:\n",
    "                y_hats.append(KNN_regression(edited_X, edited_y, xq, k, h, D = D))\n",
    "            res_sub.append(score(tuning_y, y_hats))\n",
    "        res.append(np.mean(res_sub))\n",
    "    best_h = hs[np.argmin(res)]\n",
    "    ###plotting results###\n",
    "    plt.plot(hs, res)\n",
    "    plt.xlabel('h')\n",
    "    plt.ylabel('score')\n",
    "    ######################\n",
    "    print(best_h)\n",
    "    \n",
    "data_X, data_y = machine_X_norm, machine_y\n",
    "k_splits, tuning_idx = stratefied_cv_split(data_X, data_y) \n",
    "hs = np.linspace(1, 10, 10)\n",
    "ENN_reg_h_tuning(data_X, data_y, tuning_idx, hs, repeat = 5,D = euclidean, score = MSE)"
   ]
  },
  {
   "cell_type": "code",
   "execution_count": null,
   "metadata": {},
   "outputs": [],
   "source": [
    "#ENN tuning on abalone\n",
    "data_X, data_y = abalone_X_norm[:500], abalone_y_norm[:500]\n",
    "k_splits, tuning_idx = stratefied_cv_split_continuous(data_X, data_y)\n",
    "es= np.linspace(1e-9, 1e-2, 5)\n",
    "ENN_reg_e_tuning(data_X, data_y, tuning_idx, es, k=4, h=2,repeat = 3,D = euclidean, score = MSE)"
   ]
  },
  {
   "cell_type": "code",
   "execution_count": null,
   "metadata": {},
   "outputs": [],
   "source": []
  },
  {
   "cell_type": "code",
   "execution_count": null,
   "metadata": {},
   "outputs": [],
   "source": []
  }
 ],
 "metadata": {
  "kernelspec": {
   "display_name": "Python 3",
   "language": "python",
   "name": "python3"
  },
  "language_info": {
   "codemirror_mode": {
    "name": "ipython",
    "version": 3
   },
   "file_extension": ".py",
   "mimetype": "text/x-python",
   "name": "python",
   "nbconvert_exporter": "python",
   "pygments_lexer": "ipython3",
   "version": "3.8.5"
  }
 },
 "nbformat": 4,
 "nbformat_minor": 2
}
